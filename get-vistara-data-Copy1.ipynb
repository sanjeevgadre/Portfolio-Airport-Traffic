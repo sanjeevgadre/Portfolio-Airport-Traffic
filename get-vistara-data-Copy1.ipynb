{
 "cells": [
  {
   "cell_type": "code",
   "execution_count": 1,
   "metadata": {},
   "outputs": [],
   "source": [
    "import numpy as np\n",
    "import pandas as pd\n",
    "import os"
   ]
  },
  {
   "cell_type": "code",
   "execution_count": 2,
   "metadata": {},
   "outputs": [],
   "source": [
    "dir_path ='./data/raw/excel'"
   ]
  },
  {
   "cell_type": "code",
   "execution_count": 3,
   "metadata": {},
   "outputs": [],
   "source": [
    "def read_excel_data(file_name):\n",
    "    dat = pd.read_excel(file_name, na_filter = False, convert_float = False)\n",
    "\n",
    "    # Setting the column names\n",
    "    dat.columns = ['num', 'flight', 'operator', 'aircraft', 'frequency', 'from', 'to_time', 'to', \n",
    "                   'from_time', 'eff_from', 'eff_to']  \n",
    "\n",
    "    # Altering the column positions\n",
    "    dat.insert(6, 'from_time', dat.pop('from_time'))\n",
    "    dat.insert(7, 'to', dat.pop('to'))\n",
    "    \n",
    "    return dat"
   ]
  },
  {
   "cell_type": "code",
   "execution_count": 4,
   "metadata": {},
   "outputs": [
    {
     "data": {
      "text/html": [
       "<div>\n",
       "<style scoped>\n",
       "    .dataframe tbody tr th:only-of-type {\n",
       "        vertical-align: middle;\n",
       "    }\n",
       "\n",
       "    .dataframe tbody tr th {\n",
       "        vertical-align: top;\n",
       "    }\n",
       "\n",
       "    .dataframe thead th {\n",
       "        text-align: right;\n",
       "    }\n",
       "</style>\n",
       "<table border=\"1\" class=\"dataframe\">\n",
       "  <thead>\n",
       "    <tr style=\"text-align: right;\">\n",
       "      <th></th>\n",
       "      <th>num</th>\n",
       "      <th>flight</th>\n",
       "      <th>operator</th>\n",
       "      <th>aircraft</th>\n",
       "      <th>frequency</th>\n",
       "      <th>from</th>\n",
       "      <th>from_time</th>\n",
       "      <th>to</th>\n",
       "      <th>to_time</th>\n",
       "      <th>eff_from</th>\n",
       "      <th>eff_to</th>\n",
       "    </tr>\n",
       "  </thead>\n",
       "  <tbody>\n",
       "    <tr>\n",
       "      <th>0</th>\n",
       "      <td>Ahmedabad-changed</td>\n",
       "      <td></td>\n",
       "      <td></td>\n",
       "      <td></td>\n",
       "      <td></td>\n",
       "      <td></td>\n",
       "      <td></td>\n",
       "      <td></td>\n",
       "      <td></td>\n",
       "      <td></td>\n",
       "      <td></td>\n",
       "    </tr>\n",
       "    <tr>\n",
       "      <th>1</th>\n",
       "      <td>1</td>\n",
       "      <td>UK 939</td>\n",
       "      <td>UK</td>\n",
       "      <td>A 320</td>\n",
       "      <td>Daily</td>\n",
       "      <td>DEL</td>\n",
       "      <td></td>\n",
       "      <td></td>\n",
       "      <td>6:25</td>\n",
       "      <td>2019-11-25 00:00:00</td>\n",
       "      <td>2020-03-28 00:00:00</td>\n",
       "    </tr>\n",
       "    <tr>\n",
       "      <th>2</th>\n",
       "      <td>2</td>\n",
       "      <td>UK 936</td>\n",
       "      <td>UK</td>\n",
       "      <td>A 320</td>\n",
       "      <td>Daily</td>\n",
       "      <td></td>\n",
       "      <td>7:05</td>\n",
       "      <td>DEL</td>\n",
       "      <td></td>\n",
       "      <td>2019-11-25 00:00:00</td>\n",
       "      <td>2020-03-28 00:00:00</td>\n",
       "    </tr>\n",
       "    <tr>\n",
       "      <th>3</th>\n",
       "      <td>3</td>\n",
       "      <td>UK 959</td>\n",
       "      <td>UK</td>\n",
       "      <td>A 320</td>\n",
       "      <td>Daily</td>\n",
       "      <td>DEL</td>\n",
       "      <td></td>\n",
       "      <td></td>\n",
       "      <td>8:00</td>\n",
       "      <td>2019-10-27 00:00:00</td>\n",
       "      <td>2020-03-28 00:00:00</td>\n",
       "    </tr>\n",
       "    <tr>\n",
       "      <th>4</th>\n",
       "      <td>4</td>\n",
       "      <td>UK 946</td>\n",
       "      <td>UK</td>\n",
       "      <td>A 320</td>\n",
       "      <td>Daily</td>\n",
       "      <td></td>\n",
       "      <td>8:40</td>\n",
       "      <td>DEL</td>\n",
       "      <td></td>\n",
       "      <td>2019-10-27 00:00:00</td>\n",
       "      <td>2020-03-28 00:00:00</td>\n",
       "    </tr>\n",
       "  </tbody>\n",
       "</table>\n",
       "</div>"
      ],
      "text/plain": [
       "                 num  flight operator aircraft frequency from from_time   to  \\\n",
       "0  Ahmedabad-changed                                                           \n",
       "1                  1  UK 939       UK    A 320     Daily  DEL                  \n",
       "2                  2  UK 936       UK    A 320     Daily           7:05  DEL   \n",
       "3                  3  UK 959       UK    A 320     Daily  DEL                  \n",
       "4                  4  UK 946       UK    A 320     Daily           8:40  DEL   \n",
       "\n",
       "  to_time             eff_from               eff_to  \n",
       "0                                                    \n",
       "1    6:25  2019-11-25 00:00:00  2020-03-28 00:00:00  \n",
       "2          2019-11-25 00:00:00  2020-03-28 00:00:00  \n",
       "3    8:00  2019-10-27 00:00:00  2020-03-28 00:00:00  \n",
       "4          2019-10-27 00:00:00  2020-03-28 00:00:00  "
      ]
     },
     "execution_count": 4,
     "metadata": {},
     "output_type": "execute_result"
    }
   ],
   "source": [
    "file_name = 'Vistara.xlsx'\n",
    "\n",
    "file_name = dir_path + '/' + file_name\n",
    "dat = read_excel_data(file_name)\n",
    "dat.head()"
   ]
  },
  {
   "cell_type": "code",
   "execution_count": 5,
   "metadata": {},
   "outputs": [
    {
     "data": {
      "text/plain": [
       "(554, 11)"
      ]
     },
     "execution_count": 5,
     "metadata": {},
     "output_type": "execute_result"
    }
   ],
   "source": [
    "dat.shape"
   ]
  },
  {
   "cell_type": "code",
   "execution_count": 6,
   "metadata": {},
   "outputs": [],
   "source": [
    "def wrangle_rows(df):\n",
    "    # dropping superflous header rows\n",
    "    \n",
    "    r_drop_idx = [i for i in range(df.shape[0]) if ((not isinstance(df.iloc[i, 0], float)) and \n",
    "                                                    (df.iloc[i, 4] == 'Frequency'))]\n",
    "      \n",
    "    df = df.drop(r_drop_idx, axis = 0)\n",
    "    \n",
    "    df = df.reset_index() # resetting the index after dropping rows\n",
    "    df = df.drop('index', axis = 1) # dropping the previous index\n",
    "    \n",
    "    # dropping city names subheader rows\n",
    "    r_drop_idx = [i for i in range(df.shape[0]) if isinstance(df.iloc[i, 0], str)]\n",
    "    \n",
    "    for i in range(len(r_drop_idx)-1):\n",
    "        df.iloc[r_drop_idx[i] + 1: r_drop_idx[i+1], 0] = df.iloc[r_drop_idx[i], 0]\n",
    "    \n",
    "    # Separately for the last sub-head in the list\n",
    "    df.iloc[r_drop_idx[-1] + 1: df.shape[0], 0] = df.iloc[r_drop_idx[-1], 0]\n",
    "        \n",
    "    df = df.drop(r_drop_idx, axis = 0) \n",
    "    df = df.reset_index() # resetting the index after dropping rows\n",
    "    df = df.drop('index', axis = 1) # dropping the previous index\n",
    "    \n",
    "    df = df.rename(columns = {'num': 'station'}, errors = 'raise')\n",
    "    \n",
    "    return df"
   ]
  },
  {
   "cell_type": "code",
   "execution_count": 7,
   "metadata": {},
   "outputs": [
    {
     "data": {
      "text/plain": [
       "(515, 11)"
      ]
     },
     "execution_count": 7,
     "metadata": {},
     "output_type": "execute_result"
    }
   ],
   "source": [
    "dat = wrangle_rows(dat)\n",
    "dat.shape"
   ]
  },
  {
   "cell_type": "code",
   "execution_count": 8,
   "metadata": {},
   "outputs": [],
   "source": [
    "def wrangle_cols(df):\n",
    "    idx = df.loc[:,'from'] == ''\n",
    "    df.loc[idx, 'from'] = df.loc[idx, 'station']\n",
    "\n",
    "    idx = df.loc[:, 'to'] == ''\n",
    "    df.loc[idx, 'to'] = df.loc[idx, 'station']\n",
    "\n",
    "    df = df.drop(['station'], axis = 1)\n",
    "\n",
    "    return df"
   ]
  },
  {
   "cell_type": "code",
   "execution_count": 9,
   "metadata": {},
   "outputs": [
    {
     "data": {
      "text/html": [
       "<div>\n",
       "<style scoped>\n",
       "    .dataframe tbody tr th:only-of-type {\n",
       "        vertical-align: middle;\n",
       "    }\n",
       "\n",
       "    .dataframe tbody tr th {\n",
       "        vertical-align: top;\n",
       "    }\n",
       "\n",
       "    .dataframe thead th {\n",
       "        text-align: right;\n",
       "    }\n",
       "</style>\n",
       "<table border=\"1\" class=\"dataframe\">\n",
       "  <thead>\n",
       "    <tr style=\"text-align: right;\">\n",
       "      <th></th>\n",
       "      <th>flight</th>\n",
       "      <th>operator</th>\n",
       "      <th>aircraft</th>\n",
       "      <th>frequency</th>\n",
       "      <th>from</th>\n",
       "      <th>from_time</th>\n",
       "      <th>to</th>\n",
       "      <th>to_time</th>\n",
       "      <th>eff_from</th>\n",
       "      <th>eff_to</th>\n",
       "    </tr>\n",
       "  </thead>\n",
       "  <tbody>\n",
       "    <tr>\n",
       "      <th>0</th>\n",
       "      <td>UK 939</td>\n",
       "      <td>UK</td>\n",
       "      <td>A 320</td>\n",
       "      <td>Daily</td>\n",
       "      <td>DEL</td>\n",
       "      <td></td>\n",
       "      <td>Ahmedabad-changed</td>\n",
       "      <td>6:25</td>\n",
       "      <td>2019-11-25 00:00:00</td>\n",
       "      <td>2020-03-28 00:00:00</td>\n",
       "    </tr>\n",
       "    <tr>\n",
       "      <th>1</th>\n",
       "      <td>UK 936</td>\n",
       "      <td>UK</td>\n",
       "      <td>A 320</td>\n",
       "      <td>Daily</td>\n",
       "      <td>Ahmedabad-changed</td>\n",
       "      <td>7:05</td>\n",
       "      <td>DEL</td>\n",
       "      <td></td>\n",
       "      <td>2019-11-25 00:00:00</td>\n",
       "      <td>2020-03-28 00:00:00</td>\n",
       "    </tr>\n",
       "    <tr>\n",
       "      <th>2</th>\n",
       "      <td>UK 959</td>\n",
       "      <td>UK</td>\n",
       "      <td>A 320</td>\n",
       "      <td>Daily</td>\n",
       "      <td>DEL</td>\n",
       "      <td></td>\n",
       "      <td>Ahmedabad-changed</td>\n",
       "      <td>8:00</td>\n",
       "      <td>2019-10-27 00:00:00</td>\n",
       "      <td>2020-03-28 00:00:00</td>\n",
       "    </tr>\n",
       "    <tr>\n",
       "      <th>3</th>\n",
       "      <td>UK 946</td>\n",
       "      <td>UK</td>\n",
       "      <td>A 320</td>\n",
       "      <td>Daily</td>\n",
       "      <td>Ahmedabad-changed</td>\n",
       "      <td>8:40</td>\n",
       "      <td>DEL</td>\n",
       "      <td></td>\n",
       "      <td>2019-10-27 00:00:00</td>\n",
       "      <td>2020-03-28 00:00:00</td>\n",
       "    </tr>\n",
       "    <tr>\n",
       "      <th>4</th>\n",
       "      <td>UK 979</td>\n",
       "      <td>UK</td>\n",
       "      <td>A 320</td>\n",
       "      <td>123456</td>\n",
       "      <td>DEL</td>\n",
       "      <td></td>\n",
       "      <td>Ahmedabad-changed</td>\n",
       "      <td>10:20</td>\n",
       "      <td>2019-10-28 00:00:00</td>\n",
       "      <td>2020-03-28 00:00:00</td>\n",
       "    </tr>\n",
       "  </tbody>\n",
       "</table>\n",
       "</div>"
      ],
      "text/plain": [
       "   flight operator aircraft frequency               from from_time  \\\n",
       "0  UK 939       UK    A 320     Daily                DEL             \n",
       "1  UK 936       UK    A 320     Daily  Ahmedabad-changed      7:05   \n",
       "2  UK 959       UK    A 320     Daily                DEL             \n",
       "3  UK 946       UK    A 320     Daily  Ahmedabad-changed      8:40   \n",
       "4  UK 979       UK    A 320    123456                DEL             \n",
       "\n",
       "                  to to_time             eff_from               eff_to  \n",
       "0  Ahmedabad-changed    6:25  2019-11-25 00:00:00  2020-03-28 00:00:00  \n",
       "1                DEL          2019-11-25 00:00:00  2020-03-28 00:00:00  \n",
       "2  Ahmedabad-changed    8:00  2019-10-27 00:00:00  2020-03-28 00:00:00  \n",
       "3                DEL          2019-10-27 00:00:00  2020-03-28 00:00:00  \n",
       "4  Ahmedabad-changed   10:20  2019-10-28 00:00:00  2020-03-28 00:00:00  "
      ]
     },
     "execution_count": 9,
     "metadata": {},
     "output_type": "execute_result"
    }
   ],
   "source": [
    "dat = wrangle_cols(dat)\n",
    "dat.head()"
   ]
  },
  {
   "cell_type": "code",
   "execution_count": 10,
   "metadata": {},
   "outputs": [],
   "source": [
    "def fix_city_spelling(df):\n",
    "    city_names = {'Delhi' : 'New Delhi', 'Bhubaneshwar' : 'Bhubaneswar',\n",
    "                  'Trivandrum' : 'Thiruvananthapuram', 'Pondicherry' : 'Puducherry',\n",
    "                  'Porbander' : 'Porbandar', 'Tirupathi' : 'Tirupati',\n",
    "                  'Tuticorin' : 'Thoothukudi', 'Vizag' : 'Visakhapatnam',\n",
    "                  'Cuddapah': 'Kadapa', 'Jalgoan' : 'Jalgaon',\n",
    "                  'Rajamundry' : 'Rajahmundry', 'Aizawal' : 'Aizawl',\n",
    "                  'Trichy' : 'Tiruchirappally', 'Bathinda' : 'Bhatinda',\n",
    "                  'Passighat' : 'Pasighat'}\n",
    "    \n",
    "    missing_city_codes = []\n",
    "    \n",
    "    for i in range(df.shape[0]):\n",
    "            if df['from'][i] in list(city_names.keys()): df['from'][i] = city_names[df['from'][i]]\n",
    "            if df['to'][i] in list(city_names.keys()): df['to'][i] = city_names[df['to'][i]]\n",
    "            \n",
    "    return df"
   ]
  },
  {
   "cell_type": "code",
   "execution_count": 11,
   "metadata": {},
   "outputs": [
    {
     "data": {
      "text/html": [
       "<div>\n",
       "<style scoped>\n",
       "    .dataframe tbody tr th:only-of-type {\n",
       "        vertical-align: middle;\n",
       "    }\n",
       "\n",
       "    .dataframe tbody tr th {\n",
       "        vertical-align: top;\n",
       "    }\n",
       "\n",
       "    .dataframe thead th {\n",
       "        text-align: right;\n",
       "    }\n",
       "</style>\n",
       "<table border=\"1\" class=\"dataframe\">\n",
       "  <thead>\n",
       "    <tr style=\"text-align: right;\">\n",
       "      <th></th>\n",
       "      <th>flight</th>\n",
       "      <th>operator</th>\n",
       "      <th>aircraft</th>\n",
       "      <th>frequency</th>\n",
       "      <th>from</th>\n",
       "      <th>from_time</th>\n",
       "      <th>to</th>\n",
       "      <th>to_time</th>\n",
       "      <th>eff_from</th>\n",
       "      <th>eff_to</th>\n",
       "    </tr>\n",
       "  </thead>\n",
       "  <tbody>\n",
       "    <tr>\n",
       "      <th>0</th>\n",
       "      <td>UK 939</td>\n",
       "      <td>UK</td>\n",
       "      <td>A 320</td>\n",
       "      <td>Daily</td>\n",
       "      <td>DEL</td>\n",
       "      <td></td>\n",
       "      <td>Ahmedabad-changed</td>\n",
       "      <td>6:25</td>\n",
       "      <td>2019-11-25 00:00:00</td>\n",
       "      <td>2020-03-28 00:00:00</td>\n",
       "    </tr>\n",
       "    <tr>\n",
       "      <th>1</th>\n",
       "      <td>UK 936</td>\n",
       "      <td>UK</td>\n",
       "      <td>A 320</td>\n",
       "      <td>Daily</td>\n",
       "      <td>Ahmedabad-changed</td>\n",
       "      <td>7:05</td>\n",
       "      <td>DEL</td>\n",
       "      <td></td>\n",
       "      <td>2019-11-25 00:00:00</td>\n",
       "      <td>2020-03-28 00:00:00</td>\n",
       "    </tr>\n",
       "    <tr>\n",
       "      <th>2</th>\n",
       "      <td>UK 959</td>\n",
       "      <td>UK</td>\n",
       "      <td>A 320</td>\n",
       "      <td>Daily</td>\n",
       "      <td>DEL</td>\n",
       "      <td></td>\n",
       "      <td>Ahmedabad-changed</td>\n",
       "      <td>8:00</td>\n",
       "      <td>2019-10-27 00:00:00</td>\n",
       "      <td>2020-03-28 00:00:00</td>\n",
       "    </tr>\n",
       "    <tr>\n",
       "      <th>3</th>\n",
       "      <td>UK 946</td>\n",
       "      <td>UK</td>\n",
       "      <td>A 320</td>\n",
       "      <td>Daily</td>\n",
       "      <td>Ahmedabad-changed</td>\n",
       "      <td>8:40</td>\n",
       "      <td>DEL</td>\n",
       "      <td></td>\n",
       "      <td>2019-10-27 00:00:00</td>\n",
       "      <td>2020-03-28 00:00:00</td>\n",
       "    </tr>\n",
       "    <tr>\n",
       "      <th>4</th>\n",
       "      <td>UK 979</td>\n",
       "      <td>UK</td>\n",
       "      <td>A 320</td>\n",
       "      <td>123456</td>\n",
       "      <td>DEL</td>\n",
       "      <td></td>\n",
       "      <td>Ahmedabad-changed</td>\n",
       "      <td>10:20</td>\n",
       "      <td>2019-10-28 00:00:00</td>\n",
       "      <td>2020-03-28 00:00:00</td>\n",
       "    </tr>\n",
       "  </tbody>\n",
       "</table>\n",
       "</div>"
      ],
      "text/plain": [
       "   flight operator aircraft frequency               from from_time  \\\n",
       "0  UK 939       UK    A 320     Daily                DEL             \n",
       "1  UK 936       UK    A 320     Daily  Ahmedabad-changed      7:05   \n",
       "2  UK 959       UK    A 320     Daily                DEL             \n",
       "3  UK 946       UK    A 320     Daily  Ahmedabad-changed      8:40   \n",
       "4  UK 979       UK    A 320    123456                DEL             \n",
       "\n",
       "                  to to_time             eff_from               eff_to  \n",
       "0  Ahmedabad-changed    6:25  2019-11-25 00:00:00  2020-03-28 00:00:00  \n",
       "1                DEL          2019-11-25 00:00:00  2020-03-28 00:00:00  \n",
       "2  Ahmedabad-changed    8:00  2019-10-27 00:00:00  2020-03-28 00:00:00  \n",
       "3                DEL          2019-10-27 00:00:00  2020-03-28 00:00:00  \n",
       "4  Ahmedabad-changed   10:20  2019-10-28 00:00:00  2020-03-28 00:00:00  "
      ]
     },
     "execution_count": 11,
     "metadata": {},
     "output_type": "execute_result"
    }
   ],
   "source": [
    "dat = fix_city_spelling(dat)\n",
    "dat.head()"
   ]
  },
  {
   "cell_type": "code",
   "execution_count": 25,
   "metadata": {},
   "outputs": [],
   "source": [
    "def wrangle_iata_codes(df):\n",
    "    # Load the dictionary, previously created, mapping city names to corresponding IATA codes\n",
    "    \n",
    "    import pickle\n",
    "    \n",
    "    with open('./data/processed/city_to_codes_dict.txt', 'rb') as handle:\n",
    "        city_to_codes = pickle.loads(handle.read())\n",
    "    \n",
    "    # To capture city names in the df for which an equivalen IATA code is missing\n",
    "    missing_city_names = []\n",
    "    \n",
    "    idx = [i for i in range(df.shape[0]) if not df['from'][i].isupper()]\n",
    "    for i in idx: \n",
    "        try: \n",
    "            df['from'][i] = city_to_codes[df['from'][i]]\n",
    "        except KeyError:\n",
    "            if df['from'][i] not in missing_city_names:\n",
    "                missing_city_names.append(df['from'][i])\n",
    "        \n",
    "    idx = [i for i in range(df.shape[0]) if not df['to'][i].isupper()]\n",
    "    for i in idx: \n",
    "        try:\n",
    "            df['to'][i] = city_to_codes[df['to'][i]]\n",
    "        except KeyError:\n",
    "            if df['to'][i] not in missing_city_names:\n",
    "                missing_city_names.append(df['to'][i])\n",
    "        \n",
    "    return missing_city_names, df"
   ]
  },
  {
   "cell_type": "code",
   "execution_count": 26,
   "metadata": {},
   "outputs": [
    {
     "name": "stdout",
     "output_type": "stream",
     "text": [
      "The list of city names either with wrong spelling or missing IATA codes\n",
      " ['Ahmedabad-changed', 'Chennai-changed', 'Varanasi-changed']\n"
     ]
    }
   ],
   "source": [
    "missing_city_names, dat = wrangle_iata_codes(dat)\n",
    "\n",
    "print('The list of city names either with wrong spelling or missing IATA codes\\n', missing_city_names)"
   ]
  },
  {
   "cell_type": "code",
   "execution_count": 70,
   "metadata": {},
   "outputs": [
    {
     "data": {
      "text/html": [
       "<div>\n",
       "<style scoped>\n",
       "    .dataframe tbody tr th:only-of-type {\n",
       "        vertical-align: middle;\n",
       "    }\n",
       "\n",
       "    .dataframe tbody tr th {\n",
       "        vertical-align: top;\n",
       "    }\n",
       "\n",
       "    .dataframe thead th {\n",
       "        text-align: right;\n",
       "    }\n",
       "</style>\n",
       "<table border=\"1\" class=\"dataframe\">\n",
       "  <thead>\n",
       "    <tr style=\"text-align: right;\">\n",
       "      <th></th>\n",
       "      <th>flight</th>\n",
       "      <th>operator</th>\n",
       "      <th>aircraft</th>\n",
       "      <th>frequency</th>\n",
       "      <th>from</th>\n",
       "      <th>from_time</th>\n",
       "      <th>to</th>\n",
       "      <th>to_time</th>\n",
       "      <th>eff_from</th>\n",
       "      <th>eff_to</th>\n",
       "    </tr>\n",
       "  </thead>\n",
       "  <tbody>\n",
       "    <tr>\n",
       "      <th>0</th>\n",
       "      <td>UK 939</td>\n",
       "      <td>UK</td>\n",
       "      <td>A 320</td>\n",
       "      <td>Daily</td>\n",
       "      <td>DEL</td>\n",
       "      <td></td>\n",
       "      <td>AMD</td>\n",
       "      <td>6:25</td>\n",
       "      <td>2019-11-25 00:00:00</td>\n",
       "      <td>2020-03-28 00:00:00</td>\n",
       "    </tr>\n",
       "    <tr>\n",
       "      <th>1</th>\n",
       "      <td>UK 936</td>\n",
       "      <td>UK</td>\n",
       "      <td>A 320</td>\n",
       "      <td>Daily</td>\n",
       "      <td>AMD</td>\n",
       "      <td>7:05</td>\n",
       "      <td>DEL</td>\n",
       "      <td></td>\n",
       "      <td>2019-11-25 00:00:00</td>\n",
       "      <td>2020-03-28 00:00:00</td>\n",
       "    </tr>\n",
       "    <tr>\n",
       "      <th>2</th>\n",
       "      <td>UK 959</td>\n",
       "      <td>UK</td>\n",
       "      <td>A 320</td>\n",
       "      <td>Daily</td>\n",
       "      <td>DEL</td>\n",
       "      <td></td>\n",
       "      <td>AMD</td>\n",
       "      <td>8:00</td>\n",
       "      <td>2019-10-27 00:00:00</td>\n",
       "      <td>2020-03-28 00:00:00</td>\n",
       "    </tr>\n",
       "    <tr>\n",
       "      <th>3</th>\n",
       "      <td>UK 946</td>\n",
       "      <td>UK</td>\n",
       "      <td>A 320</td>\n",
       "      <td>Daily</td>\n",
       "      <td>AMD</td>\n",
       "      <td>8:40</td>\n",
       "      <td>DEL</td>\n",
       "      <td></td>\n",
       "      <td>2019-10-27 00:00:00</td>\n",
       "      <td>2020-03-28 00:00:00</td>\n",
       "    </tr>\n",
       "    <tr>\n",
       "      <th>4</th>\n",
       "      <td>UK 979</td>\n",
       "      <td>UK</td>\n",
       "      <td>A 320</td>\n",
       "      <td>123456</td>\n",
       "      <td>DEL</td>\n",
       "      <td></td>\n",
       "      <td>AMD</td>\n",
       "      <td>10:20</td>\n",
       "      <td>2019-10-28 00:00:00</td>\n",
       "      <td>2020-03-28 00:00:00</td>\n",
       "    </tr>\n",
       "  </tbody>\n",
       "</table>\n",
       "</div>"
      ],
      "text/plain": [
       "   flight operator aircraft frequency from from_time   to to_time  \\\n",
       "0  UK 939       UK    A 320     Daily  DEL            AMD    6:25   \n",
       "1  UK 936       UK    A 320     Daily  AMD      7:05  DEL           \n",
       "2  UK 959       UK    A 320     Daily  DEL            AMD    8:00   \n",
       "3  UK 946       UK    A 320     Daily  AMD      8:40  DEL           \n",
       "4  UK 979       UK    A 320    123456  DEL            AMD   10:20   \n",
       "\n",
       "              eff_from               eff_to  \n",
       "0  2019-11-25 00:00:00  2020-03-28 00:00:00  \n",
       "1  2019-11-25 00:00:00  2020-03-28 00:00:00  \n",
       "2  2019-10-27 00:00:00  2020-03-28 00:00:00  \n",
       "3  2019-10-27 00:00:00  2020-03-28 00:00:00  \n",
       "4  2019-10-28 00:00:00  2020-03-28 00:00:00  "
      ]
     },
     "execution_count": 70,
     "metadata": {},
     "output_type": "execute_result"
    }
   ],
   "source": [
    "missing_city_names, dat = wrangle_iata_codes(dat)\n",
    "print('The list of city names either with wrong spelling or missing IATA codes\\n', missing_city_names)\n",
    "dat.head()"
   ]
  },
  {
   "cell_type": "code",
   "execution_count": 71,
   "metadata": {},
   "outputs": [],
   "source": [
    "def drop_dummy_scheds(df):\n",
    "    idx = [i for i in range(df.shape[0]) if df['eff_from'][i] == df['eff_to'][i]]\n",
    "    df = df.drop(idx, axis = 0)\n",
    "    df = df.reset_index()\n",
    "    df = df.drop(['index'], axis = 1)\n",
    "    \n",
    "    return df"
   ]
  },
  {
   "cell_type": "code",
   "execution_count": 72,
   "metadata": {},
   "outputs": [
    {
     "data": {
      "text/plain": [
       "(486, 10)"
      ]
     },
     "execution_count": 72,
     "metadata": {},
     "output_type": "execute_result"
    }
   ],
   "source": [
    "dat = drop_dummy_scheds(dat)\n",
    "dat.shape"
   ]
  },
  {
   "cell_type": "code",
   "execution_count": 73,
   "metadata": {},
   "outputs": [],
   "source": [
    "def drop_noncurrent_scheds(df, tz):\n",
    "    today = datetime.now(tz).date()\n",
    "    idx = [i for i in range(df.shape[0]) \n",
    "           if (today <=  datetime.date(df['eff_from'][i])) or (today >= datetime.date(df['eff_to'][i]))]\n",
    "    df = df.drop(idx, axis = 0)\n",
    "    df = df.reset_index()\n",
    "    df = df.drop('index', axis = 1)\n",
    "    \n",
    "    return df"
   ]
  },
  {
   "cell_type": "code",
   "execution_count": 74,
   "metadata": {},
   "outputs": [
    {
     "data": {
      "text/plain": [
       "(462, 10)"
      ]
     },
     "execution_count": 74,
     "metadata": {},
     "output_type": "execute_result"
    }
   ],
   "source": [
    "from datetime import datetime\n",
    "import pytz\n",
    "\n",
    "tz = pytz.timezone('Asia/Calcutta')\n",
    "dat = drop_noncurrent_scheds(dat, tz)\n",
    "dat.shape"
   ]
  },
  {
   "cell_type": "code",
   "execution_count": 75,
   "metadata": {},
   "outputs": [],
   "source": [
    "def wrangle_frequency(df):\n",
    "# Convert frequency into a string of numbers\n",
    "    for i in range(df.shape[0]):\n",
    "        if isinstance(df.frequency[i], str):\n",
    "            df.frequency[i] = '1234567'\n",
    "        else:\n",
    "            df.frequency[i] = str(int(df.frequency[i]))\n",
    "\n",
    "# Convert string of numbers into list of numbers\n",
    "        df.frequency[i] = list(df.frequency[i]) # Split str\n",
    "        df.frequency[i] = list(map(int, df.frequency[i])) # Convert from str to int\n",
    "    \n",
    "    return df"
   ]
  },
  {
   "cell_type": "code",
   "execution_count": 76,
   "metadata": {},
   "outputs": [
    {
     "data": {
      "text/html": [
       "<div>\n",
       "<style scoped>\n",
       "    .dataframe tbody tr th:only-of-type {\n",
       "        vertical-align: middle;\n",
       "    }\n",
       "\n",
       "    .dataframe tbody tr th {\n",
       "        vertical-align: top;\n",
       "    }\n",
       "\n",
       "    .dataframe thead th {\n",
       "        text-align: right;\n",
       "    }\n",
       "</style>\n",
       "<table border=\"1\" class=\"dataframe\">\n",
       "  <thead>\n",
       "    <tr style=\"text-align: right;\">\n",
       "      <th></th>\n",
       "      <th>flight</th>\n",
       "      <th>operator</th>\n",
       "      <th>aircraft</th>\n",
       "      <th>frequency</th>\n",
       "      <th>from</th>\n",
       "      <th>from_time</th>\n",
       "      <th>to</th>\n",
       "      <th>to_time</th>\n",
       "      <th>eff_from</th>\n",
       "      <th>eff_to</th>\n",
       "    </tr>\n",
       "  </thead>\n",
       "  <tbody>\n",
       "    <tr>\n",
       "      <th>0</th>\n",
       "      <td>UK 939</td>\n",
       "      <td>UK</td>\n",
       "      <td>A 320</td>\n",
       "      <td>[1, 2, 3, 4, 5, 6, 7]</td>\n",
       "      <td>DEL</td>\n",
       "      <td></td>\n",
       "      <td>AMD</td>\n",
       "      <td>6:25</td>\n",
       "      <td>2019-11-25 00:00:00</td>\n",
       "      <td>2020-03-28 00:00:00</td>\n",
       "    </tr>\n",
       "    <tr>\n",
       "      <th>1</th>\n",
       "      <td>UK 936</td>\n",
       "      <td>UK</td>\n",
       "      <td>A 320</td>\n",
       "      <td>[1, 2, 3, 4, 5, 6, 7]</td>\n",
       "      <td>AMD</td>\n",
       "      <td>7:05</td>\n",
       "      <td>DEL</td>\n",
       "      <td></td>\n",
       "      <td>2019-11-25 00:00:00</td>\n",
       "      <td>2020-03-28 00:00:00</td>\n",
       "    </tr>\n",
       "    <tr>\n",
       "      <th>2</th>\n",
       "      <td>UK 959</td>\n",
       "      <td>UK</td>\n",
       "      <td>A 320</td>\n",
       "      <td>[1, 2, 3, 4, 5, 6, 7]</td>\n",
       "      <td>DEL</td>\n",
       "      <td></td>\n",
       "      <td>AMD</td>\n",
       "      <td>8:00</td>\n",
       "      <td>2019-10-27 00:00:00</td>\n",
       "      <td>2020-03-28 00:00:00</td>\n",
       "    </tr>\n",
       "    <tr>\n",
       "      <th>3</th>\n",
       "      <td>UK 946</td>\n",
       "      <td>UK</td>\n",
       "      <td>A 320</td>\n",
       "      <td>[1, 2, 3, 4, 5, 6, 7]</td>\n",
       "      <td>AMD</td>\n",
       "      <td>8:40</td>\n",
       "      <td>DEL</td>\n",
       "      <td></td>\n",
       "      <td>2019-10-27 00:00:00</td>\n",
       "      <td>2020-03-28 00:00:00</td>\n",
       "    </tr>\n",
       "    <tr>\n",
       "      <th>4</th>\n",
       "      <td>UK 979</td>\n",
       "      <td>UK</td>\n",
       "      <td>A 320</td>\n",
       "      <td>[1, 2, 3, 4, 5, 6]</td>\n",
       "      <td>DEL</td>\n",
       "      <td></td>\n",
       "      <td>AMD</td>\n",
       "      <td>10:20</td>\n",
       "      <td>2019-10-28 00:00:00</td>\n",
       "      <td>2020-03-28 00:00:00</td>\n",
       "    </tr>\n",
       "  </tbody>\n",
       "</table>\n",
       "</div>"
      ],
      "text/plain": [
       "   flight operator aircraft              frequency from from_time   to  \\\n",
       "0  UK 939       UK    A 320  [1, 2, 3, 4, 5, 6, 7]  DEL            AMD   \n",
       "1  UK 936       UK    A 320  [1, 2, 3, 4, 5, 6, 7]  AMD      7:05  DEL   \n",
       "2  UK 959       UK    A 320  [1, 2, 3, 4, 5, 6, 7]  DEL            AMD   \n",
       "3  UK 946       UK    A 320  [1, 2, 3, 4, 5, 6, 7]  AMD      8:40  DEL   \n",
       "4  UK 979       UK    A 320     [1, 2, 3, 4, 5, 6]  DEL            AMD   \n",
       "\n",
       "  to_time             eff_from               eff_to  \n",
       "0    6:25  2019-11-25 00:00:00  2020-03-28 00:00:00  \n",
       "1          2019-11-25 00:00:00  2020-03-28 00:00:00  \n",
       "2    8:00  2019-10-27 00:00:00  2020-03-28 00:00:00  \n",
       "3          2019-10-27 00:00:00  2020-03-28 00:00:00  \n",
       "4   10:20  2019-10-28 00:00:00  2020-03-28 00:00:00  "
      ]
     },
     "execution_count": 76,
     "metadata": {},
     "output_type": "execute_result"
    }
   ],
   "source": [
    "dat = wrangle_frequency(dat)\n",
    "\n",
    "dat.head()"
   ]
  },
  {
   "cell_type": "code",
   "execution_count": 77,
   "metadata": {},
   "outputs": [],
   "source": [
    "def combine_pairs(df):\n",
    "    drop_idx = []\n",
    "    \n",
    "    for i in range(df.shape[0] - 1):\n",
    "        if i not in drop_idx:\n",
    "            for j in range(i+1, df.shape[0]):\n",
    "                if j not in drop_idx:\n",
    "                    if df.flight[i] == df.flight[j] and df.frequency[i] == df.frequency[j] and df['from'][i] == df['from'][j] and df.to[i] == df.to[j]:\n",
    "                        drop_idx.append(j)\n",
    "                        if df.to_time[i] == '': \n",
    "                            df.to_time[i] = df.to_time[j]\n",
    "                        else: \n",
    "                            df.from_time[i] = df.from_time[j]\n",
    "    \n",
    "    df = df.drop(drop_idx, axis = 0)\n",
    "    df = df.reset_index()\n",
    "    df = df.drop('index', axis = 1)\n",
    "    \n",
    "    return(df)"
   ]
  },
  {
   "cell_type": "code",
   "execution_count": 78,
   "metadata": {},
   "outputs": [
    {
     "data": {
      "text/plain": [
       "(292, 10)"
      ]
     },
     "execution_count": 78,
     "metadata": {},
     "output_type": "execute_result"
    }
   ],
   "source": [
    "dat = combine_pairs(dat)\n",
    "\n",
    "dat.shape"
   ]
  },
  {
   "cell_type": "code",
   "execution_count": 79,
   "metadata": {},
   "outputs": [],
   "source": [
    "def combine_freq(df):\n",
    "    drop_idx = []\n",
    "    \n",
    "    for i in range(df.shape[0] - 1):\n",
    "        if i not in drop_idx:\n",
    "            for j in range(i+1, df.shape[0]):\n",
    "                if j not in drop_idx:\n",
    "                    if df.flight[i] == df.flight[j] and df['from'][i] == df['from'][j] and df.to[i] == df.to[j] and df.to_time[i] == df.to_time[j] and df.from_time[i] == df.from_time[j]:\n",
    "                        drop_idx.append(j)\n",
    "                        df.frequency[i] = df.frequency[i] + df.frequency[j]\n",
    "                        df.frequency[i] = list(set(df.frequency[i]))\n",
    "                        \n",
    "    \n",
    "    df = df.drop(drop_idx, axis = 0)\n",
    "    df = df.reset_index()\n",
    "    df = df.drop('index', axis = 1)\n",
    "    \n",
    "    return(df)"
   ]
  },
  {
   "cell_type": "code",
   "execution_count": 80,
   "metadata": {},
   "outputs": [
    {
     "data": {
      "text/plain": [
       "(270, 10)"
      ]
     },
     "execution_count": 80,
     "metadata": {},
     "output_type": "execute_result"
    }
   ],
   "source": [
    "dat = combine_freq(dat)\n",
    "\n",
    "dat.shape"
   ]
  },
  {
   "cell_type": "code",
   "execution_count": 81,
   "metadata": {},
   "outputs": [
    {
     "data": {
      "text/plain": [
       "(253, 10)"
      ]
     },
     "execution_count": 81,
     "metadata": {},
     "output_type": "execute_result"
    }
   ],
   "source": [
    "dat = combine_pairs(dat)\n",
    "\n",
    "dat.shape"
   ]
  },
  {
   "cell_type": "code",
   "execution_count": 82,
   "metadata": {},
   "outputs": [],
   "source": [
    "dat.to_excel('./data/processed/vistara.xlsx')"
   ]
  },
  {
   "cell_type": "markdown",
   "metadata": {},
   "source": [
    "#### BEGIN HERE ####\n",
    "\n",
    "We consider forming pairs with human intervention"
   ]
  },
  {
   "cell_type": "code",
   "execution_count": 113,
   "metadata": {},
   "outputs": [],
   "source": [
    "foo.to_excel('./data/processed/foo.xlsx')"
   ]
  },
  {
   "cell_type": "code",
   "execution_count": 99,
   "metadata": {
    "scrolled": true
   },
   "outputs": [
    {
     "data": {
      "text/html": [
       "<div>\n",
       "<style scoped>\n",
       "    .dataframe tbody tr th:only-of-type {\n",
       "        vertical-align: middle;\n",
       "    }\n",
       "\n",
       "    .dataframe tbody tr th {\n",
       "        vertical-align: top;\n",
       "    }\n",
       "\n",
       "    .dataframe thead th {\n",
       "        text-align: right;\n",
       "    }\n",
       "</style>\n",
       "<table border=\"1\" class=\"dataframe\">\n",
       "  <thead>\n",
       "    <tr style=\"text-align: right;\">\n",
       "      <th></th>\n",
       "      <th>flight</th>\n",
       "      <th>operator</th>\n",
       "      <th>aircraft</th>\n",
       "      <th>frequency</th>\n",
       "      <th>from</th>\n",
       "      <th>time_at_to</th>\n",
       "      <th>to</th>\n",
       "      <th>time_at_from</th>\n",
       "      <th>eff_from</th>\n",
       "      <th>eff_to</th>\n",
       "    </tr>\n",
       "  </thead>\n",
       "  <tbody>\n",
       "    <tr>\n",
       "      <th>0</th>\n",
       "      <td>UK 939</td>\n",
       "      <td>UK</td>\n",
       "      <td>A 320</td>\n",
       "      <td>Daily</td>\n",
       "      <td>DEL</td>\n",
       "      <td>6:25</td>\n",
       "      <td>AMD</td>\n",
       "      <td></td>\n",
       "      <td>2019-11-25 00:00:00</td>\n",
       "      <td>2020-03-28 00:00:00</td>\n",
       "    </tr>\n",
       "    <tr>\n",
       "      <th>1</th>\n",
       "      <td>UK 936</td>\n",
       "      <td>UK</td>\n",
       "      <td>A 320</td>\n",
       "      <td>Daily</td>\n",
       "      <td>AMD</td>\n",
       "      <td></td>\n",
       "      <td>DEL</td>\n",
       "      <td>7:05</td>\n",
       "      <td>2019-11-25 00:00:00</td>\n",
       "      <td>2020-03-28 00:00:00</td>\n",
       "    </tr>\n",
       "    <tr>\n",
       "      <th>2</th>\n",
       "      <td>UK 959</td>\n",
       "      <td>UK</td>\n",
       "      <td>A 320</td>\n",
       "      <td>Daily</td>\n",
       "      <td>DEL</td>\n",
       "      <td>8:00</td>\n",
       "      <td>AMD</td>\n",
       "      <td></td>\n",
       "      <td>2019-10-27 00:00:00</td>\n",
       "      <td>2020-03-28 00:00:00</td>\n",
       "    </tr>\n",
       "    <tr>\n",
       "      <th>3</th>\n",
       "      <td>UK 946</td>\n",
       "      <td>UK</td>\n",
       "      <td>A 320</td>\n",
       "      <td>Daily</td>\n",
       "      <td>AMD</td>\n",
       "      <td></td>\n",
       "      <td>DEL</td>\n",
       "      <td>8:40</td>\n",
       "      <td>2019-10-27 00:00:00</td>\n",
       "      <td>2020-03-28 00:00:00</td>\n",
       "    </tr>\n",
       "    <tr>\n",
       "      <th>4</th>\n",
       "      <td>UK 979</td>\n",
       "      <td>UK</td>\n",
       "      <td>A 320</td>\n",
       "      <td>[1, 2, 3, 4, 5, 6]</td>\n",
       "      <td>DEL</td>\n",
       "      <td>10:20</td>\n",
       "      <td>AMD</td>\n",
       "      <td></td>\n",
       "      <td>2019-10-28 00:00:00</td>\n",
       "      <td>2020-03-28 00:00:00</td>\n",
       "    </tr>\n",
       "  </tbody>\n",
       "</table>\n",
       "</div>"
      ],
      "text/plain": [
       "   flight operator aircraft           frequency from time_at_to   to  \\\n",
       "0  UK 939       UK    A 320               Daily  DEL       6:25  AMD   \n",
       "1  UK 936       UK    A 320               Daily  AMD             DEL   \n",
       "2  UK 959       UK    A 320               Daily  DEL       8:00  AMD   \n",
       "3  UK 946       UK    A 320               Daily  AMD             DEL   \n",
       "4  UK 979       UK    A 320  [1, 2, 3, 4, 5, 6]  DEL      10:20  AMD   \n",
       "\n",
       "  time_at_from             eff_from               eff_to  \n",
       "0               2019-11-25 00:00:00  2020-03-28 00:00:00  \n",
       "1         7:05  2019-11-25 00:00:00  2020-03-28 00:00:00  \n",
       "2               2019-10-27 00:00:00  2020-03-28 00:00:00  \n",
       "3         8:40  2019-10-27 00:00:00  2020-03-28 00:00:00  \n",
       "4               2019-10-28 00:00:00  2020-03-28 00:00:00  "
      ]
     },
     "execution_count": 99,
     "metadata": {},
     "output_type": "execute_result"
    }
   ],
   "source": [
    "foo = vistara.copy()\n",
    "for i in range(foo.shape[0]):\n",
    "    if isinstance(foo.frequency[i], float): foo.frequency[i] = int(foo.frequency[i])\n",
    "\n",
    "foo = foo.astype({'frequency' : 'str'})\n",
    "\n",
    "for i in range(foo.shape[0]):\n",
    "    if foo.frequency[i] != 'Daily':\n",
    "        foo.frequency[i] = list(foo.frequency[i]) # Split into individuals days of week\n",
    "        foo.frequency[i] = list(map(int, foo.frequency[i])) # Convert from str to int\n",
    "\n",
    "foo.head()"
   ]
  },
  {
   "cell_type": "code",
   "execution_count": 100,
   "metadata": {},
   "outputs": [
    {
     "data": {
      "text/plain": [
       "int"
      ]
     },
     "execution_count": 100,
     "metadata": {},
     "output_type": "execute_result"
    }
   ],
   "source": [
    "type(foo.frequency[4][0])"
   ]
  },
  {
   "cell_type": "code",
   "execution_count": 139,
   "metadata": {},
   "outputs": [],
   "source": [
    "idx = [i for i in range(foo.shape[0]) if foo.time_at_to[i] == '' and foo.frequency[i] != 'Daily']\n",
    "check_idx = []\n",
    "trash_idx = []\n",
    "\n",
    "for i in idx:\n",
    "    if i not in check_idx:\n",
    "        for j in idx:\n",
    "            if j not in check_idx and j != i:\n",
    "                if foo.flight[i] == foo.flight[j] and foo.to[i] == foo.to[j] and foo['from'][i] == foo['from'][j]:\n",
    "                    check_idx.append(j)\n",
    "                    check_idx.append(i)\n",
    "                    \n",
    "                    \n",
    "                    \n",
    "    check_idx = list(set(check_idx))\n",
    "                #print('New Pair\\n', foo.iloc[i, 0:4], '\\n', foo.iloc[j, 0:4], '\\n')"
   ]
  },
  {
   "cell_type": "code",
   "execution_count": 140,
   "metadata": {},
   "outputs": [
    {
     "data": {
      "text/plain": [
       "37"
      ]
     },
     "execution_count": 140,
     "metadata": {},
     "output_type": "execute_result"
    }
   ],
   "source": [
    "len(check_idx)"
   ]
  },
  {
   "cell_type": "code",
   "execution_count": 141,
   "metadata": {},
   "outputs": [
    {
     "data": {
      "text/plain": [
       "57"
      ]
     },
     "execution_count": 141,
     "metadata": {},
     "output_type": "execute_result"
    }
   ],
   "source": [
    "len(idx)"
   ]
  },
  {
   "cell_type": "code",
   "execution_count": 59,
   "metadata": {},
   "outputs": [
    {
     "data": {
      "text/plain": [
       "(303, 10)"
      ]
     },
     "execution_count": 59,
     "metadata": {},
     "output_type": "execute_result"
    }
   ],
   "source": [
    "foo = vistara.copy()\n",
    "idx = [i for i in range(foo.shape[0]) if foo['time_at_to'][i] == '']\n",
    "trash_idx = []\n",
    "\n",
    "for i in idx:\n",
    "    for j in range(foo.shape[0]):\n",
    "        if (j not in trash_idx) and (j not in idx):\n",
    "            if (foo['flight'][i] == foo['flight'][j]) and (foo['frequency'][i] == foo['frequency'][j]) and (foo['from'][i] == foo['from'][j]) and (foo['to'][i] == foo['to'][j]):\n",
    "                trash_idx.append(j)\n",
    "                foo['time_at_to'][i] = foo['time_at_to'][j]\n",
    "\n",
    "foo = foo.drop(trash_idx, axis = 0)\n",
    "foo = foo.reset_index()\n",
    "foo = foo.drop(['index'], axis = 1)\n",
    "\n",
    "foo.shape"
   ]
  },
  {
   "cell_type": "code",
   "execution_count": 60,
   "metadata": {},
   "outputs": [
    {
     "data": {
      "text/html": [
       "<div>\n",
       "<style scoped>\n",
       "    .dataframe tbody tr th:only-of-type {\n",
       "        vertical-align: middle;\n",
       "    }\n",
       "\n",
       "    .dataframe tbody tr th {\n",
       "        vertical-align: top;\n",
       "    }\n",
       "\n",
       "    .dataframe thead th {\n",
       "        text-align: right;\n",
       "    }\n",
       "</style>\n",
       "<table border=\"1\" class=\"dataframe\">\n",
       "  <thead>\n",
       "    <tr style=\"text-align: right;\">\n",
       "      <th></th>\n",
       "      <th>flight</th>\n",
       "      <th>operator</th>\n",
       "      <th>aircraft</th>\n",
       "      <th>frequency</th>\n",
       "      <th>from</th>\n",
       "      <th>time_at_to</th>\n",
       "      <th>to</th>\n",
       "      <th>time_at_from</th>\n",
       "      <th>eff_from</th>\n",
       "      <th>eff_to</th>\n",
       "    </tr>\n",
       "  </thead>\n",
       "  <tbody>\n",
       "    <tr>\n",
       "      <th>0</th>\n",
       "      <td>UK 939</td>\n",
       "      <td>UK</td>\n",
       "      <td>A 320</td>\n",
       "      <td>Daily</td>\n",
       "      <td>DEL</td>\n",
       "      <td>6:25</td>\n",
       "      <td>AMD</td>\n",
       "      <td></td>\n",
       "      <td>2019-11-25 00:00:00</td>\n",
       "      <td>2020-03-28 00:00:00</td>\n",
       "    </tr>\n",
       "    <tr>\n",
       "      <th>1</th>\n",
       "      <td>UK 936</td>\n",
       "      <td>UK</td>\n",
       "      <td>A 320</td>\n",
       "      <td>Daily</td>\n",
       "      <td>AMD</td>\n",
       "      <td></td>\n",
       "      <td>DEL</td>\n",
       "      <td>7:05</td>\n",
       "      <td>2019-11-25 00:00:00</td>\n",
       "      <td>2020-03-28 00:00:00</td>\n",
       "    </tr>\n",
       "    <tr>\n",
       "      <th>2</th>\n",
       "      <td>UK 946</td>\n",
       "      <td>UK</td>\n",
       "      <td>A 320</td>\n",
       "      <td>Daily</td>\n",
       "      <td>AMD</td>\n",
       "      <td>10:25</td>\n",
       "      <td>DEL</td>\n",
       "      <td>8:40</td>\n",
       "      <td>2019-10-27 00:00:00</td>\n",
       "      <td>2020-03-28 00:00:00</td>\n",
       "    </tr>\n",
       "    <tr>\n",
       "      <th>3</th>\n",
       "      <td>UK 976</td>\n",
       "      <td>UK</td>\n",
       "      <td>A 320</td>\n",
       "      <td>123456</td>\n",
       "      <td>AMD</td>\n",
       "      <td>12:35</td>\n",
       "      <td>DEL</td>\n",
       "      <td>10:55</td>\n",
       "      <td>2019-10-28 00:00:00</td>\n",
       "      <td>2020-03-28 00:00:00</td>\n",
       "    </tr>\n",
       "    <tr>\n",
       "      <th>4</th>\n",
       "      <td>UK 966</td>\n",
       "      <td>UK</td>\n",
       "      <td>A 320</td>\n",
       "      <td>Daily</td>\n",
       "      <td>AMD</td>\n",
       "      <td></td>\n",
       "      <td>DEL</td>\n",
       "      <td>20:15</td>\n",
       "      <td>2019-10-27 00:00:00</td>\n",
       "      <td>2020-03-28 00:00:00</td>\n",
       "    </tr>\n",
       "  </tbody>\n",
       "</table>\n",
       "</div>"
      ],
      "text/plain": [
       "   flight operator aircraft frequency from time_at_to   to time_at_from  \\\n",
       "0  UK 939       UK    A 320     Daily  DEL       6:25  AMD                \n",
       "1  UK 936       UK    A 320     Daily  AMD             DEL         7:05   \n",
       "2  UK 946       UK    A 320     Daily  AMD      10:25  DEL         8:40   \n",
       "3  UK 976       UK    A 320    123456  AMD      12:35  DEL        10:55   \n",
       "4  UK 966       UK    A 320     Daily  AMD             DEL        20:15   \n",
       "\n",
       "              eff_from               eff_to  \n",
       "0  2019-11-25 00:00:00  2020-03-28 00:00:00  \n",
       "1  2019-11-25 00:00:00  2020-03-28 00:00:00  \n",
       "2  2019-10-27 00:00:00  2020-03-28 00:00:00  \n",
       "3  2019-10-28 00:00:00  2020-03-28 00:00:00  \n",
       "4  2019-10-27 00:00:00  2020-03-28 00:00:00  "
      ]
     },
     "execution_count": 60,
     "metadata": {},
     "output_type": "execute_result"
    }
   ],
   "source": [
    "foo.head()"
   ]
  },
  {
   "cell_type": "code",
   "execution_count": 70,
   "metadata": {},
   "outputs": [
    {
     "name": "stdout",
     "output_type": "stream",
     "text": [
      "total idx_to: 74 \n",
      " [1, 4, 6, 10, 17, 24, 25, 26, 27, 29, 36, 43, 50, 52, 55, 59, 71, 72, 76, 77, 79, 82, 90, 91, 92, 100, 101, 102, 111, 112, 124, 125, 134, 135, 142, 147, 157, 159, 161, 163, 165, 168, 169, 171, 178, 179, 186, 189, 192, 199, 202, 206, 208, 213, 216, 217, 221, 223, 225, 228, 230, 239, 240, 241, 245, 258, 259, 265, 266, 272, 281, 283, 290, 293]\n",
      "total idx_from: 70 \n",
      " [0, 5, 7, 8, 16, 20, 21, 22, 23, 28, 34, 37, 40, 42, 54, 57, 60, 86, 88, 94, 95, 98, 99, 106, 114, 123, 126, 140, 150, 151, 152, 153, 154, 155, 158, 160, 162, 164, 166, 167, 170, 172, 176, 177, 185, 188, 198, 201, 204, 207, 209, 212, 218, 232, 233, 234, 235, 237, 244, 246, 251, 253, 262, 271, 274, 280, 289, 292, 297, 300]\n"
     ]
    }
   ],
   "source": [
    "idx_to = [i for i in range(foo.shape[0]) if foo.time_at_to[i] == '']\n",
    "idx_from = [i for i in range(foo.shape[0]) if foo.time_at_from[i] == '']\n",
    "\n",
    "print('total idx_to:', len(idx_to), '\\n', idx_to)\n",
    "print('total idx_from:', len(idx_from), '\\n', idx_from)"
   ]
  },
  {
   "cell_type": "code",
   "execution_count": 79,
   "metadata": {},
   "outputs": [
    {
     "name": "stdout",
     "output_type": "stream",
     "text": [
      "[0, 5, 8, 28, 34, 37, 54, 57, 60, 94, 95, 106, 123, 126, 158, 160, 162, 164, 166, 167, 170, 172, 185, 188, 198, 201, 204, 207, 212, 218, 233, 237, 251, 253, 271, 274, 280, 289, 292, 300]\n"
     ]
    }
   ],
   "source": [
    "idx_fr_mat = []\n",
    "for i in idx_to:\n",
    "    for j in idx_from:\n",
    "        if (foo.flight[i] == foo.flight[j]) and (foo.to[i] == foo.to[j]) and (foo['from'][i] == foo['from'][j]):\n",
    "            idx_fr_mat.append(j)\n",
    "\n",
    "print([i for i in idx_from if i not in idx_fr_mat])"
   ]
  },
  {
   "cell_type": "code",
   "execution_count": 80,
   "metadata": {},
   "outputs": [
    {
     "data": {
      "text/plain": [
       "flight                       UK 745\n",
       "operator                         UK\n",
       "aircraft                      A 320\n",
       "frequency                     Daily\n",
       "from                            DEL\n",
       "time_at_to                    18:35\n",
       "to                              CCU\n",
       "time_at_from                       \n",
       "eff_from        2019-11-15 00:00:00\n",
       "eff_to          2020-03-28 00:00:00\n",
       "Name: 207, dtype: object"
      ]
     },
     "execution_count": 80,
     "metadata": {},
     "output_type": "execute_result"
    }
   ],
   "source": [
    "foo.iloc[207,:]"
   ]
  },
  {
   "cell_type": "code",
   "execution_count": null,
   "metadata": {},
   "outputs": [],
   "source": []
  }
 ],
 "metadata": {
  "kernelspec": {
   "display_name": "Python 3",
   "language": "python",
   "name": "python3"
  },
  "language_info": {
   "codemirror_mode": {
    "name": "ipython",
    "version": 3
   },
   "file_extension": ".py",
   "mimetype": "text/x-python",
   "name": "python",
   "nbconvert_exporter": "python",
   "pygments_lexer": "ipython3",
   "version": "3.7.4"
  }
 },
 "nbformat": 4,
 "nbformat_minor": 4
}
