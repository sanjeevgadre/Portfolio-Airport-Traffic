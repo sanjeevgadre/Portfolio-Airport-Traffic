{
 "cells": [
  {
   "cell_type": "code",
   "execution_count": 77,
   "metadata": {},
   "outputs": [],
   "source": [
    "import numpy as np\n",
    "import pandas as pd\n",
    "import os"
   ]
  },
  {
   "cell_type": "code",
   "execution_count": 78,
   "metadata": {},
   "outputs": [],
   "source": [
    "dir_path ='./data/raw/excel'"
   ]
  },
  {
   "cell_type": "code",
   "execution_count": 79,
   "metadata": {},
   "outputs": [],
   "source": [
    "def read_excel_data(file_name):\n",
    "    dat = pd.read_excel(file_name, na_filter = False, convert_float = False)\n",
    "\n",
    "    # Setting the column names\n",
    "    dat.columns = ['num', 'flight', 'operator', 'aircraft', 'frequency', 'from', 'to_time', 'to', \n",
    "                   'from_time', 'eff_from', 'eff_to']  \n",
    "\n",
    "    # Altering the column positions\n",
    "    dat.insert(6, 'from_time', dat.pop('from_time'))\n",
    "    dat.insert(7, 'to', dat.pop('to'))\n",
    "    \n",
    "    return dat"
   ]
  },
  {
   "cell_type": "code",
   "execution_count": 80,
   "metadata": {},
   "outputs": [
    {
     "data": {
      "text/html": [
       "<div>\n",
       "<style scoped>\n",
       "    .dataframe tbody tr th:only-of-type {\n",
       "        vertical-align: middle;\n",
       "    }\n",
       "\n",
       "    .dataframe tbody tr th {\n",
       "        vertical-align: top;\n",
       "    }\n",
       "\n",
       "    .dataframe thead th {\n",
       "        text-align: right;\n",
       "    }\n",
       "</style>\n",
       "<table border=\"1\" class=\"dataframe\">\n",
       "  <thead>\n",
       "    <tr style=\"text-align: right;\">\n",
       "      <th></th>\n",
       "      <th>num</th>\n",
       "      <th>flight</th>\n",
       "      <th>operator</th>\n",
       "      <th>aircraft</th>\n",
       "      <th>frequency</th>\n",
       "      <th>from</th>\n",
       "      <th>from_time</th>\n",
       "      <th>to</th>\n",
       "      <th>to_time</th>\n",
       "      <th>eff_from</th>\n",
       "      <th>eff_to</th>\n",
       "    </tr>\n",
       "  </thead>\n",
       "  <tbody>\n",
       "    <tr>\n",
       "      <th>0</th>\n",
       "      <td>Ahmedabad</td>\n",
       "      <td></td>\n",
       "      <td></td>\n",
       "      <td></td>\n",
       "      <td></td>\n",
       "      <td></td>\n",
       "      <td></td>\n",
       "      <td></td>\n",
       "      <td></td>\n",
       "      <td></td>\n",
       "      <td></td>\n",
       "    </tr>\n",
       "    <tr>\n",
       "      <th>1</th>\n",
       "      <td>1</td>\n",
       "      <td>UK 939</td>\n",
       "      <td>UK</td>\n",
       "      <td>A 320</td>\n",
       "      <td>Daily</td>\n",
       "      <td>DEL</td>\n",
       "      <td></td>\n",
       "      <td></td>\n",
       "      <td>6:25</td>\n",
       "      <td>2019-11-25 00:00:00</td>\n",
       "      <td>2020-03-28 00:00:00</td>\n",
       "    </tr>\n",
       "    <tr>\n",
       "      <th>2</th>\n",
       "      <td>2</td>\n",
       "      <td>UK 936</td>\n",
       "      <td>UK</td>\n",
       "      <td>A 320</td>\n",
       "      <td>Daily</td>\n",
       "      <td></td>\n",
       "      <td>7:05</td>\n",
       "      <td>DEL</td>\n",
       "      <td></td>\n",
       "      <td>2019-11-25 00:00:00</td>\n",
       "      <td>2020-03-28 00:00:00</td>\n",
       "    </tr>\n",
       "    <tr>\n",
       "      <th>3</th>\n",
       "      <td>3</td>\n",
       "      <td>UK 959</td>\n",
       "      <td>UK</td>\n",
       "      <td>A 320</td>\n",
       "      <td>Daily</td>\n",
       "      <td>DEL</td>\n",
       "      <td></td>\n",
       "      <td></td>\n",
       "      <td>8:00</td>\n",
       "      <td>2019-10-27 00:00:00</td>\n",
       "      <td>2020-03-28 00:00:00</td>\n",
       "    </tr>\n",
       "    <tr>\n",
       "      <th>4</th>\n",
       "      <td>4</td>\n",
       "      <td>UK 946</td>\n",
       "      <td>UK</td>\n",
       "      <td>A 320</td>\n",
       "      <td>Daily</td>\n",
       "      <td></td>\n",
       "      <td>8:40</td>\n",
       "      <td>DEL</td>\n",
       "      <td></td>\n",
       "      <td>2019-10-27 00:00:00</td>\n",
       "      <td>2020-03-28 00:00:00</td>\n",
       "    </tr>\n",
       "  </tbody>\n",
       "</table>\n",
       "</div>"
      ],
      "text/plain": [
       "         num  flight operator aircraft frequency from from_time   to to_time  \\\n",
       "0  Ahmedabad                                                                   \n",
       "1          1  UK 939       UK    A 320     Daily  DEL                   6:25   \n",
       "2          2  UK 936       UK    A 320     Daily           7:05  DEL           \n",
       "3          3  UK 959       UK    A 320     Daily  DEL                   8:00   \n",
       "4          4  UK 946       UK    A 320     Daily           8:40  DEL           \n",
       "\n",
       "              eff_from               eff_to  \n",
       "0                                            \n",
       "1  2019-11-25 00:00:00  2020-03-28 00:00:00  \n",
       "2  2019-11-25 00:00:00  2020-03-28 00:00:00  \n",
       "3  2019-10-27 00:00:00  2020-03-28 00:00:00  \n",
       "4  2019-10-27 00:00:00  2020-03-28 00:00:00  "
      ]
     },
     "execution_count": 80,
     "metadata": {},
     "output_type": "execute_result"
    }
   ],
   "source": [
    "file_name = 'Vistara.xlsx'\n",
    "\n",
    "file_name = dir_path + '/' + file_name\n",
    "dat = read_excel_data(file_name)\n",
    "dat.head()"
   ]
  },
  {
   "cell_type": "code",
   "execution_count": 81,
   "metadata": {},
   "outputs": [
    {
     "data": {
      "text/plain": [
       "(554, 11)"
      ]
     },
     "execution_count": 81,
     "metadata": {},
     "output_type": "execute_result"
    }
   ],
   "source": [
    "dat.shape"
   ]
  },
  {
   "cell_type": "code",
   "execution_count": 82,
   "metadata": {},
   "outputs": [],
   "source": [
    "def wrangle_rows(df):\n",
    "    # dropping superflous header rows\n",
    "    \n",
    "    r_drop_idx = [i for i in range(df.shape[0]) if ((not isinstance(df.iloc[i, 0], float)) and \n",
    "                                                    (df.iloc[i, 4] == 'Frequency'))]\n",
    "      \n",
    "    df = df.drop(r_drop_idx, axis = 0)\n",
    "    \n",
    "    df = df.reset_index() # resetting the index after dropping rows\n",
    "    df = df.drop('index', axis = 1) # dropping the previous index\n",
    "    \n",
    "    # dropping city names subheader rows\n",
    "    r_drop_idx = [i for i in range(df.shape[0]) if isinstance(df.iloc[i, 0], str)]\n",
    "    \n",
    "    for i in range(len(r_drop_idx)-1):\n",
    "        df.iloc[r_drop_idx[i] + 1: r_drop_idx[i+1], 0] = df.iloc[r_drop_idx[i], 0]\n",
    "    \n",
    "    # Separately for the last sub-head in the list\n",
    "    df.iloc[r_drop_idx[-1] + 1: df.shape[0], 0] = df.iloc[r_drop_idx[-1], 0]\n",
    "        \n",
    "    df = df.drop(r_drop_idx, axis = 0) \n",
    "    df = df.reset_index() # resetting the index after dropping rows\n",
    "    df = df.drop('index', axis = 1) # dropping the previous index\n",
    "    \n",
    "    df = df.rename(columns = {'num': 'station'}, errors = 'raise')\n",
    "    \n",
    "    return df"
   ]
  },
  {
   "cell_type": "code",
   "execution_count": 83,
   "metadata": {},
   "outputs": [
    {
     "data": {
      "text/plain": [
       "(515, 11)"
      ]
     },
     "execution_count": 83,
     "metadata": {},
     "output_type": "execute_result"
    }
   ],
   "source": [
    "dat = wrangle_rows(dat)\n",
    "dat.shape"
   ]
  },
  {
   "cell_type": "code",
   "execution_count": 84,
   "metadata": {},
   "outputs": [],
   "source": [
    "def wrangle_cols(df):\n",
    "    idx = df.loc[:,'from'] == ''\n",
    "    df.loc[idx, 'from'] = df.loc[idx, 'station']\n",
    "\n",
    "    idx = df.loc[:, 'to'] == ''\n",
    "    df.loc[idx, 'to'] = df.loc[idx, 'station']\n",
    "\n",
    "    df = df.drop(['station'], axis = 1)\n",
    "\n",
    "    return df"
   ]
  },
  {
   "cell_type": "code",
   "execution_count": 85,
   "metadata": {},
   "outputs": [
    {
     "data": {
      "text/html": [
       "<div>\n",
       "<style scoped>\n",
       "    .dataframe tbody tr th:only-of-type {\n",
       "        vertical-align: middle;\n",
       "    }\n",
       "\n",
       "    .dataframe tbody tr th {\n",
       "        vertical-align: top;\n",
       "    }\n",
       "\n",
       "    .dataframe thead th {\n",
       "        text-align: right;\n",
       "    }\n",
       "</style>\n",
       "<table border=\"1\" class=\"dataframe\">\n",
       "  <thead>\n",
       "    <tr style=\"text-align: right;\">\n",
       "      <th></th>\n",
       "      <th>flight</th>\n",
       "      <th>operator</th>\n",
       "      <th>aircraft</th>\n",
       "      <th>frequency</th>\n",
       "      <th>from</th>\n",
       "      <th>from_time</th>\n",
       "      <th>to</th>\n",
       "      <th>to_time</th>\n",
       "      <th>eff_from</th>\n",
       "      <th>eff_to</th>\n",
       "    </tr>\n",
       "  </thead>\n",
       "  <tbody>\n",
       "    <tr>\n",
       "      <th>0</th>\n",
       "      <td>UK 939</td>\n",
       "      <td>UK</td>\n",
       "      <td>A 320</td>\n",
       "      <td>Daily</td>\n",
       "      <td>DEL</td>\n",
       "      <td></td>\n",
       "      <td>Ahmedabad</td>\n",
       "      <td>6:25</td>\n",
       "      <td>2019-11-25 00:00:00</td>\n",
       "      <td>2020-03-28 00:00:00</td>\n",
       "    </tr>\n",
       "    <tr>\n",
       "      <th>1</th>\n",
       "      <td>UK 936</td>\n",
       "      <td>UK</td>\n",
       "      <td>A 320</td>\n",
       "      <td>Daily</td>\n",
       "      <td>Ahmedabad</td>\n",
       "      <td>7:05</td>\n",
       "      <td>DEL</td>\n",
       "      <td></td>\n",
       "      <td>2019-11-25 00:00:00</td>\n",
       "      <td>2020-03-28 00:00:00</td>\n",
       "    </tr>\n",
       "    <tr>\n",
       "      <th>2</th>\n",
       "      <td>UK 959</td>\n",
       "      <td>UK</td>\n",
       "      <td>A 320</td>\n",
       "      <td>Daily</td>\n",
       "      <td>DEL</td>\n",
       "      <td></td>\n",
       "      <td>Ahmedabad</td>\n",
       "      <td>8:00</td>\n",
       "      <td>2019-10-27 00:00:00</td>\n",
       "      <td>2020-03-28 00:00:00</td>\n",
       "    </tr>\n",
       "    <tr>\n",
       "      <th>3</th>\n",
       "      <td>UK 946</td>\n",
       "      <td>UK</td>\n",
       "      <td>A 320</td>\n",
       "      <td>Daily</td>\n",
       "      <td>Ahmedabad</td>\n",
       "      <td>8:40</td>\n",
       "      <td>DEL</td>\n",
       "      <td></td>\n",
       "      <td>2019-10-27 00:00:00</td>\n",
       "      <td>2020-03-28 00:00:00</td>\n",
       "    </tr>\n",
       "    <tr>\n",
       "      <th>4</th>\n",
       "      <td>UK 979</td>\n",
       "      <td>UK</td>\n",
       "      <td>A 320</td>\n",
       "      <td>123456</td>\n",
       "      <td>DEL</td>\n",
       "      <td></td>\n",
       "      <td>Ahmedabad</td>\n",
       "      <td>10:20</td>\n",
       "      <td>2019-10-28 00:00:00</td>\n",
       "      <td>2020-03-28 00:00:00</td>\n",
       "    </tr>\n",
       "  </tbody>\n",
       "</table>\n",
       "</div>"
      ],
      "text/plain": [
       "   flight operator aircraft frequency       from from_time         to to_time  \\\n",
       "0  UK 939       UK    A 320     Daily        DEL            Ahmedabad    6:25   \n",
       "1  UK 936       UK    A 320     Daily  Ahmedabad      7:05        DEL           \n",
       "2  UK 959       UK    A 320     Daily        DEL            Ahmedabad    8:00   \n",
       "3  UK 946       UK    A 320     Daily  Ahmedabad      8:40        DEL           \n",
       "4  UK 979       UK    A 320    123456        DEL            Ahmedabad   10:20   \n",
       "\n",
       "              eff_from               eff_to  \n",
       "0  2019-11-25 00:00:00  2020-03-28 00:00:00  \n",
       "1  2019-11-25 00:00:00  2020-03-28 00:00:00  \n",
       "2  2019-10-27 00:00:00  2020-03-28 00:00:00  \n",
       "3  2019-10-27 00:00:00  2020-03-28 00:00:00  \n",
       "4  2019-10-28 00:00:00  2020-03-28 00:00:00  "
      ]
     },
     "execution_count": 85,
     "metadata": {},
     "output_type": "execute_result"
    }
   ],
   "source": [
    "dat = wrangle_cols(dat)\n",
    "dat.head()"
   ]
  },
  {
   "cell_type": "code",
   "execution_count": 86,
   "metadata": {},
   "outputs": [],
   "source": [
    "def fix_city_spelling(df):\n",
    "    city_names = {'Delhi' : 'New Delhi', 'Bhubaneshwar' : 'Bhubaneswar',\n",
    "                  'Trivandrum' : 'Thiruvananthapuram', 'Pondicherry' : 'Puducherry',\n",
    "                  'Porbander' : 'Porbandar', 'Tirupathi' : 'Tirupati',\n",
    "                  'Tuticorin' : 'Thoothukudi', 'Vizag' : 'Visakhapatnam',\n",
    "                  'Cuddapah': 'Kadapa', 'Jalgoan' : 'Jalgaon',\n",
    "                  'Rajamundry' : 'Rajahmundry', 'Aizawal' : 'Aizawl',\n",
    "                  'Trichy' : 'Tiruchirappally', 'Bathinda' : 'Bhatinda',\n",
    "                  'Passighat' : 'Pasighat'}\n",
    "    \n",
    "    missing_city_codes = []\n",
    "    \n",
    "    for i in range(df.shape[0]):\n",
    "            if df['from'][i] in list(city_names.keys()): df['from'][i] = city_names[df['from'][i]]\n",
    "            if df['to'][i] in list(city_names.keys()): df['to'][i] = city_names[df['to'][i]]\n",
    "            \n",
    "    return df"
   ]
  },
  {
   "cell_type": "code",
   "execution_count": 87,
   "metadata": {},
   "outputs": [
    {
     "data": {
      "text/html": [
       "<div>\n",
       "<style scoped>\n",
       "    .dataframe tbody tr th:only-of-type {\n",
       "        vertical-align: middle;\n",
       "    }\n",
       "\n",
       "    .dataframe tbody tr th {\n",
       "        vertical-align: top;\n",
       "    }\n",
       "\n",
       "    .dataframe thead th {\n",
       "        text-align: right;\n",
       "    }\n",
       "</style>\n",
       "<table border=\"1\" class=\"dataframe\">\n",
       "  <thead>\n",
       "    <tr style=\"text-align: right;\">\n",
       "      <th></th>\n",
       "      <th>flight</th>\n",
       "      <th>operator</th>\n",
       "      <th>aircraft</th>\n",
       "      <th>frequency</th>\n",
       "      <th>from</th>\n",
       "      <th>from_time</th>\n",
       "      <th>to</th>\n",
       "      <th>to_time</th>\n",
       "      <th>eff_from</th>\n",
       "      <th>eff_to</th>\n",
       "    </tr>\n",
       "  </thead>\n",
       "  <tbody>\n",
       "    <tr>\n",
       "      <th>0</th>\n",
       "      <td>UK 939</td>\n",
       "      <td>UK</td>\n",
       "      <td>A 320</td>\n",
       "      <td>Daily</td>\n",
       "      <td>DEL</td>\n",
       "      <td></td>\n",
       "      <td>Ahmedabad</td>\n",
       "      <td>6:25</td>\n",
       "      <td>2019-11-25 00:00:00</td>\n",
       "      <td>2020-03-28 00:00:00</td>\n",
       "    </tr>\n",
       "    <tr>\n",
       "      <th>1</th>\n",
       "      <td>UK 936</td>\n",
       "      <td>UK</td>\n",
       "      <td>A 320</td>\n",
       "      <td>Daily</td>\n",
       "      <td>Ahmedabad</td>\n",
       "      <td>7:05</td>\n",
       "      <td>DEL</td>\n",
       "      <td></td>\n",
       "      <td>2019-11-25 00:00:00</td>\n",
       "      <td>2020-03-28 00:00:00</td>\n",
       "    </tr>\n",
       "    <tr>\n",
       "      <th>2</th>\n",
       "      <td>UK 959</td>\n",
       "      <td>UK</td>\n",
       "      <td>A 320</td>\n",
       "      <td>Daily</td>\n",
       "      <td>DEL</td>\n",
       "      <td></td>\n",
       "      <td>Ahmedabad</td>\n",
       "      <td>8:00</td>\n",
       "      <td>2019-10-27 00:00:00</td>\n",
       "      <td>2020-03-28 00:00:00</td>\n",
       "    </tr>\n",
       "    <tr>\n",
       "      <th>3</th>\n",
       "      <td>UK 946</td>\n",
       "      <td>UK</td>\n",
       "      <td>A 320</td>\n",
       "      <td>Daily</td>\n",
       "      <td>Ahmedabad</td>\n",
       "      <td>8:40</td>\n",
       "      <td>DEL</td>\n",
       "      <td></td>\n",
       "      <td>2019-10-27 00:00:00</td>\n",
       "      <td>2020-03-28 00:00:00</td>\n",
       "    </tr>\n",
       "    <tr>\n",
       "      <th>4</th>\n",
       "      <td>UK 979</td>\n",
       "      <td>UK</td>\n",
       "      <td>A 320</td>\n",
       "      <td>123456</td>\n",
       "      <td>DEL</td>\n",
       "      <td></td>\n",
       "      <td>Ahmedabad</td>\n",
       "      <td>10:20</td>\n",
       "      <td>2019-10-28 00:00:00</td>\n",
       "      <td>2020-03-28 00:00:00</td>\n",
       "    </tr>\n",
       "  </tbody>\n",
       "</table>\n",
       "</div>"
      ],
      "text/plain": [
       "   flight operator aircraft frequency       from from_time         to to_time  \\\n",
       "0  UK 939       UK    A 320     Daily        DEL            Ahmedabad    6:25   \n",
       "1  UK 936       UK    A 320     Daily  Ahmedabad      7:05        DEL           \n",
       "2  UK 959       UK    A 320     Daily        DEL            Ahmedabad    8:00   \n",
       "3  UK 946       UK    A 320     Daily  Ahmedabad      8:40        DEL           \n",
       "4  UK 979       UK    A 320    123456        DEL            Ahmedabad   10:20   \n",
       "\n",
       "              eff_from               eff_to  \n",
       "0  2019-11-25 00:00:00  2020-03-28 00:00:00  \n",
       "1  2019-11-25 00:00:00  2020-03-28 00:00:00  \n",
       "2  2019-10-27 00:00:00  2020-03-28 00:00:00  \n",
       "3  2019-10-27 00:00:00  2020-03-28 00:00:00  \n",
       "4  2019-10-28 00:00:00  2020-03-28 00:00:00  "
      ]
     },
     "execution_count": 87,
     "metadata": {},
     "output_type": "execute_result"
    }
   ],
   "source": [
    "dat = fix_city_spelling(dat)\n",
    "dat.head()"
   ]
  },
  {
   "cell_type": "code",
   "execution_count": 88,
   "metadata": {},
   "outputs": [],
   "source": [
    "def wrangle_iata_codes(df):\n",
    "    # Load the dictionary, previously created, mapping city names to corresponding IATA codes\n",
    "    \n",
    "    import pickle\n",
    "    \n",
    "    with open('./data/processed/dicts/city_to_codes_dict.txt', 'rb') as handle:\n",
    "        city_to_codes = pickle.loads(handle.read())\n",
    "    \n",
    "    # To capture city names in the df for which an equivalen IATA code is missing\n",
    "    missing_city_names = []\n",
    "    \n",
    "    idx = [i for i in range(df.shape[0]) if not df['from'][i].isupper()]\n",
    "    for i in idx: \n",
    "        try: \n",
    "            df['from'][i] = city_to_codes[df['from'][i]]\n",
    "        except KeyError:\n",
    "            if df['from'][i] not in missing_city_names:\n",
    "                missing_city_names.append(df['from'][i])\n",
    "        \n",
    "    idx = [i for i in range(df.shape[0]) if not df['to'][i].isupper()]\n",
    "    for i in idx: \n",
    "        try:\n",
    "            df['to'][i] = city_to_codes[df['to'][i]]\n",
    "        except KeyError:\n",
    "            if df['to'][i] not in missing_city_names:\n",
    "                missing_city_names.append(df['to'][i])\n",
    "        \n",
    "    return missing_city_names, df"
   ]
  },
  {
   "cell_type": "code",
   "execution_count": 89,
   "metadata": {},
   "outputs": [
    {
     "name": "stdout",
     "output_type": "stream",
     "text": [
      "The list of city names either with wrong spelling or missing IATA codes\n",
      " []\n"
     ]
    }
   ],
   "source": [
    "missing_city_names, dat = wrangle_iata_codes(dat)\n",
    "\n",
    "print('The list of city names either with wrong spelling or missing IATA codes\\n', missing_city_names)"
   ]
  },
  {
   "cell_type": "code",
   "execution_count": 90,
   "metadata": {},
   "outputs": [
    {
     "name": "stdout",
     "output_type": "stream",
     "text": [
      "The list of city names either with wrong spelling or missing IATA codes\n",
      " []\n"
     ]
    },
    {
     "data": {
      "text/html": [
       "<div>\n",
       "<style scoped>\n",
       "    .dataframe tbody tr th:only-of-type {\n",
       "        vertical-align: middle;\n",
       "    }\n",
       "\n",
       "    .dataframe tbody tr th {\n",
       "        vertical-align: top;\n",
       "    }\n",
       "\n",
       "    .dataframe thead th {\n",
       "        text-align: right;\n",
       "    }\n",
       "</style>\n",
       "<table border=\"1\" class=\"dataframe\">\n",
       "  <thead>\n",
       "    <tr style=\"text-align: right;\">\n",
       "      <th></th>\n",
       "      <th>flight</th>\n",
       "      <th>operator</th>\n",
       "      <th>aircraft</th>\n",
       "      <th>frequency</th>\n",
       "      <th>from</th>\n",
       "      <th>from_time</th>\n",
       "      <th>to</th>\n",
       "      <th>to_time</th>\n",
       "      <th>eff_from</th>\n",
       "      <th>eff_to</th>\n",
       "    </tr>\n",
       "  </thead>\n",
       "  <tbody>\n",
       "    <tr>\n",
       "      <th>0</th>\n",
       "      <td>UK 939</td>\n",
       "      <td>UK</td>\n",
       "      <td>A 320</td>\n",
       "      <td>Daily</td>\n",
       "      <td>DEL</td>\n",
       "      <td></td>\n",
       "      <td>AMD</td>\n",
       "      <td>6:25</td>\n",
       "      <td>2019-11-25 00:00:00</td>\n",
       "      <td>2020-03-28 00:00:00</td>\n",
       "    </tr>\n",
       "    <tr>\n",
       "      <th>1</th>\n",
       "      <td>UK 936</td>\n",
       "      <td>UK</td>\n",
       "      <td>A 320</td>\n",
       "      <td>Daily</td>\n",
       "      <td>AMD</td>\n",
       "      <td>7:05</td>\n",
       "      <td>DEL</td>\n",
       "      <td></td>\n",
       "      <td>2019-11-25 00:00:00</td>\n",
       "      <td>2020-03-28 00:00:00</td>\n",
       "    </tr>\n",
       "    <tr>\n",
       "      <th>2</th>\n",
       "      <td>UK 959</td>\n",
       "      <td>UK</td>\n",
       "      <td>A 320</td>\n",
       "      <td>Daily</td>\n",
       "      <td>DEL</td>\n",
       "      <td></td>\n",
       "      <td>AMD</td>\n",
       "      <td>8:00</td>\n",
       "      <td>2019-10-27 00:00:00</td>\n",
       "      <td>2020-03-28 00:00:00</td>\n",
       "    </tr>\n",
       "    <tr>\n",
       "      <th>3</th>\n",
       "      <td>UK 946</td>\n",
       "      <td>UK</td>\n",
       "      <td>A 320</td>\n",
       "      <td>Daily</td>\n",
       "      <td>AMD</td>\n",
       "      <td>8:40</td>\n",
       "      <td>DEL</td>\n",
       "      <td></td>\n",
       "      <td>2019-10-27 00:00:00</td>\n",
       "      <td>2020-03-28 00:00:00</td>\n",
       "    </tr>\n",
       "    <tr>\n",
       "      <th>4</th>\n",
       "      <td>UK 979</td>\n",
       "      <td>UK</td>\n",
       "      <td>A 320</td>\n",
       "      <td>123456</td>\n",
       "      <td>DEL</td>\n",
       "      <td></td>\n",
       "      <td>AMD</td>\n",
       "      <td>10:20</td>\n",
       "      <td>2019-10-28 00:00:00</td>\n",
       "      <td>2020-03-28 00:00:00</td>\n",
       "    </tr>\n",
       "  </tbody>\n",
       "</table>\n",
       "</div>"
      ],
      "text/plain": [
       "   flight operator aircraft frequency from from_time   to to_time  \\\n",
       "0  UK 939       UK    A 320     Daily  DEL            AMD    6:25   \n",
       "1  UK 936       UK    A 320     Daily  AMD      7:05  DEL           \n",
       "2  UK 959       UK    A 320     Daily  DEL            AMD    8:00   \n",
       "3  UK 946       UK    A 320     Daily  AMD      8:40  DEL           \n",
       "4  UK 979       UK    A 320    123456  DEL            AMD   10:20   \n",
       "\n",
       "              eff_from               eff_to  \n",
       "0  2019-11-25 00:00:00  2020-03-28 00:00:00  \n",
       "1  2019-11-25 00:00:00  2020-03-28 00:00:00  \n",
       "2  2019-10-27 00:00:00  2020-03-28 00:00:00  \n",
       "3  2019-10-27 00:00:00  2020-03-28 00:00:00  \n",
       "4  2019-10-28 00:00:00  2020-03-28 00:00:00  "
      ]
     },
     "execution_count": 90,
     "metadata": {},
     "output_type": "execute_result"
    }
   ],
   "source": [
    "missing_city_names, dat = wrangle_iata_codes(dat)\n",
    "print('The list of city names either with wrong spelling or missing IATA codes\\n', missing_city_names)\n",
    "dat.head()"
   ]
  },
  {
   "cell_type": "code",
   "execution_count": 91,
   "metadata": {},
   "outputs": [],
   "source": [
    "def drop_dummy_scheds(df):\n",
    "    idx = [i for i in range(df.shape[0]) if df['eff_from'][i] == df['eff_to'][i]]\n",
    "    df = df.drop(idx, axis = 0)\n",
    "    df = df.reset_index()\n",
    "    df = df.drop(['index'], axis = 1)\n",
    "    \n",
    "    return df"
   ]
  },
  {
   "cell_type": "code",
   "execution_count": 92,
   "metadata": {},
   "outputs": [
    {
     "data": {
      "text/plain": [
       "(486, 10)"
      ]
     },
     "execution_count": 92,
     "metadata": {},
     "output_type": "execute_result"
    }
   ],
   "source": [
    "dat = drop_dummy_scheds(dat)\n",
    "dat.shape"
   ]
  },
  {
   "cell_type": "code",
   "execution_count": 93,
   "metadata": {},
   "outputs": [],
   "source": [
    "def drop_noncurrent_scheds(df, tz):\n",
    "    today = datetime.now(tz).date()\n",
    "    idx = [i for i in range(df.shape[0]) \n",
    "           if (today <=  datetime.date(df['eff_from'][i])) or (today >= datetime.date(df['eff_to'][i]))]\n",
    "    df = df.drop(idx, axis = 0)\n",
    "    df = df.reset_index()\n",
    "    df = df.drop('index', axis = 1)\n",
    "    \n",
    "    return df"
   ]
  },
  {
   "cell_type": "code",
   "execution_count": 94,
   "metadata": {},
   "outputs": [
    {
     "data": {
      "text/plain": [
       "(462, 10)"
      ]
     },
     "execution_count": 94,
     "metadata": {},
     "output_type": "execute_result"
    }
   ],
   "source": [
    "from datetime import datetime\n",
    "import pytz\n",
    "\n",
    "tz = pytz.timezone('Asia/Calcutta')\n",
    "dat = drop_noncurrent_scheds(dat, tz)\n",
    "dat.shape"
   ]
  },
  {
   "cell_type": "code",
   "execution_count": 95,
   "metadata": {},
   "outputs": [],
   "source": [
    "def wrangle_frequency(df):\n",
    "# Convert frequency into a string of numbers\n",
    "    for i in range(df.shape[0]):\n",
    "        if isinstance(df.frequency[i], str):\n",
    "            df.frequency[i] = '1234567'\n",
    "        else:\n",
    "            df.frequency[i] = str(int(df.frequency[i]))\n",
    "\n",
    "# Convert string of numbers into list of numbers\n",
    "        df.frequency[i] = list(df.frequency[i]) # Split str\n",
    "        df.frequency[i] = list(map(int, df.frequency[i])) # Convert from str to int\n",
    "    \n",
    "    return df"
   ]
  },
  {
   "cell_type": "code",
   "execution_count": 96,
   "metadata": {},
   "outputs": [
    {
     "data": {
      "text/html": [
       "<div>\n",
       "<style scoped>\n",
       "    .dataframe tbody tr th:only-of-type {\n",
       "        vertical-align: middle;\n",
       "    }\n",
       "\n",
       "    .dataframe tbody tr th {\n",
       "        vertical-align: top;\n",
       "    }\n",
       "\n",
       "    .dataframe thead th {\n",
       "        text-align: right;\n",
       "    }\n",
       "</style>\n",
       "<table border=\"1\" class=\"dataframe\">\n",
       "  <thead>\n",
       "    <tr style=\"text-align: right;\">\n",
       "      <th></th>\n",
       "      <th>flight</th>\n",
       "      <th>operator</th>\n",
       "      <th>aircraft</th>\n",
       "      <th>frequency</th>\n",
       "      <th>from</th>\n",
       "      <th>from_time</th>\n",
       "      <th>to</th>\n",
       "      <th>to_time</th>\n",
       "      <th>eff_from</th>\n",
       "      <th>eff_to</th>\n",
       "    </tr>\n",
       "  </thead>\n",
       "  <tbody>\n",
       "    <tr>\n",
       "      <th>0</th>\n",
       "      <td>UK 939</td>\n",
       "      <td>UK</td>\n",
       "      <td>A 320</td>\n",
       "      <td>[1, 2, 3, 4, 5, 6, 7]</td>\n",
       "      <td>DEL</td>\n",
       "      <td></td>\n",
       "      <td>AMD</td>\n",
       "      <td>6:25</td>\n",
       "      <td>2019-11-25 00:00:00</td>\n",
       "      <td>2020-03-28 00:00:00</td>\n",
       "    </tr>\n",
       "    <tr>\n",
       "      <th>1</th>\n",
       "      <td>UK 936</td>\n",
       "      <td>UK</td>\n",
       "      <td>A 320</td>\n",
       "      <td>[1, 2, 3, 4, 5, 6, 7]</td>\n",
       "      <td>AMD</td>\n",
       "      <td>7:05</td>\n",
       "      <td>DEL</td>\n",
       "      <td></td>\n",
       "      <td>2019-11-25 00:00:00</td>\n",
       "      <td>2020-03-28 00:00:00</td>\n",
       "    </tr>\n",
       "    <tr>\n",
       "      <th>2</th>\n",
       "      <td>UK 959</td>\n",
       "      <td>UK</td>\n",
       "      <td>A 320</td>\n",
       "      <td>[1, 2, 3, 4, 5, 6, 7]</td>\n",
       "      <td>DEL</td>\n",
       "      <td></td>\n",
       "      <td>AMD</td>\n",
       "      <td>8:00</td>\n",
       "      <td>2019-10-27 00:00:00</td>\n",
       "      <td>2020-03-28 00:00:00</td>\n",
       "    </tr>\n",
       "    <tr>\n",
       "      <th>3</th>\n",
       "      <td>UK 946</td>\n",
       "      <td>UK</td>\n",
       "      <td>A 320</td>\n",
       "      <td>[1, 2, 3, 4, 5, 6, 7]</td>\n",
       "      <td>AMD</td>\n",
       "      <td>8:40</td>\n",
       "      <td>DEL</td>\n",
       "      <td></td>\n",
       "      <td>2019-10-27 00:00:00</td>\n",
       "      <td>2020-03-28 00:00:00</td>\n",
       "    </tr>\n",
       "    <tr>\n",
       "      <th>4</th>\n",
       "      <td>UK 979</td>\n",
       "      <td>UK</td>\n",
       "      <td>A 320</td>\n",
       "      <td>[1, 2, 3, 4, 5, 6]</td>\n",
       "      <td>DEL</td>\n",
       "      <td></td>\n",
       "      <td>AMD</td>\n",
       "      <td>10:20</td>\n",
       "      <td>2019-10-28 00:00:00</td>\n",
       "      <td>2020-03-28 00:00:00</td>\n",
       "    </tr>\n",
       "  </tbody>\n",
       "</table>\n",
       "</div>"
      ],
      "text/plain": [
       "   flight operator aircraft              frequency from from_time   to  \\\n",
       "0  UK 939       UK    A 320  [1, 2, 3, 4, 5, 6, 7]  DEL            AMD   \n",
       "1  UK 936       UK    A 320  [1, 2, 3, 4, 5, 6, 7]  AMD      7:05  DEL   \n",
       "2  UK 959       UK    A 320  [1, 2, 3, 4, 5, 6, 7]  DEL            AMD   \n",
       "3  UK 946       UK    A 320  [1, 2, 3, 4, 5, 6, 7]  AMD      8:40  DEL   \n",
       "4  UK 979       UK    A 320     [1, 2, 3, 4, 5, 6]  DEL            AMD   \n",
       "\n",
       "  to_time             eff_from               eff_to  \n",
       "0    6:25  2019-11-25 00:00:00  2020-03-28 00:00:00  \n",
       "1          2019-11-25 00:00:00  2020-03-28 00:00:00  \n",
       "2    8:00  2019-10-27 00:00:00  2020-03-28 00:00:00  \n",
       "3          2019-10-27 00:00:00  2020-03-28 00:00:00  \n",
       "4   10:20  2019-10-28 00:00:00  2020-03-28 00:00:00  "
      ]
     },
     "execution_count": 96,
     "metadata": {},
     "output_type": "execute_result"
    }
   ],
   "source": [
    "dat = wrangle_frequency(dat)\n",
    "\n",
    "dat.head()"
   ]
  },
  {
   "cell_type": "code",
   "execution_count": 97,
   "metadata": {},
   "outputs": [],
   "source": [
    "def get_yes_no_answer():\n",
    "    \n",
    "    '''\n",
    "    Gets user to input either 'y' or 'n' or 'yes' or 'no' or their case variations\n",
    "    '''\n",
    "    while True:\n",
    "        reply = str(input('Combine?: (y/n): ')).lower().strip()\n",
    "        \n",
    "        if reply == 'y' or reply == 'n':\n",
    "            break\n",
    "        else:\n",
    "            print(\"Please select 'yes' or 'no'\")\n",
    "            continue\n",
    "    \n",
    "    return reply"
   ]
  },
  {
   "cell_type": "code",
   "execution_count": 98,
   "metadata": {},
   "outputs": [],
   "source": [
    "def combine_pairs(df, human_intel = 'n'):\n",
    "    drop_idx = []\n",
    "    \n",
    "    def combine_pairs_func(i, j, drop_idx):\n",
    "        drop_idx.append(j)\n",
    "        \n",
    "        if df.to_time[i] == '': \n",
    "            df.to_time[i] = df.to_time[j]\n",
    "        else: \n",
    "            df.from_time[i] = df.from_time[j]\n",
    "            \n",
    "        return drop_idx\n",
    "        \n",
    "    \n",
    "    for i in range(df.shape[0] - 1):\n",
    "        if i not in drop_idx:\n",
    "            for j in range(i+1, df.shape[0]):\n",
    "                if j not in drop_idx:\n",
    "                    \n",
    "                    if human_intel == 'n':\n",
    "                        if df.flight[i] == df.flight[j] and df.frequency[i] == df.frequency[j]:\n",
    "                            if df['from'][i] == df['from'][j] and df.to[i] == df.to[j]:\n",
    "                                drop_idx = combine_pairs_func(i, j, drop_idx)\n",
    "                                \n",
    "                    else:\n",
    "                        if df.flight[i] == df.flight[j] and df['from'][i] == df['from'][j]:\n",
    "                            if df.to[i] == df.to[j]:\n",
    "                                if df.to_time[i] == '' and df.from_time[j] == '' and df.from_time[i] != '' and df.to_time[j] != '':\n",
    "                                    display('Possibly Pairs?')\n",
    "                                    display(df.iloc[i, :8], df.iloc[j, :8])\n",
    "                                    \n",
    "                                    reply = get_yes_no_answer()\n",
    "                                    \n",
    "                                    if reply == 'y':\n",
    "                                        drop_idx = combine_pairs_func(i, j, drop_idx)\n",
    "                                    \n",
    "                                elif df.to_time[i] != '' and df.from_time[j] != '' and df.from_time[i] == '' and df.to_time[j] == '':\n",
    "                                    display('Pairs?')\n",
    "                                    display(df.iloc[i, :8], df.iloc[j, :8])\n",
    "                                    \n",
    "                                    reply = get_yes_no_answer()\n",
    "                                    \n",
    "                                    if reply == 'y':\n",
    "                                        drop_idx = combine_pairs_func(i, j, drop_idx)\n",
    "                            \n",
    "    \n",
    "    df = df.drop(drop_idx, axis = 0)\n",
    "    df = df.reset_index()\n",
    "    df = df.drop('index', axis = 1)\n",
    "    \n",
    "    return(df)"
   ]
  },
  {
   "cell_type": "code",
   "execution_count": 99,
   "metadata": {},
   "outputs": [
    {
     "data": {
      "text/plain": [
       "(292, 10)"
      ]
     },
     "execution_count": 99,
     "metadata": {},
     "output_type": "execute_result"
    }
   ],
   "source": [
    "dat = combine_pairs(dat)\n",
    "\n",
    "dat.shape"
   ]
  },
  {
   "cell_type": "code",
   "execution_count": 100,
   "metadata": {},
   "outputs": [],
   "source": [
    "def combine_freq(df, human_intel = 'n'):\n",
    "    \n",
    "    '''\n",
    "    Combine multiple schedules where the schedules in the set differ only in their frequencies. This requires no \n",
    "    human intervention.\n",
    "\n",
    "    Combine multiple schedules where the schedules in the set differ not only in their frequencies but vary \n",
    "    slightly in their <from_time> (or <to_time>) values. This requires human intervention\n",
    "    '''\n",
    "    \n",
    "    def combine_freq_func(i, j, drop_idx):\n",
    "        drop_idx.append(j)\n",
    "        df.frequency[i] = df.frequency[i] + df.frequency[j]\n",
    "        df.frequency[i] = list(set(df.frequency[i]))\n",
    "        return drop_idx\n",
    "        \n",
    "    drop_idx = []    \n",
    "    \n",
    "    for i in range(df.shape[0] - 1):\n",
    "        if i not in drop_idx:\n",
    "            for j in range(i+1, df.shape[0]):\n",
    "                if j not in drop_idx:\n",
    "                    \n",
    "                    if human_intel == 'n':\n",
    "                        \n",
    "                        if df.flight[i] == df.flight[j] and df['from'][i] == df['from'][j] and df.to[i] == df.to[j]:\n",
    "                            if df.to_time[i] == df.to_time[j] and df.from_time[i] == df.from_time[j]:\n",
    "                                drop_idx = combine_freq_func(i, j, drop_idx)\n",
    "                    \n",
    "                    else:\n",
    "                        \n",
    "                        if df.flight[i] == df.flight[j] and df['from'][i] == df['from'][j] and df.to[i] == df.to[j]:\n",
    "                            if df.to_time[i] == df.to_time[j] or df.from_time[i] == df.from_time[j]:\n",
    "                                \n",
    "                                display(df.iloc[i, :8], '\\n', df.iloc[j, :8])\n",
    "                                display('Probably the same flight.')\n",
    "\n",
    "                                reply = get_yes_no_answer()\n",
    "    \n",
    "                                if reply == 'y':\n",
    "                                    drop_idx = combine_freq_func(i, j, drop_idx)\n",
    "      \n",
    "    df = df.drop(drop_idx, axis = 0)\n",
    "    df = df.reset_index()\n",
    "    df = df.drop('index', axis = 1)\n",
    "    \n",
    "    return(df)"
   ]
  },
  {
   "cell_type": "code",
   "execution_count": 101,
   "metadata": {},
   "outputs": [
    {
     "data": {
      "text/plain": [
       "(270, 10)"
      ]
     },
     "execution_count": 101,
     "metadata": {},
     "output_type": "execute_result"
    }
   ],
   "source": [
    "dat = combine_freq(dat)\n",
    "\n",
    "dat.shape"
   ]
  },
  {
   "cell_type": "code",
   "execution_count": 102,
   "metadata": {},
   "outputs": [
    {
     "data": {
      "text/plain": [
       "(253, 10)"
      ]
     },
     "execution_count": 102,
     "metadata": {},
     "output_type": "execute_result"
    }
   ],
   "source": [
    "dat = combine_pairs(dat)\n",
    "\n",
    "dat.shape"
   ]
  },
  {
   "cell_type": "code",
   "execution_count": 103,
   "metadata": {},
   "outputs": [
    {
     "data": {
      "text/plain": [
       "flight       UK 863\n",
       "operator         UK\n",
       "aircraft      A 320\n",
       "frequency       [2]\n",
       "from            BOM\n",
       "from_time          \n",
       "to              BLR\n",
       "to_time       10:55\n",
       "Name: 29, dtype: object"
      ]
     },
     "metadata": {},
     "output_type": "display_data"
    },
    {
     "data": {
      "text/plain": [
       "'\\n'"
      ]
     },
     "metadata": {},
     "output_type": "display_data"
    },
    {
     "data": {
      "text/plain": [
       "flight                   UK 863\n",
       "operator                     UK\n",
       "aircraft                  A 320\n",
       "frequency    [1, 3, 4, 5, 6, 7]\n",
       "from                        BOM\n",
       "from_time                      \n",
       "to                          BLR\n",
       "to_time                   11:10\n",
       "Name: 30, dtype: object"
      ]
     },
     "metadata": {},
     "output_type": "display_data"
    },
    {
     "data": {
      "text/plain": [
       "'Probably the same flight.'"
      ]
     },
     "metadata": {},
     "output_type": "display_data"
    },
    {
     "name": "stdout",
     "output_type": "stream",
     "text": [
      "Combine?: (y/n): y\n"
     ]
    },
    {
     "data": {
      "text/plain": [
       "flight                   UK 873\n",
       "operator                     UK\n",
       "aircraft                  B 738\n",
       "frequency    [1, 3, 4, 5, 6, 7]\n",
       "from                        BOM\n",
       "from_time                      \n",
       "to                          HYD\n",
       "to_time                    7:35\n",
       "Name: 196, dtype: object"
      ]
     },
     "metadata": {},
     "output_type": "display_data"
    },
    {
     "data": {
      "text/plain": [
       "'\\n'"
      ]
     },
     "metadata": {},
     "output_type": "display_data"
    },
    {
     "data": {
      "text/plain": [
       "flight       UK 873\n",
       "operator         UK\n",
       "aircraft      B 738\n",
       "frequency       [2]\n",
       "from            BOM\n",
       "from_time          \n",
       "to              HYD\n",
       "to_time        7:45\n",
       "Name: 197, dtype: object"
      ]
     },
     "metadata": {},
     "output_type": "display_data"
    },
    {
     "data": {
      "text/plain": [
       "'Probably the same flight.'"
      ]
     },
     "metadata": {},
     "output_type": "display_data"
    },
    {
     "name": "stdout",
     "output_type": "stream",
     "text": [
      "Combine?: (y/n): y\n"
     ]
    },
    {
     "data": {
      "text/plain": [
       "flight                   UK 874\n",
       "operator                     UK\n",
       "aircraft                  B 738\n",
       "frequency    [1, 3, 4, 5, 6, 7]\n",
       "from                        HYD\n",
       "from_time                  8:15\n",
       "to                          BOM\n",
       "to_time                        \n",
       "Name: 198, dtype: object"
      ]
     },
     "metadata": {},
     "output_type": "display_data"
    },
    {
     "data": {
      "text/plain": [
       "'\\n'"
      ]
     },
     "metadata": {},
     "output_type": "display_data"
    },
    {
     "data": {
      "text/plain": [
       "flight       UK 874\n",
       "operator         UK\n",
       "aircraft      B 738\n",
       "frequency       [2]\n",
       "from            HYD\n",
       "from_time      8:20\n",
       "to              BOM\n",
       "to_time            \n",
       "Name: 199, dtype: object"
      ]
     },
     "metadata": {},
     "output_type": "display_data"
    },
    {
     "data": {
      "text/plain": [
       "'Probably the same flight.'"
      ]
     },
     "metadata": {},
     "output_type": "display_data"
    },
    {
     "name": "stdout",
     "output_type": "stream",
     "text": [
      "Combine?: (y/n): y\n"
     ]
    },
    {
     "data": {
      "text/plain": [
       "(247, 10)"
      ]
     },
     "execution_count": 103,
     "metadata": {},
     "output_type": "execute_result"
    }
   ],
   "source": [
    "dat = combine_freq(dat, 'y')\n",
    "dat = combine_pairs(dat)\n",
    "dat.shape"
   ]
  },
  {
   "cell_type": "code",
   "execution_count": 104,
   "metadata": {},
   "outputs": [
    {
     "data": {
      "text/plain": [
       "'Pairs?'"
      ]
     },
     "metadata": {},
     "output_type": "display_data"
    },
    {
     "data": {
      "text/plain": [
       "flight                      UK 845\n",
       "operator                        UK\n",
       "aircraft                     B 738\n",
       "frequency    [1, 2, 3, 4, 5, 6, 7]\n",
       "from                           BOM\n",
       "from_time                         \n",
       "to                             BLR\n",
       "to_time                       7:35\n",
       "Name: 22, dtype: object"
      ]
     },
     "metadata": {},
     "output_type": "display_data"
    },
    {
     "data": {
      "text/plain": [
       "flight                   UK 845\n",
       "operator                     UK\n",
       "aircraft                  B 738\n",
       "frequency    [1, 2, 3, 4, 5, 6]\n",
       "from                        BOM\n",
       "from_time                  6:00\n",
       "to                          BLR\n",
       "to_time                        \n",
       "Name: 226, dtype: object"
      ]
     },
     "metadata": {},
     "output_type": "display_data"
    },
    {
     "name": "stdout",
     "output_type": "stream",
     "text": [
      "Combine?: (y/n): y\n"
     ]
    },
    {
     "data": {
      "text/plain": [
       "'Possibly Pairs?'"
      ]
     },
     "metadata": {},
     "output_type": "display_data"
    },
    {
     "data": {
      "text/plain": [
       "flight                      UK 846\n",
       "operator                        UK\n",
       "aircraft                     B 738\n",
       "frequency    [1, 2, 3, 4, 5, 6, 7]\n",
       "from                           BLR\n",
       "from_time                     8:20\n",
       "to                             BOM\n",
       "to_time                           \n",
       "Name: 23, dtype: object"
      ]
     },
     "metadata": {},
     "output_type": "display_data"
    },
    {
     "data": {
      "text/plain": [
       "flight                   UK 846\n",
       "operator                     UK\n",
       "aircraft                  B 738\n",
       "frequency    [1, 2, 3, 4, 5, 6]\n",
       "from                        BLR\n",
       "from_time                      \n",
       "to                          BOM\n",
       "to_time                    9:55\n",
       "Name: 229, dtype: object"
      ]
     },
     "metadata": {},
     "output_type": "display_data"
    },
    {
     "name": "stdout",
     "output_type": "stream",
     "text": [
      "Combine?: (y/n): y\n"
     ]
    },
    {
     "data": {
      "text/plain": [
       "'Pairs?'"
      ]
     },
     "metadata": {},
     "output_type": "display_data"
    },
    {
     "data": {
      "text/plain": [
       "flight                   UK 667\n",
       "operator                     UK\n",
       "aircraft                  A 320\n",
       "frequency    [1, 2, 3, 4, 5, 6]\n",
       "from                        DEL\n",
       "from_time                      \n",
       "to                          IXC\n",
       "to_time                    8:15\n",
       "Name: 54, dtype: object"
      ]
     },
     "metadata": {},
     "output_type": "display_data"
    },
    {
     "data": {
      "text/plain": [
       "flight                      UK 667\n",
       "operator                        UK\n",
       "aircraft                     A 320\n",
       "frequency    [1, 2, 3, 4, 5, 6, 7]\n",
       "from                           DEL\n",
       "from_time                     7:10\n",
       "to                             IXC\n",
       "to_time                           \n",
       "Name: 99, dtype: object"
      ]
     },
     "metadata": {},
     "output_type": "display_data"
    },
    {
     "name": "stdout",
     "output_type": "stream",
     "text": [
      "Combine?: (y/n): y\n"
     ]
    },
    {
     "data": {
      "text/plain": [
       "'Possibly Pairs?'"
      ]
     },
     "metadata": {},
     "output_type": "display_data"
    },
    {
     "data": {
      "text/plain": [
       "flight                   UK 668\n",
       "operator                     UK\n",
       "aircraft                  A 320\n",
       "frequency    [1, 2, 3, 4, 5, 6]\n",
       "from                        IXC\n",
       "from_time                  8:50\n",
       "to                          DEL\n",
       "to_time                        \n",
       "Name: 55, dtype: object"
      ]
     },
     "metadata": {},
     "output_type": "display_data"
    },
    {
     "data": {
      "text/plain": [
       "flight                      UK 668\n",
       "operator                        UK\n",
       "aircraft                     A 320\n",
       "frequency    [1, 2, 3, 4, 5, 6, 7]\n",
       "from                           IXC\n",
       "from_time                         \n",
       "to                             DEL\n",
       "to_time                      10:00\n",
       "Name: 112, dtype: object"
      ]
     },
     "metadata": {},
     "output_type": "display_data"
    },
    {
     "name": "stdout",
     "output_type": "stream",
     "text": [
      "Combine?: (y/n): y\n"
     ]
    },
    {
     "data": {
      "text/plain": [
       "'Possibly Pairs?'"
      ]
     },
     "metadata": {},
     "output_type": "display_data"
    },
    {
     "data": {
      "text/plain": [
       "flight                UK 943\n",
       "operator                  UK\n",
       "aircraft               A 320\n",
       "frequency    [1, 2, 3, 4, 5]\n",
       "from                     DEL\n",
       "from_time               7:30\n",
       "to                       BOM\n",
       "to_time                     \n",
       "Name: 102, dtype: object"
      ]
     },
     "metadata": {},
     "output_type": "display_data"
    },
    {
     "data": {
      "text/plain": [
       "flight                      UK 943\n",
       "operator                        UK\n",
       "aircraft                     A 320\n",
       "frequency    [1, 2, 3, 4, 5, 6, 7]\n",
       "from                           DEL\n",
       "from_time                         \n",
       "to                             BOM\n",
       "to_time                       9:45\n",
       "Name: 228, dtype: object"
      ]
     },
     "metadata": {},
     "output_type": "display_data"
    },
    {
     "name": "stdout",
     "output_type": "stream",
     "text": [
      "Combine?: (y/n): y\n"
     ]
    },
    {
     "data": {
      "text/plain": [
       "'Pairs?'"
      ]
     },
     "metadata": {},
     "output_type": "display_data"
    },
    {
     "data": {
      "text/plain": [
       "flight                UK 930\n",
       "operator                  UK\n",
       "aircraft               A 320\n",
       "frequency    [1, 2, 3, 4, 5]\n",
       "from                     BOM\n",
       "from_time                   \n",
       "to                       DEL\n",
       "to_time                 9:35\n",
       "Name: 110, dtype: object"
      ]
     },
     "metadata": {},
     "output_type": "display_data"
    },
    {
     "data": {
      "text/plain": [
       "flight                      UK 930\n",
       "operator                        UK\n",
       "aircraft                     A 320\n",
       "frequency    [1, 2, 3, 4, 5, 6, 7]\n",
       "from                           BOM\n",
       "from_time                     7:30\n",
       "to                             DEL\n",
       "to_time                           \n",
       "Name: 227, dtype: object"
      ]
     },
     "metadata": {},
     "output_type": "display_data"
    },
    {
     "name": "stdout",
     "output_type": "stream",
     "text": [
      "Combine?: (y/n): y\n"
     ]
    },
    {
     "data": {
      "text/plain": [
       "(241, 10)"
      ]
     },
     "execution_count": 104,
     "metadata": {},
     "output_type": "execute_result"
    }
   ],
   "source": [
    "dat = combine_pairs(dat, 'y')\n",
    "\n",
    "dat.shape"
   ]
  },
  {
   "cell_type": "code",
   "execution_count": 109,
   "metadata": {},
   "outputs": [
    {
     "data": {
      "text/plain": [
       "(192, 10)"
      ]
     },
     "execution_count": 109,
     "metadata": {},
     "output_type": "execute_result"
    }
   ],
   "source": [
    "trash_idx = [i for i in range(dat.shape[0]) if dat.to_time[i] == '' or dat.from_time[i] == '']\n",
    "\n",
    "dat = dat.drop(trash_idx, axis = 0)\n",
    "dat = dat.reset_index()\n",
    "dat = dat.drop('index', axis = 1)\n",
    "dat.shape"
   ]
  },
  {
   "cell_type": "code",
   "execution_count": 111,
   "metadata": {},
   "outputs": [
    {
     "data": {
      "text/plain": [
       "flight       object\n",
       "operator     object\n",
       "aircraft     object\n",
       "frequency    object\n",
       "from         object\n",
       "from_time    object\n",
       "to           object\n",
       "to_time      object\n",
       "eff_from     object\n",
       "eff_to       object\n",
       "dtype: object"
      ]
     },
     "execution_count": 111,
     "metadata": {},
     "output_type": "execute_result"
    }
   ],
   "source": [
    "foo = dat.copy()\n",
    "foo.dtypes"
   ]
  },
  {
   "cell_type": "code",
   "execution_count": 165,
   "metadata": {},
   "outputs": [],
   "source": [
    "import datetime\n",
    "datetime_cols = ['from_time', 'to_time']\n",
    "bar = datetime.datetime.strptime(foo['to_time'][0], '%H:%M')\n",
    "car = datetime.datetime.strptime(foo['from_time'][1], '%H:%M')"
   ]
  },
  {
   "cell_type": "code",
   "execution_count": 166,
   "metadata": {},
   "outputs": [
    {
     "name": "stdout",
     "output_type": "stream",
     "text": [
      "1900-01-01 08:00:00 1900-01-01 08:40:00\n"
     ]
    },
    {
     "data": {
      "text/plain": [
       "False"
      ]
     },
     "execution_count": 166,
     "metadata": {},
     "output_type": "execute_result"
    }
   ],
   "source": [
    "print(bar, car)\n",
    "(bar>car)"
   ]
  },
  {
   "cell_type": "code",
   "execution_count": 128,
   "metadata": {},
   "outputs": [
    {
     "data": {
      "text/plain": [
       "str"
      ]
     },
     "execution_count": 128,
     "metadata": {},
     "output_type": "execute_result"
    }
   ],
   "source": [
    "type(foo['to_time'][0])"
   ]
  },
  {
   "cell_type": "code",
   "execution_count": 110,
   "metadata": {},
   "outputs": [],
   "source": [
    "dat.to_excel('./data/processed/vistara.xlsx')"
   ]
  }
 ],
 "metadata": {
  "kernelspec": {
   "display_name": "Python 3",
   "language": "python",
   "name": "python3"
  },
  "language_info": {
   "codemirror_mode": {
    "name": "ipython",
    "version": 3
   },
   "file_extension": ".py",
   "mimetype": "text/x-python",
   "name": "python",
   "nbconvert_exporter": "python",
   "pygments_lexer": "ipython3",
   "version": "3.7.4"
  }
 },
 "nbformat": 4,
 "nbformat_minor": 4
}
