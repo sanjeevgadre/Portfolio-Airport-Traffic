{
 "cells": [
  {
   "cell_type": "markdown",
   "metadata": {},
   "source": [
    "Creates three dictionaries and saves them as binary files:\n",
    "<ul>\n",
    "    <li>Maps incorrect city name spellings to correct/standard spellings\n",
    "    <li>Maps city names to corresponding IATA codes.\n",
    "    <li>Maps IATA codes to corresponding city names.\n",
    "</ul>\n",
    "<b>These dictionaries must be rebuilt everytime a new city code is to be added or city name spelling is to be corrected."
   ]
  },
  {
   "cell_type": "code",
   "execution_count": 1,
   "metadata": {},
   "outputs": [],
   "source": [
    "import csv\n",
    "import pandas as pd\n",
    "import pickle"
   ]
  },
  {
   "cell_type": "code",
   "execution_count": 2,
   "metadata": {},
   "outputs": [],
   "source": [
    "'''\n",
    "\n",
    "This dictionary must be updated everytime an incorrect spelling for a city, already in the city_to_code and \n",
    "code_to_city dictionaries, is encountered in the raw data.\n",
    "\n",
    "'''\n",
    "\n",
    "city_names = {'Delhi' : 'New Delhi', 'Bhubaneshwar' : 'Bhubaneswar', 'Trivandrum' : 'Thiruvananthapuram', \n",
    "              'Pondicherry' : 'Puducherry', 'Porbander' : 'Porbandar', 'Tirupathi' : 'Tirupati', \n",
    "              'Tuticorin' : 'Thoothukudi', 'Vizag' : 'Visakhapatnam', 'Cuddapah': 'Kadapa', \n",
    "              'Jalgoan' : 'Jalgaon', 'Rajamundry' : 'Rajahmundry', 'Aizawal' : 'Aizawl', \n",
    "              'Trichy' : 'Tiruchirappally', 'Bathinda' : 'Bhatinda', 'Passighat' : 'Pasighat'}\n",
    "\n",
    "with open('./data/processed/dicts/city_spelling_corrected_dict.txt', 'w+b') as handle:\n",
    "    pickle.dump(city_names, handle)"
   ]
  },
  {
   "cell_type": "code",
   "execution_count": 3,
   "metadata": {},
   "outputs": [],
   "source": [
    "'''\n",
    "\n",
    "These dictionaries must be updated everytime a new city and its corresponding IATA code needs to be added\n",
    "\n",
    "'''\n",
    "\n",
    "city_codes = pd.read_csv('./data/raw/csv/airports.csv')\n",
    "\n",
    "city_to_codes = dict(zip(city_codes.city, city_codes.iata_code))\n",
    "with open('./data/processed/dicts/city_to_codes_dict.txt', 'w+b') as handle:\n",
    "    pickle.dump(city_to_codes, handle)\n",
    "    \n",
    "codes_to_city = dict(zip(city_codes.iata_code, city_codes.city))\n",
    "with open('./data/processed/dicts/codes_to_city_dict.txt', 'w+b') as handle:\n",
    "    pickle.dump(codes_to_city, handle)"
   ]
  }
 ],
 "metadata": {
  "kernelspec": {
   "display_name": "Python 3",
   "language": "python",
   "name": "python3"
  },
  "language_info": {
   "codemirror_mode": {
    "name": "ipython",
    "version": 3
   },
   "file_extension": ".py",
   "mimetype": "text/x-python",
   "name": "python",
   "nbconvert_exporter": "python",
   "pygments_lexer": "ipython3",
   "version": "3.7.4"
  }
 },
 "nbformat": 4,
 "nbformat_minor": 4
}
