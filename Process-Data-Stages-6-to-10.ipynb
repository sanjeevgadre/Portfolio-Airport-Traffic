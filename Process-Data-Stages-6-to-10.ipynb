{
 "cells": [
  {
   "cell_type": "code",
   "execution_count": 98,
   "metadata": {},
   "outputs": [],
   "source": [
    "import numpy as np\n",
    "import pandas as pd\n",
    "import os\n",
    "import pickle\n",
    "from pathlib import Path\n",
    "import pytz\n",
    "from datetime import datetime"
   ]
  },
  {
   "cell_type": "code",
   "execution_count": 99,
   "metadata": {},
   "outputs": [],
   "source": [
    "def get_yes_no_answer():\n",
    "    '''\n",
    "    \n",
    "    Gets user response as 'y' or 'n' or 'yes' or 'no' or their case variations.\n",
    "    \n",
    "    '''\n",
    "    \n",
    "    while True:\n",
    "        reply = str(input('Combine?: (y/n): ')).lower().strip()\n",
    "        \n",
    "        if reply == 'y' or reply == 'n':\n",
    "            break\n",
    "        else:\n",
    "            print(\"Please select 'yes' or 'no'\")\n",
    "    \n",
    "    return reply"
   ]
  },
  {
   "cell_type": "code",
   "execution_count": 100,
   "metadata": {},
   "outputs": [],
   "source": [
    "def read_format_csv(path):\n",
    "    '''\n",
    "    \n",
    "    Read the previously stage-1 processed csv file and set the appropriate column formats.\n",
    "    \n",
    "    '''\n",
    "    \n",
    "    df = pd.read_pickle(readpath)\n",
    "    '''df = df.fillna('')\n",
    "    \n",
    "    for i in range(df.shape[0]):\n",
    "        df.eff_from[i] = datetime.strptime(df.eff_from[i], '%Y-%m-%d %H:%M:%S')\n",
    "        df.eff_to[i] = datetime.strptime(df.eff_to[i], '%Y-%m-%d %H:%M:%S')'''\n",
    "    \n",
    "    return df\n",
    "    "
   ]
  },
  {
   "cell_type": "code",
   "execution_count": 101,
   "metadata": {},
   "outputs": [],
   "source": [
    "def drop_dummy_scheds(df):\n",
    "    '''\n",
    "    \n",
    "    Dummy schedules are identified when their Effective From Date is the same as Effective To Date.\n",
    "    \n",
    "    '''\n",
    "    \n",
    "    idx = [i for i in range(df.shape[0]) if df['eff_from'][i] == df['eff_to'][i]]\n",
    "    df = df.drop(idx, axis = 0)\n",
    "    df = df.reset_index()\n",
    "    df = df.drop(['index'], axis = 1)\n",
    "    \n",
    "    return df"
   ]
  },
  {
   "cell_type": "code",
   "execution_count": 102,
   "metadata": {},
   "outputs": [],
   "source": [
    "def drop_noncurrent_scheds(df, tz):\n",
    "    '''\n",
    "    \n",
    "    Schedules that are, as of today, yet to commence or are no longer in operations.\n",
    "    \n",
    "    '''\n",
    "    \n",
    "    today = datetime.now(tz).date()\n",
    "    idx = [i for i in range(df.shape[0]) \n",
    "           if (today <=  datetime.date(df['eff_from'][i])) or (today >= datetime.date(df['eff_to'][i]))]\n",
    "    \n",
    "    df = df.drop(idx, axis = 0)\n",
    "    df = df.reset_index()\n",
    "    df = df.drop('index', axis = 1)\n",
    "    \n",
    "    return df"
   ]
  },
  {
   "cell_type": "code",
   "execution_count": 103,
   "metadata": {},
   "outputs": [],
   "source": [
    "def wrangle_frequency(df):\n",
    "    '''\n",
    "    \n",
    "    Standardize <frequency> values for all schedules as a list of numbers that can take values from 1 to 7 for the\n",
    "    weekdays on which a schedule is operational.\n",
    "    \n",
    "    '''\n",
    "\n",
    "# Convert frequency into a string of numbers\n",
    "    for i in range(df.shape[0]):\n",
    "        if isinstance(df.frequency[i], str):\n",
    "            df.frequency[i] = '1234567'\n",
    "        else:\n",
    "            df.frequency[i] = str(int(df.frequency[i]))\n",
    "\n",
    "# Convert string of numbers into list of numbers\n",
    "        df.frequency[i] = list(df.frequency[i]) # Split str\n",
    "        df.frequency[i] = list(map(int, df.frequency[i])) # Convert from str to int\n",
    "    \n",
    "    return df"
   ]
  },
  {
   "cell_type": "code",
   "execution_count": 104,
   "metadata": {},
   "outputs": [],
   "source": [
    "def make_pairs(df, human_intel = 'n'):\n",
    "    '''\n",
    "    \n",
    "    In raw data, each schedule has two legs of information: at origin and at destination. These two legs are\n",
    "    present as different records. Identify pairs and combine them into a single record.\n",
    "    \n",
    "    Allow for human intervetion to identify possible pairs when poor/missing data does not allow for automated \n",
    "    identification.\n",
    "    \n",
    "    Embedded helper function combine_pairs_func() appropriately combines records [i] and [j] and marks record [j] \n",
    "    for deletion.\n",
    "    \n",
    "    '''\n",
    "    \n",
    "    def combine_pairs_func(i, j, drop_idx):\n",
    "\n",
    "        drop_idx.append(j)\n",
    "        \n",
    "        if df.to_time[i] == '': \n",
    "            df.to_time[i] = df.to_time[j]\n",
    "        else: \n",
    "            df.from_time[i] = df.from_time[j]\n",
    "            \n",
    "        return drop_idx\n",
    "    \n",
    "    drop_idx = []        \n",
    "    \n",
    "    # Compare a record with only subsequent records and as long as the subsequent record has not already been\n",
    "    # paired with some other record.\n",
    "    for i in range(df.shape[0] - 1):\n",
    "        if i not in drop_idx:\n",
    "            for j in range(i+1, df.shape[0]):\n",
    "                if j not in drop_idx:\n",
    "                    \n",
    "                    # Automated pairing\n",
    "                    if human_intel == 'n':\n",
    "                        if df.flight[i] == df.flight[j] and df.frequency[i] == df.frequency[j]:\n",
    "                            if df['from'][i] == df['from'][j] and df.to[i] == df.to[j]:\n",
    "                                drop_idx = combine_pairs_func(i, j, drop_idx)\n",
    "                                \n",
    "                    # Pairing with human intervention by relaxing the identical frequency constraint\n",
    "                    else:\n",
    "                        if df.flight[i] == df.flight[j]:\n",
    "                            if df.to[i] == df.to[j] and df['from'][i] == df['from'][j]:\n",
    "                                if df.to_time[i] == '' and df.from_time[j] == '' and df.from_time[i] != '' and df.to_time[j] != '':\n",
    "                                    display(df.iloc[i, :8], df.iloc[j, :8])\n",
    "                                    display('Possibly Pairs?')\n",
    "                                    reply = get_yes_no_answer()\n",
    "                                    \n",
    "                                    if reply == 'y':\n",
    "                                        drop_idx = combine_pairs_func(i, j, drop_idx)\n",
    "                                    \n",
    "                                elif df.to_time[i] != '' and df.from_time[j] != '' and df.from_time[i] == '' and df.to_time[j] == '':\n",
    "                                    display(df.iloc[i, :8], df.iloc[j, :8])\n",
    "                                    display('Possibly Pairs?')\n",
    "                                    reply = get_yes_no_answer()\n",
    "                                    \n",
    "                                    if reply == 'y':\n",
    "                                        drop_idx = combine_pairs_func(i, j, drop_idx)\n",
    "                            \n",
    "    \n",
    "    df = df.drop(drop_idx, axis = 0)\n",
    "    df = df.reset_index()\n",
    "    df = df.drop('index', axis = 1)\n",
    "    \n",
    "    return(df)"
   ]
  },
  {
   "cell_type": "code",
   "execution_count": 105,
   "metadata": {},
   "outputs": [],
   "source": [
    "def merge_freq(df, human_intel = 'n'):\n",
    "    \n",
    "    '''\n",
    "    \n",
    "    Combine multiple schedule records where the schedules in the set differ only in their frequencies. This \n",
    "    requires no human intervention.\n",
    "\n",
    "    Combine multiple schedules where the schedules in the set differ not only in their frequencies but vary \n",
    "    slightly in their <from_time> (or <to_time>) values. This requires human intervention\n",
    "    \n",
    "    Embedded helper function combine_frq_func() appropriately combines records [i] and [j] and marks record [j] \n",
    "    for deletion.\n",
    "    \n",
    "    '''\n",
    "    \n",
    "    def combine_freq_func(i, j, drop_idx):\n",
    "        drop_idx.append(j)\n",
    "        df.frequency[i] = df.frequency[i] + df.frequency[j]\n",
    "        df.frequency[i] = list(set(df.frequency[i]))\n",
    "        return drop_idx\n",
    "        \n",
    "    drop_idx = []    \n",
    "    \n",
    "    for i in range(df.shape[0] - 1):\n",
    "        if i not in drop_idx:\n",
    "            for j in range(i+1, df.shape[0]):\n",
    "                if j not in drop_idx:\n",
    "                    \n",
    "                    # Automated Merging\n",
    "                    if human_intel == 'n':\n",
    "                        if df.flight[i] == df.flight[j] and df['from'][i] == df['from'][j] and df.to[i] == df.to[j]:\n",
    "                            if df.to_time[i] == df.to_time[j] and df.from_time[i] == df.from_time[j]:\n",
    "                                drop_idx = combine_freq_func(i, j, drop_idx)\n",
    "                    \n",
    "                    # Merging with human intervention by requiring only either to_time or from_time be identical  \n",
    "                    else:\n",
    "                        if df.flight[i] == df.flight[j] and df['from'][i] == df['from'][j] and df.to[i] == df.to[j]:\n",
    "                            if df.to_time[i] == df.to_time[j] or df.from_time[i] == df.from_time[j]:\n",
    "                                \n",
    "                                display(df.iloc[i, :8], '\\n', df.iloc[j, :8])\n",
    "                                display('Probably the same flight.')\n",
    "\n",
    "                                reply = get_yes_no_answer()\n",
    "    \n",
    "                                if reply == 'y':\n",
    "                                    drop_idx = combine_freq_func(i, j, drop_idx)\n",
    "      \n",
    "    df = df.drop(drop_idx, axis = 0)\n",
    "    df = df.reset_index()\n",
    "    df = df.drop('index', axis = 1)\n",
    "    \n",
    "    return(df)"
   ]
  },
  {
   "cell_type": "code",
   "execution_count": 106,
   "metadata": {},
   "outputs": [],
   "source": [
    "def separate_orphan_scheds(df, orphan_scheds):\n",
    "    \n",
    "    orphan_idx = [i for i in range(df.shape[0]) if df.to_time[i] == '' or df.from_time[i] == '']\n",
    "    orphan_scheds = pd.concat([orphan_scheds, df.iloc[orphan_idx]], ignore_index = True)        \n",
    "\n",
    "    df = df.drop(orphan_idx, axis = 0)\n",
    "    df = df.reset_index()\n",
    "    df = df.drop('index', axis = 1)\n",
    "\n",
    "    return df, orphan_scheds, len(orphan_idx)"
   ]
  },
  {
   "cell_type": "code",
   "execution_count": 107,
   "metadata": {},
   "outputs": [],
   "source": [
    "def to_base10_time(df):\n",
    "    \n",
    "    for i in range(df.shape[0]):\n",
    "        foo = df.from_time[i].split(':')\n",
    "        df.from_time[i] = round((int(foo[0]) + int(foo[1])/60), 2)\n",
    "        foo = df.to_time[i].split(':')\n",
    "        df.to_time[i] = round((int(foo[0]) + int(foo[1])/60), 2)\n",
    "        \n",
    "    return df"
   ]
  },
  {
   "cell_type": "code",
   "execution_count": 108,
   "metadata": {},
   "outputs": [
    {
     "name": "stdout",
     "output_type": "stream",
     "text": [
      "\n",
      "Processing for Vistara\n",
      "(Stage VI) Read Stage-1 processed data: has 515 records\n",
      "(Stage VII) Dropped dummy schedules: now has 486 records\n",
      "(Stage VIII) Dropped non-current schedules: now has 462 records\n",
      "(Stage IX) Standardized <frequency> data\n",
      "           Paired the <from> and <to> legs of a schedule: now has 292 records\n",
      "(Stage X) Merge schedules split only by frequency\n",
      "          Paired resultant <from> and <to> legs of a schedule: now has 253 records\n"
     ]
    },
    {
     "data": {
      "text/plain": [
       "operator         UK\n",
       "flight       UK 863\n",
       "aircraft      A 320\n",
       "frequency       [2]\n",
       "from            BOM\n",
       "from_time          \n",
       "to              BLR\n",
       "to_time       10:55\n",
       "Name: 29, dtype: object"
      ]
     },
     "metadata": {},
     "output_type": "display_data"
    },
    {
     "data": {
      "text/plain": [
       "'\\n'"
      ]
     },
     "metadata": {},
     "output_type": "display_data"
    },
    {
     "data": {
      "text/plain": [
       "operator                     UK\n",
       "flight                   UK 863\n",
       "aircraft                  A 320\n",
       "frequency    [1, 3, 4, 5, 6, 7]\n",
       "from                        BOM\n",
       "from_time                      \n",
       "to                          BLR\n",
       "to_time                   11:10\n",
       "Name: 30, dtype: object"
      ]
     },
     "metadata": {},
     "output_type": "display_data"
    },
    {
     "data": {
      "text/plain": [
       "'Probably the same flight.'"
      ]
     },
     "metadata": {},
     "output_type": "display_data"
    },
    {
     "name": "stdout",
     "output_type": "stream",
     "text": [
      "Combine?: (y/n): y\n"
     ]
    },
    {
     "data": {
      "text/plain": [
       "operator                     UK\n",
       "flight                   UK 873\n",
       "aircraft                  B 738\n",
       "frequency    [1, 3, 4, 5, 6, 7]\n",
       "from                        BOM\n",
       "from_time                      \n",
       "to                          HYD\n",
       "to_time                    7:35\n",
       "Name: 196, dtype: object"
      ]
     },
     "metadata": {},
     "output_type": "display_data"
    },
    {
     "data": {
      "text/plain": [
       "'\\n'"
      ]
     },
     "metadata": {},
     "output_type": "display_data"
    },
    {
     "data": {
      "text/plain": [
       "operator         UK\n",
       "flight       UK 873\n",
       "aircraft      B 738\n",
       "frequency       [2]\n",
       "from            BOM\n",
       "from_time          \n",
       "to              HYD\n",
       "to_time        7:45\n",
       "Name: 197, dtype: object"
      ]
     },
     "metadata": {},
     "output_type": "display_data"
    },
    {
     "data": {
      "text/plain": [
       "'Probably the same flight.'"
      ]
     },
     "metadata": {},
     "output_type": "display_data"
    },
    {
     "name": "stdout",
     "output_type": "stream",
     "text": [
      "Combine?: (y/n): y\n"
     ]
    },
    {
     "data": {
      "text/plain": [
       "operator                     UK\n",
       "flight                   UK 874\n",
       "aircraft                  B 738\n",
       "frequency    [1, 3, 4, 5, 6, 7]\n",
       "from                        HYD\n",
       "from_time                  8:15\n",
       "to                          BOM\n",
       "to_time                        \n",
       "Name: 198, dtype: object"
      ]
     },
     "metadata": {},
     "output_type": "display_data"
    },
    {
     "data": {
      "text/plain": [
       "'\\n'"
      ]
     },
     "metadata": {},
     "output_type": "display_data"
    },
    {
     "data": {
      "text/plain": [
       "operator         UK\n",
       "flight       UK 874\n",
       "aircraft      B 738\n",
       "frequency       [2]\n",
       "from            HYD\n",
       "from_time      8:20\n",
       "to              BOM\n",
       "to_time            \n",
       "Name: 199, dtype: object"
      ]
     },
     "metadata": {},
     "output_type": "display_data"
    },
    {
     "data": {
      "text/plain": [
       "'Probably the same flight.'"
      ]
     },
     "metadata": {},
     "output_type": "display_data"
    },
    {
     "name": "stdout",
     "output_type": "stream",
     "text": [
      "Combine?: (y/n): y\n",
      "(Stage XI) Merge schedules split by frequency but with human confirmation\n",
      "           Paired resultant <from> and <to> legs of a schedule: now has 247 records\n"
     ]
    },
    {
     "data": {
      "text/plain": [
       "operator                        UK\n",
       "flight                      UK 845\n",
       "aircraft                     B 738\n",
       "frequency    [1, 2, 3, 4, 5, 6, 7]\n",
       "from                           BOM\n",
       "from_time                         \n",
       "to                             BLR\n",
       "to_time                       7:35\n",
       "Name: 22, dtype: object"
      ]
     },
     "metadata": {},
     "output_type": "display_data"
    },
    {
     "data": {
      "text/plain": [
       "operator                     UK\n",
       "flight                   UK 845\n",
       "aircraft                  B 738\n",
       "frequency    [1, 2, 3, 4, 5, 6]\n",
       "from                        BOM\n",
       "from_time                  6:00\n",
       "to                          BLR\n",
       "to_time                        \n",
       "Name: 226, dtype: object"
      ]
     },
     "metadata": {},
     "output_type": "display_data"
    },
    {
     "data": {
      "text/plain": [
       "'Possibly Pairs?'"
      ]
     },
     "metadata": {},
     "output_type": "display_data"
    },
    {
     "name": "stdout",
     "output_type": "stream",
     "text": [
      "Combine?: (y/n): y\n"
     ]
    },
    {
     "data": {
      "text/plain": [
       "operator                        UK\n",
       "flight                      UK 846\n",
       "aircraft                     B 738\n",
       "frequency    [1, 2, 3, 4, 5, 6, 7]\n",
       "from                           BLR\n",
       "from_time                     8:20\n",
       "to                             BOM\n",
       "to_time                           \n",
       "Name: 23, dtype: object"
      ]
     },
     "metadata": {},
     "output_type": "display_data"
    },
    {
     "data": {
      "text/plain": [
       "operator                     UK\n",
       "flight                   UK 846\n",
       "aircraft                  B 738\n",
       "frequency    [1, 2, 3, 4, 5, 6]\n",
       "from                        BLR\n",
       "from_time                      \n",
       "to                          BOM\n",
       "to_time                    9:55\n",
       "Name: 229, dtype: object"
      ]
     },
     "metadata": {},
     "output_type": "display_data"
    },
    {
     "data": {
      "text/plain": [
       "'Possibly Pairs?'"
      ]
     },
     "metadata": {},
     "output_type": "display_data"
    },
    {
     "name": "stdout",
     "output_type": "stream",
     "text": [
      "Combine?: (y/n): y\n"
     ]
    },
    {
     "data": {
      "text/plain": [
       "operator                     UK\n",
       "flight                   UK 667\n",
       "aircraft                  A 320\n",
       "frequency    [1, 2, 3, 4, 5, 6]\n",
       "from                        DEL\n",
       "from_time                      \n",
       "to                          IXC\n",
       "to_time                    8:15\n",
       "Name: 54, dtype: object"
      ]
     },
     "metadata": {},
     "output_type": "display_data"
    },
    {
     "data": {
      "text/plain": [
       "operator                        UK\n",
       "flight                      UK 667\n",
       "aircraft                     A 320\n",
       "frequency    [1, 2, 3, 4, 5, 6, 7]\n",
       "from                           DEL\n",
       "from_time                     7:10\n",
       "to                             IXC\n",
       "to_time                           \n",
       "Name: 99, dtype: object"
      ]
     },
     "metadata": {},
     "output_type": "display_data"
    },
    {
     "data": {
      "text/plain": [
       "'Possibly Pairs?'"
      ]
     },
     "metadata": {},
     "output_type": "display_data"
    },
    {
     "name": "stdout",
     "output_type": "stream",
     "text": [
      "Combine?: (y/n): y\n"
     ]
    },
    {
     "data": {
      "text/plain": [
       "operator                     UK\n",
       "flight                   UK 668\n",
       "aircraft                  A 320\n",
       "frequency    [1, 2, 3, 4, 5, 6]\n",
       "from                        IXC\n",
       "from_time                  8:50\n",
       "to                          DEL\n",
       "to_time                        \n",
       "Name: 55, dtype: object"
      ]
     },
     "metadata": {},
     "output_type": "display_data"
    },
    {
     "data": {
      "text/plain": [
       "operator                        UK\n",
       "flight                      UK 668\n",
       "aircraft                     A 320\n",
       "frequency    [1, 2, 3, 4, 5, 6, 7]\n",
       "from                           IXC\n",
       "from_time                         \n",
       "to                             DEL\n",
       "to_time                      10:00\n",
       "Name: 112, dtype: object"
      ]
     },
     "metadata": {},
     "output_type": "display_data"
    },
    {
     "data": {
      "text/plain": [
       "'Possibly Pairs?'"
      ]
     },
     "metadata": {},
     "output_type": "display_data"
    },
    {
     "name": "stdout",
     "output_type": "stream",
     "text": [
      "Combine?: (y/n): y\n"
     ]
    },
    {
     "data": {
      "text/plain": [
       "operator                  UK\n",
       "flight                UK 943\n",
       "aircraft               A 320\n",
       "frequency    [1, 2, 3, 4, 5]\n",
       "from                     DEL\n",
       "from_time               7:30\n",
       "to                       BOM\n",
       "to_time                     \n",
       "Name: 102, dtype: object"
      ]
     },
     "metadata": {},
     "output_type": "display_data"
    },
    {
     "data": {
      "text/plain": [
       "operator                        UK\n",
       "flight                      UK 943\n",
       "aircraft                     A 320\n",
       "frequency    [1, 2, 3, 4, 5, 6, 7]\n",
       "from                           DEL\n",
       "from_time                         \n",
       "to                             BOM\n",
       "to_time                       9:45\n",
       "Name: 228, dtype: object"
      ]
     },
     "metadata": {},
     "output_type": "display_data"
    },
    {
     "data": {
      "text/plain": [
       "'Possibly Pairs?'"
      ]
     },
     "metadata": {},
     "output_type": "display_data"
    },
    {
     "name": "stdout",
     "output_type": "stream",
     "text": [
      "Combine?: (y/n): y\n"
     ]
    },
    {
     "data": {
      "text/plain": [
       "operator                  UK\n",
       "flight                UK 930\n",
       "aircraft               A 320\n",
       "frequency    [1, 2, 3, 4, 5]\n",
       "from                     BOM\n",
       "from_time                   \n",
       "to                       DEL\n",
       "to_time                 9:35\n",
       "Name: 110, dtype: object"
      ]
     },
     "metadata": {},
     "output_type": "display_data"
    },
    {
     "data": {
      "text/plain": [
       "operator                        UK\n",
       "flight                      UK 930\n",
       "aircraft                     A 320\n",
       "frequency    [1, 2, 3, 4, 5, 6, 7]\n",
       "from                           BOM\n",
       "from_time                     7:30\n",
       "to                             DEL\n",
       "to_time                           \n",
       "Name: 227, dtype: object"
      ]
     },
     "metadata": {},
     "output_type": "display_data"
    },
    {
     "data": {
      "text/plain": [
       "'Possibly Pairs?'"
      ]
     },
     "metadata": {},
     "output_type": "display_data"
    },
    {
     "name": "stdout",
     "output_type": "stream",
     "text": [
      "Combine?: (y/n): y\n",
      "(Stage XII) Pair <from> and <to> legs of a schedule but with human confirmantion\n",
      "            : now has 241 records\n",
      "(Stage XIII) Separated  49 orphan schedules: now has 192 records\n",
      "(Stage XIV) Translated <from_time> and <to_time> to base-10 format\n",
      "            and added 192 records to final processed schedule file\n",
      "Orphan schedules data for further processing in ./data/processed/stage-1/orphan_scheds.csv\n",
      "Finished processing. The final schedule has 192 records\n"
     ]
    }
   ],
   "source": [
    "# Set up defaults\n",
    "raw_data_dir_path ='./data/raw/'\n",
    "stage_1_data_dir_path = './data/processed/stage-1'\n",
    "processed_data_dir_path = './data/processed'\n",
    "tz = pytz.timezone('Asia/Calcutta')\n",
    "\n",
    "# File to collect schedules that can't be processed\n",
    "orphan_file = Path('./data/processed/stage-1/orphan_scheds.csv')\n",
    "if orphan_file.exists(): orphan_file_flag = 'y'\n",
    "else: orphan_file_flag = 'n'\n",
    "\n",
    "# Getting list of files in the directory\n",
    "_, _, stage_1_file_names = next(os.walk(stage_1_data_dir_path))\n",
    "\n",
    "# Retaining only CSV files from stage-1 data\n",
    "stage_1_file_names = [value for value in stage_1_file_names if '.csv' in value]\n",
    "\n",
    "stage_1_file_names = ['Vistara.csv']\n",
    "\n",
    "# Processing individual files\n",
    "for file_name in stage_1_file_names:\n",
    "    print('\\nProcessing for %s' % file_name.split('.')[0])\n",
    "    \n",
    "    readpath = stage_1_data_dir_path + '/' + file_name\n",
    "    dat = read_format_csv(readpath)\n",
    "    print('(Stage VI) Read Stage-1 processed data: has %i records' % dat.shape[0])\n",
    "       \n",
    "    dat = drop_dummy_scheds(dat)\n",
    "    print('(Stage VII) Dropped dummy schedules: now has %i records' % dat.shape[0])\n",
    "    \n",
    "    dat = drop_noncurrent_scheds(dat, tz)\n",
    "    print('(Stage VIII) Dropped non-current schedules: now has %i records' % dat.shape[0])\n",
    "    \n",
    "    dat = wrangle_frequency(dat)\n",
    "    dat = make_pairs(dat)\n",
    "    print('(Stage IX) Standardized <frequency> data')\n",
    "    print('           Paired the <from> and <to> legs of a schedule: now has %i records' % dat.shape[0])\n",
    "    \n",
    "    dat = merge_freq(dat)\n",
    "    dat = make_pairs(dat)\n",
    "    print('(Stage X) Merge schedules split only by frequency')\n",
    "    print('          Paired resultant <from> and <to> legs of a schedule: now has %i records' % dat.shape[0])\n",
    "    \n",
    "    dat = merge_freq(dat, 'y')\n",
    "    dat = make_pairs(dat)\n",
    "    print('(Stage XI) Merge schedules split by frequency but with human confirmation')\n",
    "    print('           Paired resultant <from> and <to> legs of a schedule: now has %i records' % dat.shape[0])\n",
    "    \n",
    "    dat = make_pairs(dat, 'y')\n",
    "    print('(Stage XII) Pair <from> and <to> legs of a schedule but with human confirmantion')\n",
    "    print('            : now has %i records' % dat.shape[0])\n",
    "    \n",
    "    if orphan_file_flag == 'y':\n",
    "        orphan_scheds = pd.read_csv(orphan_file, infer_datetime_format = True)\n",
    "    else:\n",
    "        orphan_scheds = pd.DataFrame(data = None, columns = dat.columns)\n",
    "        orphan_file_flag = 'y'\n",
    "        \n",
    "    dat, orphan_scheds, orphans = separate_orphan_scheds(dat, orphan_scheds)\n",
    "    print('(Stage XIII) Separated % i orphan schedules: now has %i records' % (orphans, dat.shape[0]))\n",
    "    \n",
    "    dat = to_base10_time(dat)\n",
    "    if file_name == stage_1_file_names[0]:\n",
    "        processed_scheds = dat\n",
    "    else :\n",
    "        processed_scheds = pd.concat([processed_scheds, dat], ignore_index = True)\n",
    "    \n",
    "    print('(Stage XIV) Translated <from_time> and <to_time> to base-10 format')\n",
    "    print('            and added %i records to final processed schedule file' % dat.shape[0])\n"
   ]
  },
  {
   "cell_type": "code",
   "execution_count": 119,
   "metadata": {},
   "outputs": [
    {
     "name": "stdout",
     "output_type": "stream",
     "text": [
      "\n",
      "Orphan schedules data for further processing in ./data/processed/stage-1/orphan_scheds.csv\n",
      "\n",
      "Finished processing. The final schedule has 192 records\n"
     ]
    }
   ],
   "source": [
    "orphan_scheds.to_csv(stage_1_data_dir_path + '/orphan_scheds.csv', index = False)\n",
    "print('\\nOrphan schedules data for further processing in %s' % (stage_1_data_dir_path + '/' + 'orphan_scheds.csv'))\n",
    "\n",
    "processed_scheds.to_csv(processed_data_dir_path + '/processed_scheds.csv', index = False, float_format = 'f0.2')\n",
    "print('\\nFinished processing. The final schedule has %i records' % processed_scheds.shape[0])"
   ]
  }
 ],
 "metadata": {
  "kernelspec": {
   "display_name": "Python 3",
   "language": "python",
   "name": "python3"
  },
  "language_info": {
   "codemirror_mode": {
    "name": "ipython",
    "version": 3
   },
   "file_extension": ".py",
   "mimetype": "text/x-python",
   "name": "python",
   "nbconvert_exporter": "python",
   "pygments_lexer": "ipython3",
   "version": "3.7.4"
  }
 },
 "nbformat": 4,
 "nbformat_minor": 4
}
