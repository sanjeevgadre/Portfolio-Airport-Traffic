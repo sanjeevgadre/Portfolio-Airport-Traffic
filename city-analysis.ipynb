{
 "cells": [
  {
   "cell_type": "markdown",
   "metadata": {},
   "source": [
    "### Libraries"
   ]
  },
  {
   "cell_type": "code",
   "execution_count": 103,
   "metadata": {},
   "outputs": [],
   "source": [
    "import numpy as np\n",
    "import pandas as pd\n",
    "import matplotlib.pyplot as plt\n",
    "import pickle"
   ]
  },
  {
   "cell_type": "markdown",
   "metadata": {},
   "source": [
    "### Get Data"
   ]
  },
  {
   "cell_type": "code",
   "execution_count": 183,
   "metadata": {},
   "outputs": [
    {
     "data": {
      "text/html": [
       "<div>\n",
       "<style scoped>\n",
       "    .dataframe tbody tr th:only-of-type {\n",
       "        vertical-align: middle;\n",
       "    }\n",
       "\n",
       "    .dataframe tbody tr th {\n",
       "        vertical-align: top;\n",
       "    }\n",
       "\n",
       "    .dataframe thead th {\n",
       "        text-align: right;\n",
       "    }\n",
       "</style>\n",
       "<table border=\"1\" class=\"dataframe\">\n",
       "  <thead>\n",
       "    <tr style=\"text-align: right;\">\n",
       "      <th></th>\n",
       "      <th>operator</th>\n",
       "      <th>flight</th>\n",
       "      <th>aircraft</th>\n",
       "      <th>frequency</th>\n",
       "      <th>from</th>\n",
       "      <th>from_time</th>\n",
       "      <th>to</th>\n",
       "      <th>to_time</th>\n",
       "      <th>eff_from</th>\n",
       "      <th>eff_to</th>\n",
       "    </tr>\n",
       "  </thead>\n",
       "  <tbody>\n",
       "    <tr>\n",
       "      <th>0</th>\n",
       "      <td>IND</td>\n",
       "      <td>6E 101</td>\n",
       "      <td>A 320</td>\n",
       "      <td>[1, 2, 3, 4, 5, 6, 7]</td>\n",
       "      <td>MAA</td>\n",
       "      <td>6.25</td>\n",
       "      <td>CJB</td>\n",
       "      <td>7.25</td>\n",
       "      <td>2019-10-27 00:00:00</td>\n",
       "      <td>2020-03-28 00:00:00</td>\n",
       "    </tr>\n",
       "    <tr>\n",
       "      <th>1</th>\n",
       "      <td>IND</td>\n",
       "      <td>6E 103</td>\n",
       "      <td>A 320</td>\n",
       "      <td>[1, 2, 3, 4, 5, 6, 7]</td>\n",
       "      <td>PNQ</td>\n",
       "      <td>22.33</td>\n",
       "      <td>BLR</td>\n",
       "      <td>0.08</td>\n",
       "      <td>2019-10-27 00:00:00</td>\n",
       "      <td>2020-03-28 00:00:00</td>\n",
       "    </tr>\n",
       "    <tr>\n",
       "      <th>2</th>\n",
       "      <td>IND</td>\n",
       "      <td>6E 104</td>\n",
       "      <td>A 320</td>\n",
       "      <td>[1, 2, 3, 4, 5, 6, 7]</td>\n",
       "      <td>HYD</td>\n",
       "      <td>8.17</td>\n",
       "      <td>ATQ</td>\n",
       "      <td>11</td>\n",
       "      <td>2019-10-27 00:00:00</td>\n",
       "      <td>2020-03-28 00:00:00</td>\n",
       "    </tr>\n",
       "    <tr>\n",
       "      <th>3</th>\n",
       "      <td>IND</td>\n",
       "      <td>6E 105</td>\n",
       "      <td>A 320</td>\n",
       "      <td>[1, 2, 3, 4, 5, 7]</td>\n",
       "      <td>PNQ</td>\n",
       "      <td>17.33</td>\n",
       "      <td>BLR</td>\n",
       "      <td>18.92</td>\n",
       "      <td>2019-10-27 00:00:00</td>\n",
       "      <td>2020-03-28 00:00:00</td>\n",
       "    </tr>\n",
       "    <tr>\n",
       "      <th>4</th>\n",
       "      <td>IND</td>\n",
       "      <td>6E 105</td>\n",
       "      <td>A 320</td>\n",
       "      <td>[1, 2, 3, 4, 5, 7]</td>\n",
       "      <td>DEL</td>\n",
       "      <td>14.75</td>\n",
       "      <td>PNQ</td>\n",
       "      <td>16.83</td>\n",
       "      <td>2019-10-27 00:00:00</td>\n",
       "      <td>2020-03-27 00:00:00</td>\n",
       "    </tr>\n",
       "  </tbody>\n",
       "</table>\n",
       "</div>"
      ],
      "text/plain": [
       "  operator  flight aircraft              frequency from from_time   to  \\\n",
       "0      IND  6E 101    A 320  [1, 2, 3, 4, 5, 6, 7]  MAA      6.25  CJB   \n",
       "1      IND  6E 103    A 320  [1, 2, 3, 4, 5, 6, 7]  PNQ     22.33  BLR   \n",
       "2      IND  6E 104    A 320  [1, 2, 3, 4, 5, 6, 7]  HYD      8.17  ATQ   \n",
       "3      IND  6E 105    A 320     [1, 2, 3, 4, 5, 7]  PNQ     17.33  BLR   \n",
       "4      IND  6E 105    A 320     [1, 2, 3, 4, 5, 7]  DEL     14.75  PNQ   \n",
       "\n",
       "  to_time             eff_from               eff_to  \n",
       "0    7.25  2019-10-27 00:00:00  2020-03-28 00:00:00  \n",
       "1    0.08  2019-10-27 00:00:00  2020-03-28 00:00:00  \n",
       "2      11  2019-10-27 00:00:00  2020-03-28 00:00:00  \n",
       "3   18.92  2019-10-27 00:00:00  2020-03-28 00:00:00  \n",
       "4   16.83  2019-10-27 00:00:00  2020-03-27 00:00:00  "
      ]
     },
     "execution_count": 183,
     "metadata": {},
     "output_type": "execute_result"
    }
   ],
   "source": [
    "with open('./data/processed/codes_to_city_dict.txt', 'rb') as handle:\n",
    "    codes_to_city = pickle.loads(handle.read()) # Dictionary mapping IATA codes to city names\n",
    "dat = pd.read_pickle('./data/processed/final/all-sched.pkl')\n",
    "dat.head()"
   ]
  },
  {
   "cell_type": "markdown",
   "metadata": {},
   "source": [
    "#### Overview"
   ]
  },
  {
   "cell_type": "code",
   "execution_count": 184,
   "metadata": {},
   "outputs": [
    {
     "name": "stdout",
     "output_type": "stream",
     "text": [
      "In a week, 9 operators run 21954 domestic flights flights into and out of 102 Indian cities.\n",
      "\n",
      "A flight departs from and arrives into a different city, so the 21954 flights result in\n",
      "43908 total arrivals and departures.\n"
     ]
    }
   ],
   "source": [
    "# Adding a column to the dataframe that translates the frequency information into weekly number of flights\n",
    "dat['weekly_flights'] = dat.apply(lambda row: len(row.frequency), axis = 1)\n",
    "n_flights = dat['weekly_flights'].sum()\n",
    "operators = dat['operator'].unique()\n",
    "n_operators = len(operators)\n",
    "cities = list(set(dat['from'].tolist() + dat['to'].tolist()))\n",
    "n_cities = len(cities)\n",
    "\n",
    "print('In a week, %i operators run %i domestic flights flights into and out of %i Indian cities.\\n' % \n",
    "      (n_operators, n_flights, n_cities))\n",
    "print('A flight departs from and arrives into a different city, so the %i flights result in' % n_flights)\n",
    "print('%i total arrivals and departures.' % (2*n_flights))"
   ]
  },
  {
   "cell_type": "markdown",
   "metadata": {},
   "source": [
    "#### Top Cities by Traffic"
   ]
  },
  {
   "cell_type": "markdown",
   "metadata": {},
   "source": [
    "Create a new dataframe that captures the total weekly flights (across all carriers) in and out of a city and infer the total number of flights (incoming and outgoing) at the city. Finally, arrange the rows in the descending order of the total number of flights.\n",
    "\n",
    "Identify the top cities that account for 80% of all flights."
   ]
  },
  {
   "cell_type": "code",
   "execution_count": 185,
   "metadata": {},
   "outputs": [
    {
     "name": "stdout",
     "output_type": "stream",
     "text": [
      "20 cities account for 80% of all arrivals and departures.\n",
      "\n",
      "Cities accounting for 80% of all arrivals and departures:\n",
      " ['New Delhi', 'Mumbai', 'Bangalore', 'Hyderabad', 'Kolkata', 'Chennai', 'Ahmedabad', 'Pune', 'Goa', 'Guwahati', 'Jaipur', 'Lucknow', 'Patna', 'Kochi', 'Bhubaneswar', 'Varanasi', 'Indore', 'Coimbatore', 'Bagdogra', 'Chandigarh']\n"
     ]
    },
    {
     "data": {
      "image/png": "[encoded data removed]",
      "text/plain": [
       "<Figure size 1296x720 with 1 Axes>"
      ]
     },
     "metadata": {
      "needs_background": "light"
     },
     "output_type": "display_data"
    }
   ],
   "source": [
    "flights_from = dat.groupby(['from'])['weekly_flights'].sum()\n",
    "flights_to = dat.groupby(['to'])['weekly_flights'].sum()\n",
    "city_weekly = pd.DataFrame(data = pd.concat([flights_from, flights_to], axis = 1, ignore_index = True))\n",
    "city_weekly = city_weekly.fillna(0, axis = 1, downcast = 'infer') # if there are no flights either from or \n",
    "                                                                  # to a city, replace NA by 0\n",
    "city_weekly = city_weekly.rename(columns = {0:'from', 1:'to'}, errors = 'raise')\n",
    "city_weekly['total'] = city_weekly.apply(lambda row : row['from'] + row['to'], axis = 1)\n",
    "city_weekly = city_weekly.sort_values(by = ['total'], ascending = False)\n",
    "\n",
    "city_weekly['%_of_total'] = round(city_weekly['total'].cumsum()/(2*n_flights), 2)\n",
    "\n",
    "top_cities_code = city_weekly.loc[city_weekly['%_of_total'] <= 0.8, :].index.tolist()\n",
    "top_cities = [codes_to_city[top_cities_code[i]] for i in range(len(top_cities_code))]\n",
    "\n",
    "print('%i cities account for 80%% of all arrivals and departures.\\n' % len(top_cities_code))\n",
    "print('Cities accounting for 80% of all arrivals and departures:\\n', top_cities)\n",
    "\n",
    "plt.figure(figsize = (18, 10))\n",
    "plt.bar(top_cities_code, city_weekly['total'][0:len(top_cities)])\n",
    "plt.title('Top Cities Accounting for 80% of all Arrivals and Departures', size = 18)\n",
    "plt.ylabel('Arrivals + Departures', size = 14)\n",
    "plt.show()"
   ]
  },
  {
   "cell_type": "markdown",
   "metadata": {},
   "source": [
    "#### Day of Week Variations Across Top Cities"
   ]
  },
  {
   "cell_type": "markdown",
   "metadata": {},
   "source": [
    "<ol>\n",
    "    <li>Only consider schedules that either begin or end at one of the top cities.\n",
    "    <li>Keep only columns that are required for analysis - 'frequency', 'from', 'to'.\n",
    "    <li>One-hot encode frequency: Create 7 new columns, one for each day of the week and if a particular schedule flies on a given day of the week, set value in the appropriate column to True.\n",
    "    <li>For the top 20 cities, find the total arrivals and departures for every day of the week.\n",
    "    <li>Plot for each city the total arrivals and departures for every day of the week.\n",
    "</ol>"
   ]
  },
  {
   "cell_type": "code",
   "execution_count": 194,
   "metadata": {},
   "outputs": [
    {
     "name": "stderr",
     "output_type": "stream",
     "text": [
      "/home/sanjeev/anaconda3/envs/airtraffic/lib/python3.7/site-packages/ipykernel_launcher.py:14: SettingWithCopyWarning: \n",
      "A value is trying to be set on a copy of a slice from a DataFrame\n",
      "\n",
      "See the caveats in the documentation: https://pandas.pydata.org/pandas-docs/stable/user_guide/indexing.html#returning-a-view-versus-a-copy\n",
      "  \n"
     ]
    }
   ],
   "source": [
    "# Step 1 and 2\n",
    "idx = [i for i in range(dat.shape[0]) if dat['from'][i] in top_cities_code or dat['to'][i] in top_cities_code]\n",
    "new_dat = dat.iloc[idx, :]\n",
    "new_dat = new_dat.loc[:, ['frequency', 'from', 'to']]\n",
    "new_dat = new_dat.reset_index(drop = True)\n",
    "\n",
    "# Step 3\n",
    "for i in range(1, 8, 1):\n",
    "    col_name = 'day_' + str(i)\n",
    "    new_dat[col_name] = False\n",
    "for i in range(new_dat.shape[0]):\n",
    "    for j in range(1, 8, 1):\n",
    "        if j in new_dat['frequency'][i]:\n",
    "            col_name = 'day_' + str(j)\n",
    "            new_dat[col_name][i] = True\n",
    "\n",
    "#Step 4\n",
    "city_by_day = pd.DataFrame(data = None, columns = ['day_1', 'day_2', 'day_3', 'day_4', 'day_5', \n",
    "                                                   'day_6', 'day_7', ])\n",
    "for i in range(1, 8, 1):\n",
    "    col_name = 'day_' + str(i)\n",
    "    from_ = new_dat.groupby(['from'])[col_name].sum()\n",
    "    to_ = new_dat.groupby(['to'])[col_name].sum()\n",
    "    total_ = from_ + to_\n",
    "    city_by_day[col_name] = total_\n",
    "idx = [i for i in range(city_by_day.shape[0]) if city_by_day.index[i] in top_cities_code]\n",
    "city_by_day = city_by_day.iloc[idx, :]\n",
    "city_by_day = city_by_day.reset_index()\n",
    "city_by_day = city_by_day.rename(columns = {'index' : 'city', 'day_1' : 'MON', 'day_2' : 'TUE', \n",
    "                                            'day_3' : 'WED', 'day_4' : 'THU', 'day_5' : 'FRI', \n",
    "                                            'day_6' : 'SAT', 'day_7' : 'SUN'})\n",
    "\n",
    "#Step 5"
   ]
  },
  {
   "cell_type": "code",
   "execution_count": null,
   "metadata": {},
   "outputs": [],
   "source": []
  }
 ],
 "metadata": {
  "kernelspec": {
   "display_name": "Python 3",
   "language": "python",
   "name": "python3"
  },
  "language_info": {
   "codemirror_mode": {
    "name": "ipython",
    "version": 3
   },
   "file_extension": ".py",
   "mimetype": "text/x-python",
   "name": "python",
   "nbconvert_exporter": "python",
   "pygments_lexer": "ipython3",
   "version": "3.7.6"
  }
 },
 "nbformat": 4,
 "nbformat_minor": 4
}
