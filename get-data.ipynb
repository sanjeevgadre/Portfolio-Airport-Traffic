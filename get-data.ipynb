{
 "cells": [
  {
   "cell_type": "code",
   "execution_count": 3,
   "metadata": {},
   "outputs": [],
   "source": [
    "import numpy as np\n",
    "import pandas as pd\n",
    "import os"
   ]
  },
  {
   "cell_type": "markdown",
   "metadata": {},
   "source": [
    "Reading the schedule details for each carrier, stored in separate files and concatenating all files into a single data file called dat."
   ]
  },
  {
   "cell_type": "code",
   "execution_count": 4,
   "metadata": {},
   "outputs": [
    {
     "data": {
      "text/plain": [
       "(10413, 11)"
      ]
     },
     "execution_count": 4,
     "metadata": {},
     "output_type": "execute_result"
    }
   ],
   "source": [
    "dir_path = './raw-data/Excel/'\n",
    "\n",
    "# Getting list of files in the directory\n",
    "_, _, file_names = next(os.walk(dir_path)) \n",
    "\n",
    "# Retaining only Excel files\n",
    "file_names = [i for i in file_names if '.xlsx' in i]\n",
    "\n",
    "# Setting the column names for the data file\n",
    "col_names = ['num', 'flight', 'operator', 'aircraft', 'frequency', 'from', 'time_at_to', 'to', 'time_at_from', \n",
    "             'eff_from', 'eff_to']\n",
    "\n",
    "# Reading the first file\n",
    "dat = pd.read_excel(dir_path + file_names[0], na_filter = False, convert_float = False, names = col_names)\n",
    "\n",
    "# Reading the remaining files, one at a time, and concatenating to form a single dataframe\n",
    "for i in range(1, len(file_names)):\n",
    "    tmp = pd.read_excel(dir_path + file_names[i], na_filter = False, convert_float = False, names = col_names)\n",
    "    dat = dat.append(tmp)\n",
    "    \n",
    "dat = dat.reset_index() # resetting the index\n",
    "dat = dat.drop('index', axis = 1) # dropping the previous index\n",
    "\n",
    "dat.shape"
   ]
  },
  {
   "cell_type": "code",
   "execution_count": 5,
   "metadata": {},
   "outputs": [],
   "source": [
    "def wrangle_rows(df):\n",
    "    # dropping superflows header rows\n",
    "    \n",
    "    r_drop_idx = [i for i in range(df.shape[0]) if ((not isinstance(df.iloc[i, 0], float)) and \n",
    "                                                    (df.iloc[i, 4] == 'Frequency'))]\n",
    "      \n",
    "    df = df.drop(r_drop_idx, axis = 0)\n",
    "    \n",
    "    df = df.reset_index() # resetting the index after dropping rows\n",
    "    df = df.drop('index', axis = 1) # dropping the previous index\n",
    "    \n",
    "    # dropping city names subheader rows\n",
    "    r_drop_idx = [i for i in range(df.shape[0]) if isinstance(df.iloc[i, 0], str)]\n",
    "    \n",
    "    for i in range(len(r_drop_idx)-1):\n",
    "        df.iloc[r_drop_idx[i] + 1: r_drop_idx[i+1], 0] = df.iloc[r_drop_idx[i], 0]\n",
    "    \n",
    "    # Separately for the last sub-head in the list\n",
    "    df.iloc[r_drop_idx[-1] + 1: df.shape[0], 0] = df.iloc[r_drop_idx[-1], 0]\n",
    "        \n",
    "    df = df.drop(r_drop_idx, axis = 0) \n",
    "    df = df.reset_index() # resetting the index after dropping rows\n",
    "    df = df.drop('index', axis = 1) # dropping the previous index\n",
    "    \n",
    "    df = df.rename(columns = {'num': 'station'}, errors = 'raise')\n",
    "    \n",
    "    return df"
   ]
  },
  {
   "cell_type": "code",
   "execution_count": 6,
   "metadata": {},
   "outputs": [
    {
     "data": {
      "text/plain": [
       "(9876, 11)"
      ]
     },
     "execution_count": 6,
     "metadata": {},
     "output_type": "execute_result"
    }
   ],
   "source": [
    "dat = wrangle_rows(dat)\n",
    "dat.shape"
   ]
  },
  {
   "cell_type": "code",
   "execution_count": 7,
   "metadata": {},
   "outputs": [],
   "source": [
    "def wrangle_cols(df):\n",
    "    idx = df.loc[:,'from'] == ''\n",
    "    df.loc[idx, 'from'] = df.loc[idx, 'station']\n",
    "\n",
    "    idx = df.loc[:, 'to'] == ''\n",
    "    df.loc[idx, 'to'] = df.loc[idx, 'station']\n",
    "\n",
    "    df = df.drop(['station'], axis = 1)\n",
    "\n",
    "    return df"
   ]
  },
  {
   "cell_type": "code",
   "execution_count": 8,
   "metadata": {},
   "outputs": [
    {
     "data": {
      "text/plain": [
       "(9876, 10)"
      ]
     },
     "execution_count": 8,
     "metadata": {},
     "output_type": "execute_result"
    }
   ],
   "source": [
    "dat = wrangle_cols(dat)\n",
    "dat.shape"
   ]
  },
  {
   "cell_type": "code",
   "execution_count": 9,
   "metadata": {},
   "outputs": [],
   "source": [
    "def wrangle_city_names(df):\n",
    "    city_names = {'Delhi' : 'New Delhi', 'Bhubaneshwar' : 'Bhubaneswar',\n",
    "                  'Trivandrum' : 'Thiruvananthapuram', 'Pondicherry' : 'Puducherry',\n",
    "                  'Porbander' : 'Porbandar', 'Tirupathi' : 'Tirupati',\n",
    "                  'Tuticorin' : 'Thoothukudi', 'Vizag' : 'Visakhapatnam',\n",
    "                  'Cuddapah': 'Kadapa', 'Jalgoan' : 'Jalgaon',\n",
    "                  'Rajamundry' : 'Rajahmundry', 'Aizawal' : 'Aizawl',\n",
    "                  'Trichy' : 'Tiruchirappally', 'Bathinda' : 'Bhatinda',\n",
    "                  'Passighat' : 'Pasighat'}\n",
    "    \n",
    "    for i in range(df.shape[0]):\n",
    "        if df['from'][i] in list(city_names.keys()): df['from'][i] = city_names[df['from'][i]]\n",
    "        if df['to'][i] in list(city_names.keys()): df['to'][i] = city_names[df['to'][i]]\n",
    "\n",
    "    return df\n",
    "    "
   ]
  },
  {
   "cell_type": "code",
   "execution_count": 10,
   "metadata": {},
   "outputs": [
    {
     "data": {
      "text/plain": [
       "(9876, 10)"
      ]
     },
     "execution_count": 10,
     "metadata": {},
     "output_type": "execute_result"
    }
   ],
   "source": [
    "dat = wrangle_city_names(dat)\n",
    "dat.shape"
   ]
  },
  {
   "cell_type": "code",
   "execution_count": 11,
   "metadata": {},
   "outputs": [],
   "source": [
    "# Creating Dictionaries <a> mapping city names to iata codes, and <b> mapping iata codes to city names\n",
    "\n",
    "city_codes = pd.read_csv('./raw-data/Excel/airports.csv')\n",
    "city_to_codes = dict(zip(city_codes.city, city_codes.iata_code))\n",
    "codes_to_city = dict(zip(city_codes.iata_code, city_codes.city))"
   ]
  },
  {
   "cell_type": "code",
   "execution_count": 12,
   "metadata": {},
   "outputs": [],
   "source": [
    "def wrangle_iata_codes(df):\n",
    "    idx = [i for i in range(df.shape[0]) if len(df['from'][i]) !=3]\n",
    "    for i in idx: df['from'][i] = city_to_codes[df['from'][i]]\n",
    "        \n",
    "    idx = [i for i in range(df.shape[0]) if len(df['to'][i]) !=3]\n",
    "    for i in idx: df['to'][i] = city_to_codes[df['to'][i]]\n",
    "        \n",
    "    return df"
   ]
  },
  {
   "cell_type": "code",
   "execution_count": 13,
   "metadata": {},
   "outputs": [
    {
     "data": {
      "text/plain": [
       "(9876, 10)"
      ]
     },
     "execution_count": 13,
     "metadata": {},
     "output_type": "execute_result"
    }
   ],
   "source": [
    "dat = wrangle_iata_codes(dat)\n",
    "dat.shape"
   ]
  },
  {
   "cell_type": "code",
   "execution_count": 14,
   "metadata": {},
   "outputs": [],
   "source": [
    "def drop_dummy_scheds(df):\n",
    "    idx = [i for i in range(df.shape[0]) if df['eff_from'][i] == df['eff_to'][i]]\n",
    "    df = df.drop(idx, axis = 0)\n",
    "    df = df.reset_index()\n",
    "    df = df.drop(['index'], axis = 1)\n",
    "    \n",
    "    return df"
   ]
  },
  {
   "cell_type": "code",
   "execution_count": 15,
   "metadata": {},
   "outputs": [
    {
     "data": {
      "text/plain": [
       "(9271, 10)"
      ]
     },
     "execution_count": 15,
     "metadata": {},
     "output_type": "execute_result"
    }
   ],
   "source": [
    "dat = drop_dummy_scheds(dat)\n",
    "dat.shape"
   ]
  },
  {
   "cell_type": "code",
   "execution_count": 16,
   "metadata": {},
   "outputs": [],
   "source": [
    "def drop_noncurrent_scheds(df, tz):\n",
    "    today = datetime.now(tz).date()\n",
    "    idx = [i for i in range(df.shape[0]) \n",
    "           if (today <=  datetime.date(df['eff_from'][i])) or (today >= datetime.date(df['eff_to'][i]))]\n",
    "    df = df.drop(idx, axis = 0)\n",
    "    df = df.reset_index()\n",
    "    df = df.drop('index', axis = 1)\n",
    "    \n",
    "    return df"
   ]
  },
  {
   "cell_type": "code",
   "execution_count": 17,
   "metadata": {},
   "outputs": [
    {
     "data": {
      "text/plain": [
       "(8286, 10)"
      ]
     },
     "execution_count": 17,
     "metadata": {},
     "output_type": "execute_result"
    }
   ],
   "source": [
    "from datetime import datetime\n",
    "import pytz\n",
    "\n",
    "tz = pytz.timezone('Asia/Calcutta')\n",
    "\n",
    "dat = drop_noncurrent_scheds(dat, tz)\n",
    "dat.shape"
   ]
  },
  {
   "cell_type": "code",
   "execution_count": 70,
   "metadata": {},
   "outputs": [],
   "source": []
  },
  {
   "cell_type": "code",
   "execution_count": 68,
   "metadata": {},
   "outputs": [
    {
     "ename": "KeyboardInterrupt",
     "evalue": "",
     "output_type": "error",
     "traceback": [
      "\u001b[0;31m---------------------------------------------------------------------------\u001b[0m",
      "\u001b[0;31mKeyboardInterrupt\u001b[0m                         Traceback (most recent call last)",
      "\u001b[0;32m<ipython-input-68-bc54b6c124c9>\u001b[0m in \u001b[0;36m<module>\u001b[0;34m\u001b[0m\n\u001b[1;32m      2\u001b[0m     \u001b[0;32mfor\u001b[0m \u001b[0mj\u001b[0m \u001b[0;32min\u001b[0m \u001b[0mrange\u001b[0m\u001b[0;34m(\u001b[0m\u001b[0mfoo\u001b[0m\u001b[0;34m.\u001b[0m\u001b[0mshape\u001b[0m\u001b[0;34m[\u001b[0m\u001b[0;36m0\u001b[0m\u001b[0;34m]\u001b[0m\u001b[0;34m)\u001b[0m\u001b[0;34m:\u001b[0m\u001b[0;34m\u001b[0m\u001b[0;34m\u001b[0m\u001b[0m\n\u001b[1;32m      3\u001b[0m         \u001b[0;32mif\u001b[0m \u001b[0;34m(\u001b[0m\u001b[0mj\u001b[0m \u001b[0;32mnot\u001b[0m \u001b[0;32min\u001b[0m \u001b[0mtrash_idx\u001b[0m\u001b[0;34m)\u001b[0m \u001b[0;32mand\u001b[0m \u001b[0;34m(\u001b[0m\u001b[0mj\u001b[0m \u001b[0;32mnot\u001b[0m \u001b[0;32min\u001b[0m \u001b[0midx\u001b[0m\u001b[0;34m)\u001b[0m\u001b[0;34m:\u001b[0m\u001b[0;34m\u001b[0m\u001b[0;34m\u001b[0m\u001b[0m\n\u001b[0;32m----> 4\u001b[0;31m             \u001b[0;32mif\u001b[0m \u001b[0;34m(\u001b[0m\u001b[0mfoo\u001b[0m\u001b[0;34m[\u001b[0m\u001b[0;34m'flight'\u001b[0m\u001b[0;34m]\u001b[0m\u001b[0;34m[\u001b[0m\u001b[0mi\u001b[0m\u001b[0;34m]\u001b[0m \u001b[0;34m==\u001b[0m \u001b[0mfoo\u001b[0m\u001b[0;34m[\u001b[0m\u001b[0;34m'flight'\u001b[0m\u001b[0;34m]\u001b[0m\u001b[0;34m[\u001b[0m\u001b[0mj\u001b[0m\u001b[0;34m]\u001b[0m\u001b[0;34m)\u001b[0m \u001b[0;32mand\u001b[0m \u001b[0;34m(\u001b[0m\u001b[0mfoo\u001b[0m\u001b[0;34m[\u001b[0m\u001b[0;34m'frequency'\u001b[0m\u001b[0;34m]\u001b[0m\u001b[0;34m[\u001b[0m\u001b[0mi\u001b[0m\u001b[0;34m]\u001b[0m \u001b[0;34m==\u001b[0m \u001b[0mfoo\u001b[0m\u001b[0;34m[\u001b[0m\u001b[0;34m'frequency'\u001b[0m\u001b[0;34m]\u001b[0m\u001b[0;34m[\u001b[0m\u001b[0mj\u001b[0m\u001b[0;34m]\u001b[0m\u001b[0;34m)\u001b[0m \u001b[0;32mand\u001b[0m \u001b[0;34m(\u001b[0m\u001b[0mfoo\u001b[0m\u001b[0;34m[\u001b[0m\u001b[0;34m'from'\u001b[0m\u001b[0;34m]\u001b[0m\u001b[0;34m[\u001b[0m\u001b[0mi\u001b[0m\u001b[0;34m]\u001b[0m \u001b[0;34m==\u001b[0m \u001b[0mfoo\u001b[0m\u001b[0;34m[\u001b[0m\u001b[0;34m'from'\u001b[0m\u001b[0;34m]\u001b[0m\u001b[0;34m[\u001b[0m\u001b[0mj\u001b[0m\u001b[0;34m]\u001b[0m\u001b[0;34m)\u001b[0m \u001b[0;32mand\u001b[0m \u001b[0;34m(\u001b[0m\u001b[0mfoo\u001b[0m\u001b[0;34m[\u001b[0m\u001b[0;34m'to'\u001b[0m\u001b[0;34m]\u001b[0m\u001b[0;34m[\u001b[0m\u001b[0mi\u001b[0m\u001b[0;34m]\u001b[0m \u001b[0;34m==\u001b[0m \u001b[0mfoo\u001b[0m\u001b[0;34m[\u001b[0m\u001b[0;34m'to'\u001b[0m\u001b[0;34m]\u001b[0m\u001b[0;34m[\u001b[0m\u001b[0mj\u001b[0m\u001b[0;34m]\u001b[0m\u001b[0;34m)\u001b[0m\u001b[0;34m:\u001b[0m\u001b[0;34m\u001b[0m\u001b[0;34m\u001b[0m\u001b[0m\n\u001b[0m\u001b[1;32m      5\u001b[0m                 \u001b[0mtrash_idx\u001b[0m\u001b[0;34m.\u001b[0m\u001b[0mappend\u001b[0m\u001b[0;34m(\u001b[0m\u001b[0mj\u001b[0m\u001b[0;34m)\u001b[0m\u001b[0;34m\u001b[0m\u001b[0;34m\u001b[0m\u001b[0m\n\u001b[1;32m      6\u001b[0m                 \u001b[0mfoo\u001b[0m\u001b[0;34m[\u001b[0m\u001b[0;34m'time_at_from'\u001b[0m\u001b[0;34m]\u001b[0m\u001b[0;34m[\u001b[0m\u001b[0mi\u001b[0m\u001b[0;34m]\u001b[0m \u001b[0;34m=\u001b[0m \u001b[0mfoo\u001b[0m\u001b[0;34m[\u001b[0m\u001b[0;34m'time_at_from'\u001b[0m\u001b[0;34m]\u001b[0m\u001b[0;34m[\u001b[0m\u001b[0mj\u001b[0m\u001b[0;34m]\u001b[0m\u001b[0;34m\u001b[0m\u001b[0;34m\u001b[0m\u001b[0m\n",
      "\u001b[0;32m~/anaconda3/envs/airtraffic/lib/python3.7/site-packages/pandas/core/series.py\u001b[0m in \u001b[0;36m__getitem__\u001b[0;34m(self, key)\u001b[0m\n\u001b[1;32m    869\u001b[0m         \u001b[0mkey\u001b[0m \u001b[0;34m=\u001b[0m \u001b[0mcom\u001b[0m\u001b[0;34m.\u001b[0m\u001b[0mapply_if_callable\u001b[0m\u001b[0;34m(\u001b[0m\u001b[0mkey\u001b[0m\u001b[0;34m,\u001b[0m \u001b[0mself\u001b[0m\u001b[0;34m)\u001b[0m\u001b[0;34m\u001b[0m\u001b[0;34m\u001b[0m\u001b[0m\n\u001b[1;32m    870\u001b[0m         \u001b[0;32mtry\u001b[0m\u001b[0;34m:\u001b[0m\u001b[0;34m\u001b[0m\u001b[0;34m\u001b[0m\u001b[0m\n\u001b[0;32m--> 871\u001b[0;31m             \u001b[0mresult\u001b[0m \u001b[0;34m=\u001b[0m \u001b[0mself\u001b[0m\u001b[0;34m.\u001b[0m\u001b[0mindex\u001b[0m\u001b[0;34m.\u001b[0m\u001b[0mget_value\u001b[0m\u001b[0;34m(\u001b[0m\u001b[0mself\u001b[0m\u001b[0;34m,\u001b[0m \u001b[0mkey\u001b[0m\u001b[0;34m)\u001b[0m\u001b[0;34m\u001b[0m\u001b[0;34m\u001b[0m\u001b[0m\n\u001b[0m\u001b[1;32m    872\u001b[0m \u001b[0;34m\u001b[0m\u001b[0m\n\u001b[1;32m    873\u001b[0m             \u001b[0;32mif\u001b[0m \u001b[0;32mnot\u001b[0m \u001b[0mis_scalar\u001b[0m\u001b[0;34m(\u001b[0m\u001b[0mresult\u001b[0m\u001b[0;34m)\u001b[0m\u001b[0;34m:\u001b[0m\u001b[0;34m\u001b[0m\u001b[0;34m\u001b[0m\u001b[0m\n",
      "\u001b[0;32m~/anaconda3/envs/airtraffic/lib/python3.7/site-packages/pandas/core/indexes/base.py\u001b[0m in \u001b[0;36mget_value\u001b[0;34m(self, series, key)\u001b[0m\n\u001b[1;32m   4403\u001b[0m         \u001b[0mk\u001b[0m \u001b[0;34m=\u001b[0m \u001b[0mself\u001b[0m\u001b[0;34m.\u001b[0m\u001b[0m_convert_scalar_indexer\u001b[0m\u001b[0;34m(\u001b[0m\u001b[0mk\u001b[0m\u001b[0;34m,\u001b[0m \u001b[0mkind\u001b[0m\u001b[0;34m=\u001b[0m\u001b[0;34m\"getitem\"\u001b[0m\u001b[0;34m)\u001b[0m\u001b[0;34m\u001b[0m\u001b[0;34m\u001b[0m\u001b[0m\n\u001b[1;32m   4404\u001b[0m         \u001b[0;32mtry\u001b[0m\u001b[0;34m:\u001b[0m\u001b[0;34m\u001b[0m\u001b[0;34m\u001b[0m\u001b[0m\n\u001b[0;32m-> 4405\u001b[0;31m             \u001b[0;32mreturn\u001b[0m \u001b[0mself\u001b[0m\u001b[0;34m.\u001b[0m\u001b[0m_engine\u001b[0m\u001b[0;34m.\u001b[0m\u001b[0mget_value\u001b[0m\u001b[0;34m(\u001b[0m\u001b[0ms\u001b[0m\u001b[0;34m,\u001b[0m \u001b[0mk\u001b[0m\u001b[0;34m,\u001b[0m \u001b[0mtz\u001b[0m\u001b[0;34m=\u001b[0m\u001b[0mgetattr\u001b[0m\u001b[0;34m(\u001b[0m\u001b[0mseries\u001b[0m\u001b[0;34m.\u001b[0m\u001b[0mdtype\u001b[0m\u001b[0;34m,\u001b[0m \u001b[0;34m\"tz\"\u001b[0m\u001b[0;34m,\u001b[0m \u001b[0;32mNone\u001b[0m\u001b[0;34m)\u001b[0m\u001b[0;34m)\u001b[0m\u001b[0;34m\u001b[0m\u001b[0;34m\u001b[0m\u001b[0m\n\u001b[0m\u001b[1;32m   4406\u001b[0m         \u001b[0;32mexcept\u001b[0m \u001b[0mKeyError\u001b[0m \u001b[0;32mas\u001b[0m \u001b[0me1\u001b[0m\u001b[0;34m:\u001b[0m\u001b[0;34m\u001b[0m\u001b[0;34m\u001b[0m\u001b[0m\n\u001b[1;32m   4407\u001b[0m             \u001b[0;32mif\u001b[0m \u001b[0mlen\u001b[0m\u001b[0;34m(\u001b[0m\u001b[0mself\u001b[0m\u001b[0;34m)\u001b[0m \u001b[0;34m>\u001b[0m \u001b[0;36m0\u001b[0m \u001b[0;32mand\u001b[0m \u001b[0;34m(\u001b[0m\u001b[0mself\u001b[0m\u001b[0;34m.\u001b[0m\u001b[0mholds_integer\u001b[0m\u001b[0;34m(\u001b[0m\u001b[0;34m)\u001b[0m \u001b[0;32mor\u001b[0m \u001b[0mself\u001b[0m\u001b[0;34m.\u001b[0m\u001b[0mis_boolean\u001b[0m\u001b[0;34m(\u001b[0m\u001b[0;34m)\u001b[0m\u001b[0;34m)\u001b[0m\u001b[0;34m:\u001b[0m\u001b[0;34m\u001b[0m\u001b[0;34m\u001b[0m\u001b[0m\n",
      "\u001b[0;31mKeyboardInterrupt\u001b[0m: "
     ]
    }
   ],
   "source": []
  },
  {
   "cell_type": "code",
   "execution_count": 101,
   "metadata": {},
   "outputs": [
    {
     "name": "stdout",
     "output_type": "stream",
     "text": [
      "(2760, 10)\n",
      "    flight operator aircraft frequency from time_at_to   to time_at_from  \\\n",
      "0   UK 939       UK    A 320     Daily  DEL       6:25  AMD                \n",
      "1   UK 936       UK    A 320     Daily  AMD             DEL         7:05   \n",
      "7   UK 966       UK    A 320     Daily  AMD             DEL        20:15   \n",
      "8   UK 691       UK    A 320     Daily  DEL      12:50  ATQ                \n",
      "9   UK 508       UK    A 320     Daily  ATQ             DEL        13:25   \n",
      "10  UK 976       UK    A 320     Daily  DEL      14:50  ATQ                \n",
      "11  UK 507       UK    A 320     Daily  DEL      15:05  ATQ                \n",
      "13  UK 692       UK    A 320     Daily  ATQ             DEL        15:40   \n",
      "22  UK 845       UK    B 738     Daily  BOM       7:35  BLR                \n",
      "23  UK 846       UK    B 738     Daily  BLR             BOM         8:20   \n",
      "30  UK 815       UK    B 738    134567  DEL      10:50  BLR                \n",
      "31  UK 815       UK    B 738         2  DEL      10:50  BLR                \n",
      "36  UK 816       UK    B 738    134567  BLR             DEL        11:30   \n",
      "37  UK 816       UK    B 738         2  BLR             DEL        11:30   \n",
      "42  UK 805       UK    B 738     Daily  DEL      17:05  BLR                \n",
      "43  UK 806       UK    B 738     Daily  BLR             DEL        17:35   \n",
      "58  UK 807       UK    A 320     Daily  DEL      21:10  BLR                \n",
      "61  UK 808       UK    A 320     Daily  BLR             DEL        21:45   \n",
      "63  UK 819       UK    A 320     Daily  DEL      23:20  BLR                \n",
      "68  UK 781       UK    A 320     Daily  DEL      20:00  BBI                \n",
      "70  UK 667       UK    A 320    123456  DEL       8:15  IXC                \n",
      "71  UK 668       UK    A 320    123456  IXC             DEL         8:50   \n",
      "85  UK 822       UK    A 320     Daily  MAA             IXZ         8:40   \n",
      "89  UK 765       UK    A 320     Daily  MAA             IXZ        11:10   \n",
      "92  UK 866       UK    A 320     Daily  IXZ      13:35  MAA                \n",
      "\n",
      "               eff_from               eff_to  \n",
      "0   2019-11-25 00:00:00  2020-03-28 00:00:00  \n",
      "1   2019-11-25 00:00:00  2020-03-28 00:00:00  \n",
      "7   2019-10-27 00:00:00  2020-03-28 00:00:00  \n",
      "8   2019-10-27 00:00:00  2020-03-28 00:00:00  \n",
      "9   2019-10-27 00:00:00  2020-03-28 00:00:00  \n",
      "10  2019-10-27 00:00:00  2020-03-28 00:00:00  \n",
      "11  2019-10-27 00:00:00  2020-03-28 00:00:00  \n",
      "13  2019-10-27 00:00:00  2020-03-28 00:00:00  \n",
      "22  2019-10-27 00:00:00  2020-03-28 00:00:00  \n",
      "23  2019-10-27 00:00:00  2020-03-28 00:00:00  \n",
      "30  2019-10-27 00:00:00  2020-03-28 00:00:00  \n",
      "31  2019-10-27 00:00:00  2020-03-28 00:00:00  \n",
      "36  2019-10-27 00:00:00  2020-03-28 00:00:00  \n",
      "37  2019-10-27 00:00:00  2020-03-28 00:00:00  \n",
      "42  2019-11-15 00:00:00  2020-03-28 00:00:00  \n",
      "43  2019-11-15 00:00:00  2020-03-28 00:00:00  \n",
      "58  2019-11-15 00:00:00  2020-03-28 00:00:00  \n",
      "61  2019-11-15 00:00:00  2020-03-28 00:00:00  \n",
      "63  2019-10-27 00:00:00  2020-03-28 00:00:00  \n",
      "68  2019-10-27 00:00:00  2020-03-28 00:00:00  \n",
      "70  2019-10-28 00:00:00  2020-03-28 00:00:00  \n",
      "71  2019-10-28 00:00:00  2020-03-28 00:00:00  \n",
      "85  2019-12-01 00:00:00  2020-03-28 00:00:00  \n",
      "89  2019-11-20 00:00:00  2020-03-28 00:00:00  \n",
      "92  2019-10-27 00:00:00  2020-03-28 00:00:00  \n"
     ]
    }
   ],
   "source": [
    "foo = dat.copy()\n",
    "\n",
    "foo = foo.drop_duplicates(['flight', 'frequency', 'from', 'to'], keep = False)\n",
    "print(foo.shape)\n",
    "print(foo.head(25))"
   ]
  },
  {
   "cell_type": "code",
   "execution_count": 82,
   "metadata": {},
   "outputs": [
    {
     "data": {
      "text/html": [
       "<div>\n",
       "<style scoped>\n",
       "    .dataframe tbody tr th:only-of-type {\n",
       "        vertical-align: middle;\n",
       "    }\n",
       "\n",
       "    .dataframe tbody tr th {\n",
       "        vertical-align: top;\n",
       "    }\n",
       "\n",
       "    .dataframe thead th {\n",
       "        text-align: right;\n",
       "    }\n",
       "</style>\n",
       "<table border=\"1\" class=\"dataframe\">\n",
       "  <thead>\n",
       "    <tr style=\"text-align: right;\">\n",
       "      <th></th>\n",
       "      <th>flight</th>\n",
       "      <th>operator</th>\n",
       "      <th>aircraft</th>\n",
       "      <th>frequency</th>\n",
       "      <th>from</th>\n",
       "      <th>time_at_to</th>\n",
       "      <th>to</th>\n",
       "      <th>time_at_from</th>\n",
       "      <th>eff_from</th>\n",
       "      <th>eff_to</th>\n",
       "    </tr>\n",
       "  </thead>\n",
       "  <tbody>\n",
       "    <tr>\n",
       "      <th>2</th>\n",
       "      <td>UK 959</td>\n",
       "      <td>UK</td>\n",
       "      <td>A 320</td>\n",
       "      <td>Daily</td>\n",
       "      <td>DEL</td>\n",
       "      <td>8:00</td>\n",
       "      <td>AMD</td>\n",
       "      <td></td>\n",
       "      <td>2019-10-27 00:00:00</td>\n",
       "      <td>2020-03-28 00:00:00</td>\n",
       "    </tr>\n",
       "    <tr>\n",
       "      <th>3</th>\n",
       "      <td>UK 946</td>\n",
       "      <td>UK</td>\n",
       "      <td>A 320</td>\n",
       "      <td>Daily</td>\n",
       "      <td>AMD</td>\n",
       "      <td></td>\n",
       "      <td>DEL</td>\n",
       "      <td>8:40</td>\n",
       "      <td>2019-10-27 00:00:00</td>\n",
       "      <td>2020-03-28 00:00:00</td>\n",
       "    </tr>\n",
       "    <tr>\n",
       "      <th>4</th>\n",
       "      <td>UK 979</td>\n",
       "      <td>UK</td>\n",
       "      <td>A 320</td>\n",
       "      <td>123456</td>\n",
       "      <td>DEL</td>\n",
       "      <td>10:20</td>\n",
       "      <td>AMD</td>\n",
       "      <td></td>\n",
       "      <td>2019-10-28 00:00:00</td>\n",
       "      <td>2020-03-28 00:00:00</td>\n",
       "    </tr>\n",
       "    <tr>\n",
       "      <th>5</th>\n",
       "      <td>UK 976</td>\n",
       "      <td>UK</td>\n",
       "      <td>A 320</td>\n",
       "      <td>123456</td>\n",
       "      <td>AMD</td>\n",
       "      <td></td>\n",
       "      <td>DEL</td>\n",
       "      <td>10:55</td>\n",
       "      <td>2019-10-28 00:00:00</td>\n",
       "      <td>2020-03-28 00:00:00</td>\n",
       "    </tr>\n",
       "    <tr>\n",
       "      <th>6</th>\n",
       "      <td>UK 969</td>\n",
       "      <td>UK</td>\n",
       "      <td>A 320</td>\n",
       "      <td>Daily</td>\n",
       "      <td>DEL</td>\n",
       "      <td>19:40</td>\n",
       "      <td>AMD</td>\n",
       "      <td></td>\n",
       "      <td>2019-10-27 00:00:00</td>\n",
       "      <td>2020-03-28 00:00:00</td>\n",
       "    </tr>\n",
       "  </tbody>\n",
       "</table>\n",
       "</div>"
      ],
      "text/plain": [
       "   flight operator aircraft frequency from time_at_to   to time_at_from  \\\n",
       "2  UK 959       UK    A 320     Daily  DEL       8:00  AMD                \n",
       "3  UK 946       UK    A 320     Daily  AMD             DEL         8:40   \n",
       "4  UK 979       UK    A 320    123456  DEL      10:20  AMD                \n",
       "5  UK 976       UK    A 320    123456  AMD             DEL        10:55   \n",
       "6  UK 969       UK    A 320     Daily  DEL      19:40  AMD                \n",
       "\n",
       "              eff_from               eff_to  \n",
       "2  2019-10-27 00:00:00  2020-03-28 00:00:00  \n",
       "3  2019-10-27 00:00:00  2020-03-28 00:00:00  \n",
       "4  2019-10-28 00:00:00  2020-03-28 00:00:00  \n",
       "5  2019-10-28 00:00:00  2020-03-28 00:00:00  \n",
       "6  2019-10-27 00:00:00  2020-03-28 00:00:00  "
      ]
     },
     "execution_count": 82,
     "metadata": {},
     "output_type": "execute_result"
    }
   ],
   "source": [
    "bar.head()"
   ]
  },
  {
   "cell_type": "code",
   "execution_count": 98,
   "metadata": {},
   "outputs": [
    {
     "name": "stdout",
     "output_type": "stream",
     "text": [
      "(9271, 10)\n"
     ]
    },
    {
     "ename": "IndexError",
     "evalue": ".iloc requires numeric indexers, got [[(inf, 'Daily', 'SAG', 'BLR')\n       flight operator aircraft frequency from time_at_to   to time_at_from  \\\n6985    inf      IND   ATR 72     Daily  SAG             BLR        13:25   \n\n                 eff_from               eff_to  \n6985  2019-10-27 00:00:00  2020-03-28 00:00:00  ]\n [(inf, 'Daily', 'SAG', 'HYD')\n       flight operator aircraft frequency from time_at_to   to time_at_from  \\\n6983    inf      IND   ATR 72     Daily  SAG             HYD        12:55   \n6987    inf      IND   ATR 72     Daily  SAG             HYD        16:40   \n\n                 eff_from               eff_to  \n6983  2019-10-27 00:00:00  2020-03-28 00:00:00  \n6987  2019-10-27 00:00:00  2020-03-28 00:00:00  ]\n [(inf, 'Daily', 'SAG', 'IDR')\n       flight operator aircraft frequency from time_at_to   to time_at_from  \\\n6981    inf      IND   ATR 72     Daily  SAG             IDR         9:40   \n\n                 eff_from               eff_to  \n6981  2019-10-27 00:00:00  2020-03-28 00:00:00  ]\n ...\n [('UK 997', 'Daily', 'ATQ', 'DEL')\n       flight operator aircraft frequency from time_at_to   to time_at_from  \\\n12   UK 997       UK    A 320     Daily  ATQ             DEL        15:25   \n196  UK 997       UK    A 320     Daily  ATQ      16:40  DEL                \n\n                eff_from               eff_to  \n12   2019-10-27 00:00:00  2020-03-28 00:00:00  \n196  2019-10-27 00:00:00  2020-03-28 00:00:00  ]\n [('UK 997', 'Daily', 'DEL', 'PNQ')\n       flight operator aircraft frequency from time_at_to   to time_at_from  \\\n211  UK 997       UK    A 320     Daily  DEL             PNQ        17:35   \n446  UK 997       UK    A 320     Daily  DEL      19:40  PNQ                \n\n                eff_from               eff_to  \n211  2019-10-27 00:00:00  2020-03-28 00:00:00  \n446  2019-10-27 00:00:00  2020-03-28 00:00:00  ]\n [('UK 998', 123457.0, 'PNQ', 'DEL')\n       flight operator aircraft frequency from time_at_to   to time_at_from  \\\n445  UK 998       UK    A 320    123457  PNQ             DEL        16:55   \n\n                eff_from               eff_to  \n445  2019-10-27 00:00:00  2020-03-27 00:00:00  ]]",
     "output_type": "error",
     "traceback": [
      "\u001b[0;31m---------------------------------------------------------------------------\u001b[0m",
      "\u001b[0;31mIndexError\u001b[0m                                Traceback (most recent call last)",
      "\u001b[0;32m<ipython-input-98-88c955753438>\u001b[0m in \u001b[0;36m<module>\u001b[0;34m\u001b[0m\n\u001b[1;32m      2\u001b[0m \u001b[0mprint\u001b[0m\u001b[0;34m(\u001b[0m\u001b[0mfoo\u001b[0m\u001b[0;34m.\u001b[0m\u001b[0mshape\u001b[0m\u001b[0;34m)\u001b[0m\u001b[0;34m\u001b[0m\u001b[0;34m\u001b[0m\u001b[0m\n\u001b[1;32m      3\u001b[0m \u001b[0mbar\u001b[0m \u001b[0;34m=\u001b[0m \u001b[0mfoo\u001b[0m\u001b[0;34m.\u001b[0m\u001b[0mgroupby\u001b[0m\u001b[0;34m(\u001b[0m\u001b[0;34m[\u001b[0m\u001b[0;34m'flight'\u001b[0m\u001b[0;34m,\u001b[0m \u001b[0;34m'frequency'\u001b[0m\u001b[0;34m,\u001b[0m \u001b[0;34m'from'\u001b[0m\u001b[0;34m,\u001b[0m \u001b[0;34m'to'\u001b[0m\u001b[0;34m]\u001b[0m\u001b[0;34m)\u001b[0m\u001b[0;34m\u001b[0m\u001b[0;34m\u001b[0m\u001b[0m\n\u001b[0;32m----> 4\u001b[0;31m \u001b[0mfoo\u001b[0m\u001b[0;34m.\u001b[0m\u001b[0miloc\u001b[0m\u001b[0;34m[\u001b[0m\u001b[0mbar\u001b[0m\u001b[0;34m,\u001b[0m \u001b[0;34m:\u001b[0m\u001b[0;34m]\u001b[0m\u001b[0;34m\u001b[0m\u001b[0;34m\u001b[0m\u001b[0m\n\u001b[0m",
      "\u001b[0;32m~/anaconda3/envs/airtraffic/lib/python3.7/site-packages/pandas/core/indexing.py\u001b[0m in \u001b[0;36m__getitem__\u001b[0;34m(self, key)\u001b[0m\n\u001b[1;32m   1758\u001b[0m                 \u001b[0;32mexcept\u001b[0m \u001b[0;34m(\u001b[0m\u001b[0mKeyError\u001b[0m\u001b[0;34m,\u001b[0m \u001b[0mIndexError\u001b[0m\u001b[0;34m,\u001b[0m \u001b[0mAttributeError\u001b[0m\u001b[0;34m)\u001b[0m\u001b[0;34m:\u001b[0m\u001b[0;34m\u001b[0m\u001b[0;34m\u001b[0m\u001b[0m\n\u001b[1;32m   1759\u001b[0m                     \u001b[0;32mpass\u001b[0m\u001b[0;34m\u001b[0m\u001b[0;34m\u001b[0m\u001b[0m\n\u001b[0;32m-> 1760\u001b[0;31m             \u001b[0;32mreturn\u001b[0m \u001b[0mself\u001b[0m\u001b[0;34m.\u001b[0m\u001b[0m_getitem_tuple\u001b[0m\u001b[0;34m(\u001b[0m\u001b[0mkey\u001b[0m\u001b[0;34m)\u001b[0m\u001b[0;34m\u001b[0m\u001b[0;34m\u001b[0m\u001b[0m\n\u001b[0m\u001b[1;32m   1761\u001b[0m         \u001b[0;32melse\u001b[0m\u001b[0;34m:\u001b[0m\u001b[0;34m\u001b[0m\u001b[0;34m\u001b[0m\u001b[0m\n\u001b[1;32m   1762\u001b[0m             \u001b[0;31m# we by definition only have the 0th axis\u001b[0m\u001b[0;34m\u001b[0m\u001b[0;34m\u001b[0m\u001b[0;34m\u001b[0m\u001b[0m\n",
      "\u001b[0;32m~/anaconda3/envs/airtraffic/lib/python3.7/site-packages/pandas/core/indexing.py\u001b[0m in \u001b[0;36m_getitem_tuple\u001b[0;34m(self, tup)\u001b[0m\n\u001b[1;32m   2063\u001b[0m     \u001b[0;32mdef\u001b[0m \u001b[0m_getitem_tuple\u001b[0m\u001b[0;34m(\u001b[0m\u001b[0mself\u001b[0m\u001b[0;34m,\u001b[0m \u001b[0mtup\u001b[0m\u001b[0;34m:\u001b[0m \u001b[0mTuple\u001b[0m\u001b[0;34m)\u001b[0m\u001b[0;34m:\u001b[0m\u001b[0;34m\u001b[0m\u001b[0;34m\u001b[0m\u001b[0m\n\u001b[1;32m   2064\u001b[0m \u001b[0;34m\u001b[0m\u001b[0m\n\u001b[0;32m-> 2065\u001b[0;31m         \u001b[0mself\u001b[0m\u001b[0;34m.\u001b[0m\u001b[0m_has_valid_tuple\u001b[0m\u001b[0;34m(\u001b[0m\u001b[0mtup\u001b[0m\u001b[0;34m)\u001b[0m\u001b[0;34m\u001b[0m\u001b[0;34m\u001b[0m\u001b[0m\n\u001b[0m\u001b[1;32m   2066\u001b[0m         \u001b[0;32mtry\u001b[0m\u001b[0;34m:\u001b[0m\u001b[0;34m\u001b[0m\u001b[0;34m\u001b[0m\u001b[0m\n\u001b[1;32m   2067\u001b[0m             \u001b[0;32mreturn\u001b[0m \u001b[0mself\u001b[0m\u001b[0;34m.\u001b[0m\u001b[0m_getitem_lowerdim\u001b[0m\u001b[0;34m(\u001b[0m\u001b[0mtup\u001b[0m\u001b[0;34m)\u001b[0m\u001b[0;34m\u001b[0m\u001b[0;34m\u001b[0m\u001b[0m\n",
      "\u001b[0;32m~/anaconda3/envs/airtraffic/lib/python3.7/site-packages/pandas/core/indexing.py\u001b[0m in \u001b[0;36m_has_valid_tuple\u001b[0;34m(self, key)\u001b[0m\n\u001b[1;32m    700\u001b[0m                 \u001b[0;32mraise\u001b[0m \u001b[0mIndexingError\u001b[0m\u001b[0;34m(\u001b[0m\u001b[0;34m\"Too many indexers\"\u001b[0m\u001b[0;34m)\u001b[0m\u001b[0;34m\u001b[0m\u001b[0;34m\u001b[0m\u001b[0m\n\u001b[1;32m    701\u001b[0m             \u001b[0;32mtry\u001b[0m\u001b[0;34m:\u001b[0m\u001b[0;34m\u001b[0m\u001b[0;34m\u001b[0m\u001b[0m\n\u001b[0;32m--> 702\u001b[0;31m                 \u001b[0mself\u001b[0m\u001b[0;34m.\u001b[0m\u001b[0m_validate_key\u001b[0m\u001b[0;34m(\u001b[0m\u001b[0mk\u001b[0m\u001b[0;34m,\u001b[0m \u001b[0mi\u001b[0m\u001b[0;34m)\u001b[0m\u001b[0;34m\u001b[0m\u001b[0;34m\u001b[0m\u001b[0m\n\u001b[0m\u001b[1;32m    703\u001b[0m             \u001b[0;32mexcept\u001b[0m \u001b[0mValueError\u001b[0m\u001b[0;34m:\u001b[0m\u001b[0;34m\u001b[0m\u001b[0;34m\u001b[0m\u001b[0m\n\u001b[1;32m    704\u001b[0m                 raise ValueError(\n",
      "\u001b[0;32m~/anaconda3/envs/airtraffic/lib/python3.7/site-packages/pandas/core/indexing.py\u001b[0m in \u001b[0;36m_validate_key\u001b[0;34m(self, key, axis)\u001b[0m\n\u001b[1;32m   2001\u001b[0m             \u001b[0;31m# check that the key has a numeric dtype\u001b[0m\u001b[0;34m\u001b[0m\u001b[0;34m\u001b[0m\u001b[0;34m\u001b[0m\u001b[0m\n\u001b[1;32m   2002\u001b[0m             \u001b[0;32mif\u001b[0m \u001b[0;32mnot\u001b[0m \u001b[0mis_numeric_dtype\u001b[0m\u001b[0;34m(\u001b[0m\u001b[0marr\u001b[0m\u001b[0;34m.\u001b[0m\u001b[0mdtype\u001b[0m\u001b[0;34m)\u001b[0m\u001b[0;34m:\u001b[0m\u001b[0;34m\u001b[0m\u001b[0;34m\u001b[0m\u001b[0m\n\u001b[0;32m-> 2003\u001b[0;31m                 \u001b[0;32mraise\u001b[0m \u001b[0mIndexError\u001b[0m\u001b[0;34m(\u001b[0m\u001b[0;34mf\".iloc requires numeric indexers, got {arr}\"\u001b[0m\u001b[0;34m)\u001b[0m\u001b[0;34m\u001b[0m\u001b[0;34m\u001b[0m\u001b[0m\n\u001b[0m\u001b[1;32m   2004\u001b[0m \u001b[0;34m\u001b[0m\u001b[0m\n\u001b[1;32m   2005\u001b[0m             \u001b[0;31m# check that the key does not exceed the maximum size of the index\u001b[0m\u001b[0;34m\u001b[0m\u001b[0;34m\u001b[0m\u001b[0;34m\u001b[0m\u001b[0m\n",
      "\u001b[0;31mIndexError\u001b[0m: .iloc requires numeric indexers, got [[(inf, 'Daily', 'SAG', 'BLR')\n       flight operator aircraft frequency from time_at_to   to time_at_from  \\\n6985    inf      IND   ATR 72     Daily  SAG             BLR        13:25   \n\n                 eff_from               eff_to  \n6985  2019-10-27 00:00:00  2020-03-28 00:00:00  ]\n [(inf, 'Daily', 'SAG', 'HYD')\n       flight operator aircraft frequency from time_at_to   to time_at_from  \\\n6983    inf      IND   ATR 72     Daily  SAG             HYD        12:55   \n6987    inf      IND   ATR 72     Daily  SAG             HYD        16:40   \n\n                 eff_from               eff_to  \n6983  2019-10-27 00:00:00  2020-03-28 00:00:00  \n6987  2019-10-27 00:00:00  2020-03-28 00:00:00  ]\n [(inf, 'Daily', 'SAG', 'IDR')\n       flight operator aircraft frequency from time_at_to   to time_at_from  \\\n6981    inf      IND   ATR 72     Daily  SAG             IDR         9:40   \n\n                 eff_from               eff_to  \n6981  2019-10-27 00:00:00  2020-03-28 00:00:00  ]\n ...\n [('UK 997', 'Daily', 'ATQ', 'DEL')\n       flight operator aircraft frequency from time_at_to   to time_at_from  \\\n12   UK 997       UK    A 320     Daily  ATQ             DEL        15:25   \n196  UK 997       UK    A 320     Daily  ATQ      16:40  DEL                \n\n                eff_from               eff_to  \n12   2019-10-27 00:00:00  2020-03-28 00:00:00  \n196  2019-10-27 00:00:00  2020-03-28 00:00:00  ]\n [('UK 997', 'Daily', 'DEL', 'PNQ')\n       flight operator aircraft frequency from time_at_to   to time_at_from  \\\n211  UK 997       UK    A 320     Daily  DEL             PNQ        17:35   \n446  UK 997       UK    A 320     Daily  DEL      19:40  PNQ                \n\n                eff_from               eff_to  \n211  2019-10-27 00:00:00  2020-03-28 00:00:00  \n446  2019-10-27 00:00:00  2020-03-28 00:00:00  ]\n [('UK 998', 123457.0, 'PNQ', 'DEL')\n       flight operator aircraft frequency from time_at_to   to time_at_from  \\\n445  UK 998       UK    A 320    123457  PNQ             DEL        16:55   \n\n                eff_from               eff_to  \n445  2019-10-27 00:00:00  2020-03-27 00:00:00  ]]"
     ]
    }
   ],
   "source": [
    "foo = dat.copy()\n",
    "print(foo.shape)\n",
    "bar = foo.groupby(['flight', 'frequency', 'from', 'to'])\n",
    "foo.iloc[bar, :]\n"
   ]
  },
  {
   "cell_type": "code",
   "execution_count": 61,
   "metadata": {},
   "outputs": [],
   "source": [
    "dat.to_excel('./raw-data/clean-excel/dat.xlsx')"
   ]
  }
 ],
 "metadata": {
  "kernelspec": {
   "display_name": "Python 3",
   "language": "python",
   "name": "python3"
  },
  "language_info": {
   "codemirror_mode": {
    "name": "ipython",
    "version": 3
   },
   "file_extension": ".py",
   "mimetype": "text/x-python",
   "name": "python",
   "nbconvert_exporter": "python",
   "pygments_lexer": "ipython3",
   "version": "3.7.4"
  }
 },
 "nbformat": 4,
 "nbformat_minor": 4
}
